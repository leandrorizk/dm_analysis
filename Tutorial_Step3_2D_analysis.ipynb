{
 "cells": [
  {
   "cell_type": "code",
   "execution_count": 1,
   "id": "856dcd21",
   "metadata": {},
   "outputs": [
    {
     "name": "stdout",
     "output_type": "stream",
     "text": [
      "Welcome to JupyROOT 6.26/08\n"
     ]
    }
   ],
   "source": [
    "%load_ext autoreload\n",
    "%autoreload 2\n",
    "from DarkMatter import *"
   ]
  },
  {
   "cell_type": "code",
   "execution_count": 4,
   "id": "7b475e65",
   "metadata": {},
   "outputs": [
    {
     "name": "stdout",
     "output_type": "stream",
     "text": [
      "==================================================\n",
      "[Log] Package      : EventDisplay\n",
      "[Log] # of Dwarfs  : 17\n",
      "[Log] Channel      : ee\n",
      "[Log] Dimention    : 2\n",
      "[Log] Background   : Gaussian (gaus)\n",
      "[Log] Dispersion   : Etr vs ratio\n",
      "[Log] Minimum mass : 100 GeV\n",
      "[Log] Maximum mass : 32 TeV\n",
      "==================================================\n"
     ]
    },
    {
     "data": {
      "application/vnd.jupyter.widget-view+json": {
       "model_id": "96355cd71d3f4c57a901e75250b73a42",
       "version_major": 2,
       "version_minor": 0
      },
      "text/plain": [
       "  0%|          | 0/15 [00:00<?, ?it/s]"
      ]
     },
     "metadata": {},
     "output_type": "display_data"
    },
    {
     "name": "stdout",
     "output_type": "stream",
     "text": [
      "[Error] MIGRAD is NOT converged. Check initial parameters (minuit in mle.py).\n",
      "[Log] Upper limits are saved in '/Users/dtak/Research/DarkMatter/Output/nextP_2D_ee.npy'\n",
      "==================================================\n",
      "[Log] Package      : EventDisplay\n",
      "[Log] # of Dwarfs  : 17\n",
      "[Log] Channel      : uu\n",
      "[Log] Dimention    : 2\n",
      "[Log] Background   : Gaussian (gaus)\n",
      "[Log] Dispersion   : Etr vs ratio\n",
      "[Log] Minimum mass : 100 GeV\n",
      "[Log] Maximum mass : 32 TeV\n",
      "==================================================\n"
     ]
    },
    {
     "data": {
      "application/vnd.jupyter.widget-view+json": {
       "model_id": "99448fee36d742ac9fed7ebda83c2555",
       "version_major": 2,
       "version_minor": 0
      },
      "text/plain": [
       "  0%|          | 0/15 [00:00<?, ?it/s]"
      ]
     },
     "metadata": {},
     "output_type": "display_data"
    },
    {
     "name": "stdout",
     "output_type": "stream",
     "text": [
      "[Error] MIGRAD is NOT converged. Check initial parameters (minuit in mle.py).\n",
      "[Log] Upper limits are saved in '/Users/dtak/Research/DarkMatter/Output/nextP_2D_uu.npy'\n",
      "==================================================\n",
      "[Log] Package      : EventDisplay\n",
      "[Log] # of Dwarfs  : 17\n",
      "[Log] Channel      : tt\n",
      "[Log] Dimention    : 2\n",
      "[Log] Background   : Gaussian (gaus)\n",
      "[Log] Dispersion   : Etr vs ratio\n",
      "[Log] Minimum mass : 100 GeV\n",
      "[Log] Maximum mass : 32 TeV\n",
      "==================================================\n"
     ]
    },
    {
     "data": {
      "application/vnd.jupyter.widget-view+json": {
       "model_id": "39ecb31843de47d1829183fbcbf2f1bd",
       "version_major": 2,
       "version_minor": 0
      },
      "text/plain": [
       "  0%|          | 0/15 [00:00<?, ?it/s]"
      ]
     },
     "metadata": {},
     "output_type": "display_data"
    },
    {
     "name": "stdout",
     "output_type": "stream",
     "text": [
      "[Error] MIGRAD is NOT converged. Check initial parameters (minuit in mle.py).\n",
      "[Log] Upper limits are saved in '/Users/dtak/Research/DarkMatter/Output/nextP_2D_tt.npy'\n",
      "==================================================\n",
      "[Log] Package      : EventDisplay\n",
      "[Log] # of Dwarfs  : 17\n",
      "[Log] Channel      : ttbar\n",
      "[Log] Dimention    : 2\n",
      "[Log] Background   : Gaussian (gaus)\n",
      "[Log] Dispersion   : Etr vs ratio\n",
      "[Log] Minimum mass : 100 GeV\n",
      "[Log] Maximum mass : 32 TeV\n",
      "==================================================\n"
     ]
    },
    {
     "data": {
      "application/vnd.jupyter.widget-view+json": {
       "model_id": "0d2c0a903d6347b38e76e56ed7519925",
       "version_major": 2,
       "version_minor": 0
      },
      "text/plain": [
       "  0%|          | 0/15 [00:00<?, ?it/s]"
      ]
     },
     "metadata": {},
     "output_type": "display_data"
    },
    {
     "name": "stdout",
     "output_type": "stream",
     "text": [
      "[Error] MIGRAD is NOT converged. Check initial parameters (minuit in mle.py).\n",
      "[Error] MIGRAD is NOT converged. Check initial parameters (minuit in mle.py).\n",
      "[Log] Upper limits are saved in '/Users/dtak/Research/DarkMatter/Output/nextP_2D_ttbar.npy'\n",
      "==================================================\n",
      "[Log] Package      : EventDisplay\n",
      "[Log] # of Dwarfs  : 17\n",
      "[Log] Channel      : bbar\n",
      "[Log] Dimention    : 2\n",
      "[Log] Background   : Gaussian (gaus)\n",
      "[Log] Dispersion   : Etr vs ratio\n",
      "[Log] Minimum mass : 100 GeV\n",
      "[Log] Maximum mass : 32 TeV\n",
      "==================================================\n"
     ]
    },
    {
     "data": {
      "application/vnd.jupyter.widget-view+json": {
       "model_id": "c4439b02cd604b418943a8395dc220c6",
       "version_major": 2,
       "version_minor": 0
      },
      "text/plain": [
       "  0%|          | 0/15 [00:00<?, ?it/s]"
      ]
     },
     "metadata": {},
     "output_type": "display_data"
    },
    {
     "name": "stdout",
     "output_type": "stream",
     "text": [
      "[Error] MIGRAD is NOT converged. Check initial parameters (minuit in mle.py).\n",
      "[Log] Upper limits are saved in '/Users/dtak/Research/DarkMatter/Output/nextP_2D_bbar.npy'\n",
      "==================================================\n",
      "[Log] Package      : EventDisplay\n",
      "[Log] # of Dwarfs  : 17\n",
      "[Log] Channel      : WW\n",
      "[Log] Dimention    : 2\n",
      "[Log] Background   : Gaussian (gaus)\n",
      "[Log] Dispersion   : Etr vs ratio\n",
      "[Log] Minimum mass : 100 GeV\n",
      "[Log] Maximum mass : 32 TeV\n",
      "==================================================\n"
     ]
    },
    {
     "data": {
      "application/vnd.jupyter.widget-view+json": {
       "model_id": "d5c4be3d9a164ec7bd8ecda391c188af",
       "version_major": 2,
       "version_minor": 0
      },
      "text/plain": [
       "  0%|          | 0/15 [00:00<?, ?it/s]"
      ]
     },
     "metadata": {},
     "output_type": "display_data"
    },
    {
     "name": "stdout",
     "output_type": "stream",
     "text": [
      "[Error] MIGRAD is NOT converged. Check initial parameters (minuit in mle.py).\n",
      "[Log] Upper limits are saved in '/Users/dtak/Research/DarkMatter/Output/nextP_2D_WW.npy'\n",
      "==================================================\n",
      "[Log] Package      : EventDisplay\n",
      "[Log] # of Dwarfs  : 17\n",
      "[Log] Channel      : ZZ\n",
      "[Log] Dimention    : 2\n",
      "[Log] Background   : Gaussian (gaus)\n",
      "[Log] Dispersion   : Etr vs ratio\n",
      "[Log] Minimum mass : 100 GeV\n",
      "[Log] Maximum mass : 32 TeV\n",
      "==================================================\n"
     ]
    },
    {
     "data": {
      "application/vnd.jupyter.widget-view+json": {
       "model_id": "9dc72ba016ce4b2897fb4c1e5829008b",
       "version_major": 2,
       "version_minor": 0
      },
      "text/plain": [
       "  0%|          | 0/15 [00:00<?, ?it/s]"
      ]
     },
     "metadata": {},
     "output_type": "display_data"
    },
    {
     "name": "stdout",
     "output_type": "stream",
     "text": [
      "[Error] MIGRAD is NOT converged. Check initial parameters (minuit in mle.py).\n",
      "[Log] Upper limits are saved in '/Users/dtak/Research/DarkMatter/Output/nextP_2D_ZZ.npy'\n",
      "==================================================\n",
      "[Log] Package      : EventDisplay\n",
      "[Log] # of Dwarfs  : 17\n",
      "[Log] Channel      : gamma\n",
      "[Log] Dimention    : 2\n",
      "[Log] Background   : Gaussian (gaus)\n",
      "[Log] Dispersion   : Etr vs ratio\n",
      "[Log] Minimum mass : 13 GeV\n",
      "[Log] Maximum mass : 1258925 TeV\n",
      "==================================================\n"
     ]
    },
    {
     "data": {
      "application/vnd.jupyter.widget-view+json": {
       "model_id": "f97092617d19493e85739a8adc406ac4",
       "version_major": 2,
       "version_minor": 0
      },
      "text/plain": [
       "  0%|          | 0/39 [00:00<?, ?it/s]"
      ]
     },
     "metadata": {},
     "output_type": "display_data"
    },
    {
     "name": "stdout",
     "output_type": "stream",
     "text": [
      "[Error] MIGRAD is NOT converged. Check initial parameters (minuit in mle.py).\n",
      "[Error] MIGRAD is NOT converged. Check initial parameters (minuit in mle.py).\n",
      "[Error] MIGRAD is NOT converged. Check initial parameters (minuit in mle.py).\n",
      "[Error] MIGRAD is NOT converged. Check initial parameters (minuit in mle.py).\n",
      "[Error] MIGRAD is NOT converged. Check initial parameters (minuit in mle.py).\n",
      "[Error] MIGRAD is NOT converged. Check initial parameters (minuit in mle.py).\n",
      "[Error] MIGRAD is NOT converged. Check initial parameters (minuit in mle.py).\n",
      "[Error] MIGRAD is NOT converged. Check initial parameters (minuit in mle.py).\n",
      "[Error] MIGRAD is NOT converged. Check initial parameters (minuit in mle.py).\n",
      "[Error] MIGRAD is NOT converged. Check initial parameters (minuit in mle.py).\n",
      "[Error] MIGRAD is NOT converged. Check initial parameters (minuit in mle.py).\n",
      "[Error] MIGRAD is NOT converged. Check initial parameters (minuit in mle.py).\n",
      "[Error] MIGRAD is NOT converged. Check initial parameters (minuit in mle.py).\n",
      "[Error] MIGRAD is NOT converged. Check initial parameters (minuit in mle.py).\n",
      "[Error] MIGRAD is NOT converged. Check initial parameters (minuit in mle.py).\n",
      "[Error] MIGRAD is NOT converged. Check initial parameters (minuit in mle.py).\n",
      "[Error] MIGRAD is NOT converged. Check initial parameters (minuit in mle.py).\n",
      "[Error] MIGRAD is NOT converged. Check initial parameters (minuit in mle.py).\n",
      "[Error] MIGRAD is NOT converged. Check initial parameters (minuit in mle.py).\n",
      "[Error] MIGRAD is NOT converged. Check initial parameters (minuit in mle.py).\n",
      "[Error] MIGRAD is NOT converged. Check initial parameters (minuit in mle.py).\n",
      "[Error] MIGRAD is NOT converged. Check initial parameters (minuit in mle.py).\n",
      "[Error] MIGRAD is NOT converged. Check initial parameters (minuit in mle.py).\n",
      "[Error] MIGRAD is NOT converged. Check initial parameters (minuit in mle.py).\n",
      "[Log] Upper limits are saved in '/Users/dtak/Research/DarkMatter/Output/nextP_2D_gamma.npy'\n",
      "==================================================\n",
      "[Log] Package      : EventDisplay\n",
      "[Log] # of Dwarfs  : 17\n",
      "[Log] Channel      : nue\n",
      "[Log] Dimention    : 2\n",
      "[Log] Background   : Gaussian (gaus)\n",
      "[Log] Dispersion   : Etr vs ratio\n",
      "[Log] Minimum mass : 100 GeV\n",
      "[Log] Maximum mass : 32 TeV\n",
      "==================================================\n"
     ]
    },
    {
     "data": {
      "application/vnd.jupyter.widget-view+json": {
       "model_id": "831b160c30f74226a884b8ddc114ca91",
       "version_major": 2,
       "version_minor": 0
      },
      "text/plain": [
       "  0%|          | 0/15 [00:00<?, ?it/s]"
      ]
     },
     "metadata": {},
     "output_type": "display_data"
    },
    {
     "name": "stdout",
     "output_type": "stream",
     "text": [
      "[Error] MIGRAD is NOT converged. Check initial parameters (minuit in mle.py).\n",
      "[Log] Upper limits are saved in '/Users/dtak/Research/DarkMatter/Output/nextP_2D_nue.npy'\n"
     ]
    },
    {
     "name": "stderr",
     "output_type": "stream",
     "text": [
      "cp: /Users/dtak/Research/DarkMatter/Output/nextP_2D_ee.npy: No such file or directory\n",
      "cp: /Users/dtak/Research/DarkMatter/Output/nextP_2D_uu.npy: No such file or directory\n",
      "cp: /Users/dtak/Research/DarkMatter/Output/nextP_2D_tt.npy: No such file or directory\n",
      "cp: /Users/dtak/Research/DarkMatter/Output/nextP_2D_ttbar.npy: No such file or directory\n",
      "cp: /Users/dtak/Research/DarkMatter/Output/nextP_2D_bbar.npy: No such file or directory\n",
      "cp: /Users/dtak/Research/DarkMatter/Output/nextP_2D_WW.npy: No such file or directory\n",
      "cp: /Users/dtak/Research/DarkMatter/Output/nextP_2D_ZZ.npy: No such file or directory\n",
      "cp: /Users/dtak/Research/DarkMatter/Output/nextP_2D_gamma.npy: No such file or directory\n",
      "cp: /Users/dtak/Research/DarkMatter/Output/nextP_2D_nue.npy: No such file or directory\n"
     ]
    }
   ],
   "source": [
    "for channel in const.ListOfChannel:\n",
    "    if channel == \"gamma\":\n",
    "        mass = const.mass4gamma\n",
    "    else:\n",
    "        mass=np.logspace(2, 4.5, 15)\n",
    "        \n",
    "    filename=f\"nextP_2D_{channel}\"\n",
    "    Likelihood.combinedUpperLimits(channel, \"EventDisplay\", \n",
    "                               mass=mass, useBias=True,\n",
    "                               addTheta=True, filename=filename,\n",
    "                               averagedIRF=True, ext=True,\n",
    "                               dwarfs=const.ListOfDwarf,\n",
    "                               bkgModel=\"gaus\", method=2)"
   ]
  },
  {
   "cell_type": "code",
   "execution_count": null,
   "id": "0297919a",
   "metadata": {},
   "outputs": [],
   "source": []
  }
 ],
 "metadata": {
  "kernelspec": {
   "display_name": "Python 3 (ipykernel)",
   "language": "python",
   "name": "python3"
  },
  "language_info": {
   "codemirror_mode": {
    "name": "ipython",
    "version": 3
   },
   "file_extension": ".py",
   "mimetype": "text/x-python",
   "name": "python",
   "nbconvert_exporter": "python",
   "pygments_lexer": "ipython3",
   "version": "3.10.6"
  }
 },
 "nbformat": 4,
 "nbformat_minor": 5
}
