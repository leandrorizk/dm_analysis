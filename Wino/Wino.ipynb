{
 "cells": [
  {
   "cell_type": "code",
   "execution_count": 2,
   "id": "6cebec00",
   "metadata": {},
   "outputs": [
    {
     "name": "stdout",
     "output_type": "stream",
     "text": [
      "The autoreload extension is already loaded. To reload it, use:\n",
      "  %reload_ext autoreload\n",
      "Welcome to JupyROOT 6.26/08\n"
     ]
    }
   ],
   "source": [
    "%load_ext autoreload\n",
    "%autoreload 2\n",
    "\n",
    "from DarkMatter import *"
   ]
  },
  {
   "cell_type": "code",
   "execution_count": 3,
   "id": "f1e7a29b",
   "metadata": {},
   "outputs": [],
   "source": [
    "def file_conversion(input_file, output_file):\n",
    "    f = open(const.REF_DIR+f\"/{input_file}\")\n",
    "\n",
    "    lines = []\n",
    "    for line in f.readlines():\n",
    "        l = line.split(\",\")\n",
    "        temp = []\n",
    "        for s in l:\n",
    "            s = s.replace(\"'\", '')\n",
    "            try:\n",
    "                temp.append(float(s))\n",
    "            except:\n",
    "                print(s)\n",
    "                continue\n",
    "        if len(temp)>0:\n",
    "            lines.append(temp)\n",
    "\n",
    "    lines = np.asarray(lines)\n",
    "    print(lines)\n",
    "    tab = Table(lines, names = [\"x\", \"dNdE\", \"mass\"])\n",
    "    np.save(const.REF_DIR+f\"/{output_file}.npy\",tab)\n",
    "    \n",
    "def change_file(new, old):\n",
    "    os.system(\"mv \"+const.REF_DIR+f\"/wino_dnde.npy \"+const.REF_DIR+f\"/{old}.npy\" )\n",
    "    os.system(\"mv \"+const.REF_DIR+f\"/{new}.npy \"+const.REF_DIR+f\"/wino_dnde.npy\" )"
   ]
  },
  {
   "cell_type": "code",
   "execution_count": 5,
   "id": "4576633d",
   "metadata": {},
   "outputs": [],
   "source": [
    "data = WINOspectra(return_table=True)\n",
    "\n",
    "mass = list(set(data[\"mass\"]))\n",
    "\n",
    "mass.sort()"
   ]
  },
  {
   "cell_type": "code",
   "execution_count": 22,
   "id": "0ed302b4",
   "metadata": {},
   "outputs": [],
   "source": [
    "change_file(\"wino_dnde_res_lo\", \"wino_dnde_res_hi\")\n",
    "\n",
    "data = WINOspectra(return_table=True)\n",
    "\n",
    "mass = list(set(data[\"mass\"]))\n",
    "\n",
    "mass.sort()"
   ]
  },
  {
   "cell_type": "code",
   "execution_count": 30,
   "id": "51cbe65e",
   "metadata": {},
   "outputs": [
    {
     "name": "stdout",
     "output_type": "stream",
     "text": [
      "==================================================\n",
      "[Log] Package      : EventDisplay\n",
      "[Log] # of Dwarfs  : 17\n",
      "[Log] Channel      : wino\n",
      "[Log] Dimention    : 1\n",
      "[Log] Background   : Gaussian (gaus)\n",
      "[Log] Dispersion   : Etr vs ratio\n",
      "[Log] Minimum mass : 2800 GeV\n",
      "[Log] Maximum mass : 3 TeV\n",
      "==================================================\n"
     ]
    },
    {
     "data": {
      "application/vnd.jupyter.widget-view+json": {
       "model_id": "c94d50c753b747538dae1c809825260a",
       "version_major": 2,
       "version_minor": 0
      },
      "text/plain": [
       "  0%|          | 0/1 [00:00<?, ?it/s]"
      ]
     },
     "metadata": {},
     "output_type": "display_data"
    },
    {
     "name": "stdout",
     "output_type": "stream",
     "text": [
      "[Log] Upper limits are saved in '/Users/dtak/Research/DarkMatter/Output/test.npy'\n"
     ]
    }
   ],
   "source": [
    "mle = Likelihood.combinedUpperLimits(\"wino\", package=\"EventDisplay\", dwarfs=const.ListOfDwarf, method=2, ext=True, DM_spectra=\"WINO\",\n",
    "                            mass=[2800], addTheta=False, averagedIRF=True, useBias=True, \n",
    "                            correction=True, bkgModel=\"gaus\", filename=\"test\",\n",
    "                            )"
   ]
  },
  {
   "cell_type": "code",
   "execution_count": 19,
   "id": "cec86c1b",
   "metadata": {},
   "outputs": [
    {
     "name": "stdout",
     "output_type": "stream",
     "text": [
      "==================================================\n",
      "[Log] Package      : EventDisplay\n",
      "[Log] # of Dwarfs  : 17\n",
      "[Log] Channel      : wino\n",
      "[Log] Dimention    : 1\n",
      "[Log] Background   : Gaussian (gaus)\n",
      "[Log] Dispersion   : Etr vs ratio\n",
      "[Log] Minimum mass : 56000 GeV\n",
      "[Log] Maximum mass : 200 TeV\n",
      "==================================================\n"
     ]
    },
    {
     "data": {
      "application/vnd.jupyter.widget-view+json": {
       "model_id": "d70dadbe53c34cbc9eaebd58a58e02d8",
       "version_major": 2,
       "version_minor": 0
      },
      "text/plain": [
       "  0%|          | 0/129 [00:00<?, ?it/s]"
      ]
     },
     "metadata": {},
     "output_type": "display_data"
    },
    {
     "name": "stdout",
     "output_type": "stream",
     "text": [
      "[Log] Upper limits are saved in '/Users/dtak/Research/DarkMatter/Output/wino_nlo_hi_combined.npy'\n"
     ]
    }
   ],
   "source": [
    "change_file(\"wino_dnde_res_lo\", \"wino_dnde_res_hi\")\n",
    "\n",
    "data = WINOspectra(return_table=True)\n",
    "\n",
    "mass = list(set(data[\"mass\"]))\n",
    "\n",
    "mass.sort()\n",
    "\n",
    "mle = Likelihood.combinedUpperLimits(\"wino\", package=\"EventDisplay\", dwarfs=const.ListOfDwarf, method=2, ext=True, DM_spectra=\"WINO\",\n",
    "                            mass=mass, addTheta=False, averagedIRF=True, useBias=True, \n",
    "                            correction=True, bkgModel=\"gaus\", filename=\"wino_nlo_hi_combined\",\n",
    "                            )"
   ]
  },
  {
   "cell_type": "code",
   "execution_count": 113,
   "id": "8bba7855",
   "metadata": {},
   "outputs": [
    {
     "name": "stdout",
     "output_type": "stream",
     "text": [
      "==================================================\n",
      "[Log] Package      : EventDisplay\n",
      "[Log] # of Dwarfs  : 17\n",
      "[Log] Channel      : wino\n",
      "[Log] Dimention    : 1\n",
      "[Log] Background   : Gaussian (gaus)\n",
      "[Log] Dispersion   : Etr vs ratio\n",
      "[Log] Minimum mass : 800 GeV\n",
      "[Log] Maximum mass : 1 TeV\n",
      "==================================================\n"
     ]
    },
    {
     "data": {
      "application/vnd.jupyter.widget-view+json": {
       "model_id": "618dc955ff034837a8fa8af72e382a8e",
       "version_major": 2,
       "version_minor": 0
      },
      "text/plain": [
       "  0%|          | 0/1 [00:00<?, ?it/s]"
      ]
     },
     "metadata": {},
     "output_type": "display_data"
    },
    {
     "name": "stdout",
     "output_type": "stream",
     "text": [
      "==================================================\n",
      "[Log] Package      : EventDisplay\n",
      "[Log] # of Dwarfs  : 17\n",
      "[Log] Channel      : wino\n",
      "[Log] Dimention    : 1\n",
      "[Log] Background   : Gaussian (gaus)\n",
      "[Log] Dispersion   : Etr vs ratio\n",
      "[Log] Minimum mass : 1000 GeV\n",
      "[Log] Maximum mass : 1 TeV\n",
      "==================================================\n"
     ]
    },
    {
     "data": {
      "application/vnd.jupyter.widget-view+json": {
       "model_id": "c041695391a64918955c6ab6b2aa2497",
       "version_major": 2,
       "version_minor": 0
      },
      "text/plain": [
       "  0%|          | 0/1 [00:00<?, ?it/s]"
      ]
     },
     "metadata": {},
     "output_type": "display_data"
    },
    {
     "name": "stdout",
     "output_type": "stream",
     "text": [
      "==================================================\n",
      "[Log] Package      : EventDisplay\n",
      "[Log] # of Dwarfs  : 17\n",
      "[Log] Channel      : wino\n",
      "[Log] Dimention    : 1\n",
      "[Log] Background   : Gaussian (gaus)\n",
      "[Log] Dispersion   : Etr vs ratio\n",
      "[Log] Minimum mass : 1250 GeV\n",
      "[Log] Maximum mass : 1 TeV\n",
      "==================================================\n"
     ]
    },
    {
     "data": {
      "application/vnd.jupyter.widget-view+json": {
       "model_id": "bf5b8de79ac64f13a0e7db273bc4767f",
       "version_major": 2,
       "version_minor": 0
      },
      "text/plain": [
       "  0%|          | 0/1 [00:00<?, ?it/s]"
      ]
     },
     "metadata": {},
     "output_type": "display_data"
    },
    {
     "name": "stdout",
     "output_type": "stream",
     "text": [
      "==================================================\n",
      "[Log] Package      : EventDisplay\n",
      "[Log] # of Dwarfs  : 17\n",
      "[Log] Channel      : wino\n",
      "[Log] Dimention    : 1\n",
      "[Log] Background   : Gaussian (gaus)\n",
      "[Log] Dispersion   : Etr vs ratio\n",
      "[Log] Minimum mass : 1500 GeV\n",
      "[Log] Maximum mass : 2 TeV\n",
      "==================================================\n"
     ]
    },
    {
     "data": {
      "application/vnd.jupyter.widget-view+json": {
       "model_id": "19c2d97fa0d74a87bc4204fbf5cafd93",
       "version_major": 2,
       "version_minor": 0
      },
      "text/plain": [
       "  0%|          | 0/1 [00:00<?, ?it/s]"
      ]
     },
     "metadata": {},
     "output_type": "display_data"
    },
    {
     "name": "stdout",
     "output_type": "stream",
     "text": [
      "==================================================\n",
      "[Log] Package      : EventDisplay\n",
      "[Log] # of Dwarfs  : 17\n",
      "[Log] Channel      : wino\n",
      "[Log] Dimention    : 1\n",
      "[Log] Background   : Gaussian (gaus)\n",
      "[Log] Dispersion   : Etr vs ratio\n",
      "[Log] Minimum mass : 1750 GeV\n",
      "[Log] Maximum mass : 2 TeV\n",
      "==================================================\n"
     ]
    },
    {
     "data": {
      "application/vnd.jupyter.widget-view+json": {
       "model_id": "9bb11826673347fa9028ea5e854be76b",
       "version_major": 2,
       "version_minor": 0
      },
      "text/plain": [
       "  0%|          | 0/1 [00:00<?, ?it/s]"
      ]
     },
     "metadata": {},
     "output_type": "display_data"
    },
    {
     "name": "stdout",
     "output_type": "stream",
     "text": [
      "==================================================\n",
      "[Log] Package      : EventDisplay\n",
      "[Log] # of Dwarfs  : 17\n",
      "[Log] Channel      : wino\n",
      "[Log] Dimention    : 1\n",
      "[Log] Background   : Gaussian (gaus)\n",
      "[Log] Dispersion   : Etr vs ratio\n",
      "[Log] Minimum mass : 2000 GeV\n",
      "[Log] Maximum mass : 2 TeV\n",
      "==================================================\n"
     ]
    },
    {
     "data": {
      "application/vnd.jupyter.widget-view+json": {
       "model_id": "9032fe50ea384f3188003ae805d1659b",
       "version_major": 2,
       "version_minor": 0
      },
      "text/plain": [
       "  0%|          | 0/1 [00:00<?, ?it/s]"
      ]
     },
     "metadata": {},
     "output_type": "display_data"
    },
    {
     "name": "stdout",
     "output_type": "stream",
     "text": [
      "==================================================\n",
      "[Log] Package      : EventDisplay\n",
      "[Log] # of Dwarfs  : 17\n",
      "[Log] Channel      : wino\n",
      "[Log] Dimention    : 1\n",
      "[Log] Background   : Gaussian (gaus)\n",
      "[Log] Dispersion   : Etr vs ratio\n",
      "[Log] Minimum mass : 2250 GeV\n",
      "[Log] Maximum mass : 2 TeV\n",
      "==================================================\n"
     ]
    },
    {
     "data": {
      "application/vnd.jupyter.widget-view+json": {
       "model_id": "840a020d4fb94904833ef394e4078809",
       "version_major": 2,
       "version_minor": 0
      },
      "text/plain": [
       "  0%|          | 0/1 [00:00<?, ?it/s]"
      ]
     },
     "metadata": {},
     "output_type": "display_data"
    },
    {
     "name": "stdout",
     "output_type": "stream",
     "text": [
      "==================================================\n",
      "[Log] Package      : EventDisplay\n",
      "[Log] # of Dwarfs  : 17\n",
      "[Log] Channel      : wino\n",
      "[Log] Dimention    : 1\n",
      "[Log] Background   : Gaussian (gaus)\n",
      "[Log] Dispersion   : Etr vs ratio\n",
      "[Log] Minimum mass : 2500 GeV\n",
      "[Log] Maximum mass : 2 TeV\n",
      "==================================================\n"
     ]
    },
    {
     "data": {
      "application/vnd.jupyter.widget-view+json": {
       "model_id": "746cf25285524ccb90b7cb015d7f0c23",
       "version_major": 2,
       "version_minor": 0
      },
      "text/plain": [
       "  0%|          | 0/1 [00:00<?, ?it/s]"
      ]
     },
     "metadata": {},
     "output_type": "display_data"
    },
    {
     "name": "stdout",
     "output_type": "stream",
     "text": [
      "==================================================\n",
      "[Log] Package      : EventDisplay\n",
      "[Log] # of Dwarfs  : 17\n",
      "[Log] Channel      : wino\n",
      "[Log] Dimention    : 1\n",
      "[Log] Background   : Gaussian (gaus)\n",
      "[Log] Dispersion   : Etr vs ratio\n",
      "[Log] Minimum mass : 2750 GeV\n",
      "[Log] Maximum mass : 3 TeV\n",
      "==================================================\n"
     ]
    },
    {
     "data": {
      "application/vnd.jupyter.widget-view+json": {
       "model_id": "3582429770174a56b855bb0b116e6a64",
       "version_major": 2,
       "version_minor": 0
      },
      "text/plain": [
       "  0%|          | 0/1 [00:00<?, ?it/s]"
      ]
     },
     "metadata": {},
     "output_type": "display_data"
    },
    {
     "name": "stdout",
     "output_type": "stream",
     "text": [
      "==================================================\n",
      "[Log] Package      : EventDisplay\n",
      "[Log] # of Dwarfs  : 17\n",
      "[Log] Channel      : wino\n",
      "[Log] Dimention    : 1\n",
      "[Log] Background   : Gaussian (gaus)\n",
      "[Log] Dispersion   : Etr vs ratio\n",
      "[Log] Minimum mass : 3000 GeV\n",
      "[Log] Maximum mass : 3 TeV\n",
      "==================================================\n"
     ]
    },
    {
     "data": {
      "application/vnd.jupyter.widget-view+json": {
       "model_id": "81da2a57458049cd87b552e579ecb341",
       "version_major": 2,
       "version_minor": 0
      },
      "text/plain": [
       "  0%|          | 0/1 [00:00<?, ?it/s]"
      ]
     },
     "metadata": {},
     "output_type": "display_data"
    },
    {
     "name": "stdout",
     "output_type": "stream",
     "text": [
      "==================================================\n",
      "[Log] Package      : EventDisplay\n",
      "[Log] # of Dwarfs  : 17\n",
      "[Log] Channel      : wino\n",
      "[Log] Dimention    : 1\n",
      "[Log] Background   : Gaussian (gaus)\n",
      "[Log] Dispersion   : Etr vs ratio\n",
      "[Log] Minimum mass : 3250 GeV\n",
      "[Log] Maximum mass : 3 TeV\n",
      "==================================================\n"
     ]
    },
    {
     "data": {
      "application/vnd.jupyter.widget-view+json": {
       "model_id": "4abd9f3bfc0f4fb38a1839f2c8225543",
       "version_major": 2,
       "version_minor": 0
      },
      "text/plain": [
       "  0%|          | 0/1 [00:00<?, ?it/s]"
      ]
     },
     "metadata": {},
     "output_type": "display_data"
    },
    {
     "name": "stdout",
     "output_type": "stream",
     "text": [
      "==================================================\n",
      "[Log] Package      : EventDisplay\n",
      "[Log] # of Dwarfs  : 17\n",
      "[Log] Channel      : wino\n",
      "[Log] Dimention    : 1\n",
      "[Log] Background   : Gaussian (gaus)\n",
      "[Log] Dispersion   : Etr vs ratio\n",
      "[Log] Minimum mass : 3500 GeV\n",
      "[Log] Maximum mass : 4 TeV\n",
      "==================================================\n"
     ]
    },
    {
     "data": {
      "application/vnd.jupyter.widget-view+json": {
       "model_id": "a6975ca916d648c2976ac0e265c21712",
       "version_major": 2,
       "version_minor": 0
      },
      "text/plain": [
       "  0%|          | 0/1 [00:00<?, ?it/s]"
      ]
     },
     "metadata": {},
     "output_type": "display_data"
    },
    {
     "name": "stdout",
     "output_type": "stream",
     "text": [
      "==================================================\n",
      "[Log] Package      : EventDisplay\n",
      "[Log] # of Dwarfs  : 17\n",
      "[Log] Channel      : wino\n",
      "[Log] Dimention    : 1\n",
      "[Log] Background   : Gaussian (gaus)\n",
      "[Log] Dispersion   : Etr vs ratio\n",
      "[Log] Minimum mass : 3750 GeV\n",
      "[Log] Maximum mass : 4 TeV\n",
      "==================================================\n"
     ]
    },
    {
     "data": {
      "application/vnd.jupyter.widget-view+json": {
       "model_id": "5079e238c72e4315bcdb2715fb34dcb3",
       "version_major": 2,
       "version_minor": 0
      },
      "text/plain": [
       "  0%|          | 0/1 [00:00<?, ?it/s]"
      ]
     },
     "metadata": {},
     "output_type": "display_data"
    },
    {
     "name": "stdout",
     "output_type": "stream",
     "text": [
      "==================================================\n",
      "[Log] Package      : EventDisplay\n",
      "[Log] # of Dwarfs  : 17\n",
      "[Log] Channel      : wino\n",
      "[Log] Dimention    : 1\n",
      "[Log] Background   : Gaussian (gaus)\n",
      "[Log] Dispersion   : Etr vs ratio\n",
      "[Log] Minimum mass : 4000 GeV\n",
      "[Log] Maximum mass : 4 TeV\n",
      "==================================================\n"
     ]
    },
    {
     "data": {
      "application/vnd.jupyter.widget-view+json": {
       "model_id": "74671c9a5d5a4fa3856c93206d43740c",
       "version_major": 2,
       "version_minor": 0
      },
      "text/plain": [
       "  0%|          | 0/1 [00:00<?, ?it/s]"
      ]
     },
     "metadata": {},
     "output_type": "display_data"
    },
    {
     "name": "stdout",
     "output_type": "stream",
     "text": [
      "==================================================\n",
      "[Log] Package      : EventDisplay\n",
      "[Log] # of Dwarfs  : 17\n",
      "[Log] Channel      : wino\n",
      "[Log] Dimention    : 1\n",
      "[Log] Background   : Gaussian (gaus)\n",
      "[Log] Dispersion   : Etr vs ratio\n",
      "[Log] Minimum mass : 4250 GeV\n",
      "[Log] Maximum mass : 4 TeV\n",
      "==================================================\n"
     ]
    },
    {
     "data": {
      "application/vnd.jupyter.widget-view+json": {
       "model_id": "7f72748c9b314da6b0584214a7ded809",
       "version_major": 2,
       "version_minor": 0
      },
      "text/plain": [
       "  0%|          | 0/1 [00:00<?, ?it/s]"
      ]
     },
     "metadata": {},
     "output_type": "display_data"
    },
    {
     "name": "stdout",
     "output_type": "stream",
     "text": [
      "==================================================\n",
      "[Log] Package      : EventDisplay\n",
      "[Log] # of Dwarfs  : 17\n",
      "[Log] Channel      : wino\n",
      "[Log] Dimention    : 1\n",
      "[Log] Background   : Gaussian (gaus)\n",
      "[Log] Dispersion   : Etr vs ratio\n",
      "[Log] Minimum mass : 4500 GeV\n",
      "[Log] Maximum mass : 4 TeV\n",
      "==================================================\n"
     ]
    },
    {
     "data": {
      "application/vnd.jupyter.widget-view+json": {
       "model_id": "6dbea9dfef0c411b8073cebd5ba1a14a",
       "version_major": 2,
       "version_minor": 0
      },
      "text/plain": [
       "  0%|          | 0/1 [00:00<?, ?it/s]"
      ]
     },
     "metadata": {},
     "output_type": "display_data"
    },
    {
     "name": "stdout",
     "output_type": "stream",
     "text": [
      "==================================================\n",
      "[Log] Package      : EventDisplay\n",
      "[Log] # of Dwarfs  : 17\n",
      "[Log] Channel      : wino\n",
      "[Log] Dimention    : 1\n",
      "[Log] Background   : Gaussian (gaus)\n",
      "[Log] Dispersion   : Etr vs ratio\n",
      "[Log] Minimum mass : 4750 GeV\n",
      "[Log] Maximum mass : 5 TeV\n",
      "==================================================\n"
     ]
    },
    {
     "data": {
      "application/vnd.jupyter.widget-view+json": {
       "model_id": "2598e3f38189404db2da804166650c20",
       "version_major": 2,
       "version_minor": 0
      },
      "text/plain": [
       "  0%|          | 0/1 [00:00<?, ?it/s]"
      ]
     },
     "metadata": {},
     "output_type": "display_data"
    },
    {
     "name": "stdout",
     "output_type": "stream",
     "text": [
      "==================================================\n",
      "[Log] Package      : EventDisplay\n",
      "[Log] # of Dwarfs  : 17\n",
      "[Log] Channel      : wino\n",
      "[Log] Dimention    : 1\n",
      "[Log] Background   : Gaussian (gaus)\n",
      "[Log] Dispersion   : Etr vs ratio\n",
      "[Log] Minimum mass : 5000 GeV\n",
      "[Log] Maximum mass : 5 TeV\n",
      "==================================================\n"
     ]
    },
    {
     "data": {
      "application/vnd.jupyter.widget-view+json": {
       "model_id": "572d1c4d16f24817b1b73e727e55ba43",
       "version_major": 2,
       "version_minor": 0
      },
      "text/plain": [
       "  0%|          | 0/1 [00:00<?, ?it/s]"
      ]
     },
     "metadata": {},
     "output_type": "display_data"
    },
    {
     "name": "stdout",
     "output_type": "stream",
     "text": [
      "==================================================\n",
      "[Log] Package      : EventDisplay\n",
      "[Log] # of Dwarfs  : 17\n",
      "[Log] Channel      : wino\n",
      "[Log] Dimention    : 1\n",
      "[Log] Background   : Gaussian (gaus)\n",
      "[Log] Dispersion   : Etr vs ratio\n",
      "[Log] Minimum mass : 5250 GeV\n",
      "[Log] Maximum mass : 5 TeV\n",
      "==================================================\n"
     ]
    },
    {
     "data": {
      "application/vnd.jupyter.widget-view+json": {
       "model_id": "014e4a91bd0347d8ae7e3622411f2c6f",
       "version_major": 2,
       "version_minor": 0
      },
      "text/plain": [
       "  0%|          | 0/1 [00:00<?, ?it/s]"
      ]
     },
     "metadata": {},
     "output_type": "display_data"
    },
    {
     "name": "stdout",
     "output_type": "stream",
     "text": [
      "==================================================\n",
      "[Log] Package      : EventDisplay\n",
      "[Log] # of Dwarfs  : 17\n",
      "[Log] Channel      : wino\n",
      "[Log] Dimention    : 1\n",
      "[Log] Background   : Gaussian (gaus)\n",
      "[Log] Dispersion   : Etr vs ratio\n",
      "[Log] Minimum mass : 5500 GeV\n",
      "[Log] Maximum mass : 6 TeV\n",
      "==================================================\n"
     ]
    },
    {
     "data": {
      "application/vnd.jupyter.widget-view+json": {
       "model_id": "63e9b03912b644098949bcfe5514ae8e",
       "version_major": 2,
       "version_minor": 0
      },
      "text/plain": [
       "  0%|          | 0/1 [00:00<?, ?it/s]"
      ]
     },
     "metadata": {},
     "output_type": "display_data"
    },
    {
     "name": "stdout",
     "output_type": "stream",
     "text": [
      "==================================================\n",
      "[Log] Package      : EventDisplay\n",
      "[Log] # of Dwarfs  : 17\n",
      "[Log] Channel      : wino\n",
      "[Log] Dimention    : 1\n",
      "[Log] Background   : Gaussian (gaus)\n",
      "[Log] Dispersion   : Etr vs ratio\n",
      "[Log] Minimum mass : 5750 GeV\n",
      "[Log] Maximum mass : 6 TeV\n",
      "==================================================\n"
     ]
    },
    {
     "data": {
      "application/vnd.jupyter.widget-view+json": {
       "model_id": "701c320fd7f1492d9a74021bf7dea5b7",
       "version_major": 2,
       "version_minor": 0
      },
      "text/plain": [
       "  0%|          | 0/1 [00:00<?, ?it/s]"
      ]
     },
     "metadata": {},
     "output_type": "display_data"
    },
    {
     "name": "stdout",
     "output_type": "stream",
     "text": [
      "==================================================\n",
      "[Log] Package      : EventDisplay\n",
      "[Log] # of Dwarfs  : 17\n",
      "[Log] Channel      : wino\n",
      "[Log] Dimention    : 1\n",
      "[Log] Background   : Gaussian (gaus)\n",
      "[Log] Dispersion   : Etr vs ratio\n",
      "[Log] Minimum mass : 6000 GeV\n",
      "[Log] Maximum mass : 6 TeV\n",
      "==================================================\n"
     ]
    },
    {
     "data": {
      "application/vnd.jupyter.widget-view+json": {
       "model_id": "0b0071528f1d44be9b4463d9be22ea36",
       "version_major": 2,
       "version_minor": 0
      },
      "text/plain": [
       "  0%|          | 0/1 [00:00<?, ?it/s]"
      ]
     },
     "metadata": {},
     "output_type": "display_data"
    },
    {
     "name": "stdout",
     "output_type": "stream",
     "text": [
      "==================================================\n",
      "[Log] Package      : EventDisplay\n",
      "[Log] # of Dwarfs  : 17\n",
      "[Log] Channel      : wino\n",
      "[Log] Dimention    : 1\n",
      "[Log] Background   : Gaussian (gaus)\n",
      "[Log] Dispersion   : Etr vs ratio\n",
      "[Log] Minimum mass : 6250 GeV\n",
      "[Log] Maximum mass : 6 TeV\n",
      "==================================================\n"
     ]
    },
    {
     "data": {
      "application/vnd.jupyter.widget-view+json": {
       "model_id": "fb928e44aa5f401bae3bd589f6d1dfbf",
       "version_major": 2,
       "version_minor": 0
      },
      "text/plain": [
       "  0%|          | 0/1 [00:00<?, ?it/s]"
      ]
     },
     "metadata": {},
     "output_type": "display_data"
    },
    {
     "name": "stdout",
     "output_type": "stream",
     "text": [
      "==================================================\n",
      "[Log] Package      : EventDisplay\n",
      "[Log] # of Dwarfs  : 17\n",
      "[Log] Channel      : wino\n",
      "[Log] Dimention    : 1\n",
      "[Log] Background   : Gaussian (gaus)\n",
      "[Log] Dispersion   : Etr vs ratio\n",
      "[Log] Minimum mass : 6500 GeV\n",
      "[Log] Maximum mass : 6 TeV\n",
      "==================================================\n"
     ]
    },
    {
     "data": {
      "application/vnd.jupyter.widget-view+json": {
       "model_id": "b3865db260d14f6aa175df0efb868ba6",
       "version_major": 2,
       "version_minor": 0
      },
      "text/plain": [
       "  0%|          | 0/1 [00:00<?, ?it/s]"
      ]
     },
     "metadata": {},
     "output_type": "display_data"
    },
    {
     "name": "stdout",
     "output_type": "stream",
     "text": [
      "==================================================\n",
      "[Log] Package      : EventDisplay\n",
      "[Log] # of Dwarfs  : 17\n",
      "[Log] Channel      : wino\n",
      "[Log] Dimention    : 1\n",
      "[Log] Background   : Gaussian (gaus)\n",
      "[Log] Dispersion   : Etr vs ratio\n",
      "[Log] Minimum mass : 6750 GeV\n",
      "[Log] Maximum mass : 7 TeV\n",
      "==================================================\n"
     ]
    },
    {
     "data": {
      "application/vnd.jupyter.widget-view+json": {
       "model_id": "77815ca519784f949cdd747ccd790d36",
       "version_major": 2,
       "version_minor": 0
      },
      "text/plain": [
       "  0%|          | 0/1 [00:00<?, ?it/s]"
      ]
     },
     "metadata": {},
     "output_type": "display_data"
    },
    {
     "name": "stdout",
     "output_type": "stream",
     "text": [
      "==================================================\n",
      "[Log] Package      : EventDisplay\n",
      "[Log] # of Dwarfs  : 17\n",
      "[Log] Channel      : wino\n",
      "[Log] Dimention    : 1\n",
      "[Log] Background   : Gaussian (gaus)\n",
      "[Log] Dispersion   : Etr vs ratio\n",
      "[Log] Minimum mass : 7000 GeV\n",
      "[Log] Maximum mass : 7 TeV\n",
      "==================================================\n"
     ]
    },
    {
     "data": {
      "application/vnd.jupyter.widget-view+json": {
       "model_id": "584e04e183ec45d7b4a0a0131295547d",
       "version_major": 2,
       "version_minor": 0
      },
      "text/plain": [
       "  0%|          | 0/1 [00:00<?, ?it/s]"
      ]
     },
     "metadata": {},
     "output_type": "display_data"
    },
    {
     "name": "stdout",
     "output_type": "stream",
     "text": [
      "==================================================\n",
      "[Log] Package      : EventDisplay\n",
      "[Log] # of Dwarfs  : 17\n",
      "[Log] Channel      : wino\n",
      "[Log] Dimention    : 1\n",
      "[Log] Background   : Gaussian (gaus)\n",
      "[Log] Dispersion   : Etr vs ratio\n",
      "[Log] Minimum mass : 7250 GeV\n",
      "[Log] Maximum mass : 7 TeV\n",
      "==================================================\n"
     ]
    },
    {
     "data": {
      "application/vnd.jupyter.widget-view+json": {
       "model_id": "c779772c4953436192843d76594b59ac",
       "version_major": 2,
       "version_minor": 0
      },
      "text/plain": [
       "  0%|          | 0/1 [00:00<?, ?it/s]"
      ]
     },
     "metadata": {},
     "output_type": "display_data"
    },
    {
     "name": "stdout",
     "output_type": "stream",
     "text": [
      "==================================================\n",
      "[Log] Package      : EventDisplay\n",
      "[Log] # of Dwarfs  : 17\n",
      "[Log] Channel      : wino\n",
      "[Log] Dimention    : 1\n",
      "[Log] Background   : Gaussian (gaus)\n",
      "[Log] Dispersion   : Etr vs ratio\n",
      "[Log] Minimum mass : 7500 GeV\n",
      "[Log] Maximum mass : 8 TeV\n",
      "==================================================\n"
     ]
    },
    {
     "data": {
      "application/vnd.jupyter.widget-view+json": {
       "model_id": "41f3fbc1089848ee90c9ed062b86e65d",
       "version_major": 2,
       "version_minor": 0
      },
      "text/plain": [
       "  0%|          | 0/1 [00:00<?, ?it/s]"
      ]
     },
     "metadata": {},
     "output_type": "display_data"
    },
    {
     "name": "stdout",
     "output_type": "stream",
     "text": [
      "==================================================\n",
      "[Log] Package      : EventDisplay\n",
      "[Log] # of Dwarfs  : 17\n",
      "[Log] Channel      : wino\n",
      "[Log] Dimention    : 1\n",
      "[Log] Background   : Gaussian (gaus)\n",
      "[Log] Dispersion   : Etr vs ratio\n",
      "[Log] Minimum mass : 7750 GeV\n",
      "[Log] Maximum mass : 8 TeV\n",
      "==================================================\n"
     ]
    },
    {
     "data": {
      "application/vnd.jupyter.widget-view+json": {
       "model_id": "0c4480b7de15450e98657cede819945d",
       "version_major": 2,
       "version_minor": 0
      },
      "text/plain": [
       "  0%|          | 0/1 [00:00<?, ?it/s]"
      ]
     },
     "metadata": {},
     "output_type": "display_data"
    },
    {
     "name": "stdout",
     "output_type": "stream",
     "text": [
      "==================================================\n",
      "[Log] Package      : EventDisplay\n",
      "[Log] # of Dwarfs  : 17\n",
      "[Log] Channel      : wino\n",
      "[Log] Dimention    : 1\n",
      "[Log] Background   : Gaussian (gaus)\n",
      "[Log] Dispersion   : Etr vs ratio\n",
      "[Log] Minimum mass : 8000 GeV\n",
      "[Log] Maximum mass : 8 TeV\n",
      "==================================================\n"
     ]
    },
    {
     "data": {
      "application/vnd.jupyter.widget-view+json": {
       "model_id": "b60816fbb4b64b87be635b339687eca5",
       "version_major": 2,
       "version_minor": 0
      },
      "text/plain": [
       "  0%|          | 0/1 [00:00<?, ?it/s]"
      ]
     },
     "metadata": {},
     "output_type": "display_data"
    },
    {
     "name": "stdout",
     "output_type": "stream",
     "text": [
      "==================================================\n",
      "[Log] Package      : EventDisplay\n",
      "[Log] # of Dwarfs  : 17\n",
      "[Log] Channel      : wino\n",
      "[Log] Dimention    : 1\n",
      "[Log] Background   : Gaussian (gaus)\n",
      "[Log] Dispersion   : Etr vs ratio\n",
      "[Log] Minimum mass : 8250 GeV\n",
      "[Log] Maximum mass : 8 TeV\n",
      "==================================================\n"
     ]
    },
    {
     "data": {
      "application/vnd.jupyter.widget-view+json": {
       "model_id": "4a68ce6b2f6946f19f0f9d4ea543e4f7",
       "version_major": 2,
       "version_minor": 0
      },
      "text/plain": [
       "  0%|          | 0/1 [00:00<?, ?it/s]"
      ]
     },
     "metadata": {},
     "output_type": "display_data"
    },
    {
     "name": "stdout",
     "output_type": "stream",
     "text": [
      "==================================================\n",
      "[Log] Package      : EventDisplay\n",
      "[Log] # of Dwarfs  : 17\n",
      "[Log] Channel      : wino\n",
      "[Log] Dimention    : 1\n",
      "[Log] Background   : Gaussian (gaus)\n",
      "[Log] Dispersion   : Etr vs ratio\n",
      "[Log] Minimum mass : 8500 GeV\n",
      "[Log] Maximum mass : 8 TeV\n",
      "==================================================\n"
     ]
    },
    {
     "data": {
      "application/vnd.jupyter.widget-view+json": {
       "model_id": "6e55719f6d684add8c30e525b6d942cf",
       "version_major": 2,
       "version_minor": 0
      },
      "text/plain": [
       "  0%|          | 0/1 [00:00<?, ?it/s]"
      ]
     },
     "metadata": {},
     "output_type": "display_data"
    },
    {
     "name": "stdout",
     "output_type": "stream",
     "text": [
      "==================================================\n",
      "[Log] Package      : EventDisplay\n",
      "[Log] # of Dwarfs  : 17\n",
      "[Log] Channel      : wino\n",
      "[Log] Dimention    : 1\n",
      "[Log] Background   : Gaussian (gaus)\n",
      "[Log] Dispersion   : Etr vs ratio\n",
      "[Log] Minimum mass : 8750 GeV\n",
      "[Log] Maximum mass : 9 TeV\n",
      "==================================================\n"
     ]
    },
    {
     "data": {
      "application/vnd.jupyter.widget-view+json": {
       "model_id": "6df840c7db2b4fc68c11b6322c71c38d",
       "version_major": 2,
       "version_minor": 0
      },
      "text/plain": [
       "  0%|          | 0/1 [00:00<?, ?it/s]"
      ]
     },
     "metadata": {},
     "output_type": "display_data"
    },
    {
     "name": "stdout",
     "output_type": "stream",
     "text": [
      "==================================================\n",
      "[Log] Package      : EventDisplay\n",
      "[Log] # of Dwarfs  : 17\n",
      "[Log] Channel      : wino\n",
      "[Log] Dimention    : 1\n",
      "[Log] Background   : Gaussian (gaus)\n",
      "[Log] Dispersion   : Etr vs ratio\n",
      "[Log] Minimum mass : 9000 GeV\n",
      "[Log] Maximum mass : 9 TeV\n",
      "==================================================\n"
     ]
    },
    {
     "data": {
      "application/vnd.jupyter.widget-view+json": {
       "model_id": "35e0d79b355346928b06dd21689fb9a1",
       "version_major": 2,
       "version_minor": 0
      },
      "text/plain": [
       "  0%|          | 0/1 [00:00<?, ?it/s]"
      ]
     },
     "metadata": {},
     "output_type": "display_data"
    },
    {
     "name": "stdout",
     "output_type": "stream",
     "text": [
      "==================================================\n",
      "[Log] Package      : EventDisplay\n",
      "[Log] # of Dwarfs  : 17\n",
      "[Log] Channel      : wino\n",
      "[Log] Dimention    : 1\n",
      "[Log] Background   : Gaussian (gaus)\n",
      "[Log] Dispersion   : Etr vs ratio\n",
      "[Log] Minimum mass : 9250 GeV\n",
      "[Log] Maximum mass : 9 TeV\n",
      "==================================================\n"
     ]
    },
    {
     "data": {
      "application/vnd.jupyter.widget-view+json": {
       "model_id": "5bb9cd650af94028b55abb07630dbcf1",
       "version_major": 2,
       "version_minor": 0
      },
      "text/plain": [
       "  0%|          | 0/1 [00:00<?, ?it/s]"
      ]
     },
     "metadata": {},
     "output_type": "display_data"
    },
    {
     "name": "stdout",
     "output_type": "stream",
     "text": [
      "==================================================\n",
      "[Log] Package      : EventDisplay\n",
      "[Log] # of Dwarfs  : 17\n",
      "[Log] Channel      : wino\n",
      "[Log] Dimention    : 1\n",
      "[Log] Background   : Gaussian (gaus)\n",
      "[Log] Dispersion   : Etr vs ratio\n",
      "[Log] Minimum mass : 9500 GeV\n",
      "[Log] Maximum mass : 10 TeV\n",
      "==================================================\n"
     ]
    },
    {
     "data": {
      "application/vnd.jupyter.widget-view+json": {
       "model_id": "f8e1b47f47fd4f9b8c15d4228b71b097",
       "version_major": 2,
       "version_minor": 0
      },
      "text/plain": [
       "  0%|          | 0/1 [00:00<?, ?it/s]"
      ]
     },
     "metadata": {},
     "output_type": "display_data"
    },
    {
     "name": "stdout",
     "output_type": "stream",
     "text": [
      "==================================================\n",
      "[Log] Package      : EventDisplay\n",
      "[Log] # of Dwarfs  : 17\n",
      "[Log] Channel      : wino\n",
      "[Log] Dimention    : 1\n",
      "[Log] Background   : Gaussian (gaus)\n",
      "[Log] Dispersion   : Etr vs ratio\n",
      "[Log] Minimum mass : 9750 GeV\n",
      "[Log] Maximum mass : 10 TeV\n",
      "==================================================\n"
     ]
    },
    {
     "data": {
      "application/vnd.jupyter.widget-view+json": {
       "model_id": "00e0e67fdf3d4fa48ed1b0a0540166a6",
       "version_major": 2,
       "version_minor": 0
      },
      "text/plain": [
       "  0%|          | 0/1 [00:00<?, ?it/s]"
      ]
     },
     "metadata": {},
     "output_type": "display_data"
    },
    {
     "name": "stdout",
     "output_type": "stream",
     "text": [
      "==================================================\n",
      "[Log] Package      : EventDisplay\n",
      "[Log] # of Dwarfs  : 17\n",
      "[Log] Channel      : wino\n",
      "[Log] Dimention    : 1\n",
      "[Log] Background   : Gaussian (gaus)\n",
      "[Log] Dispersion   : Etr vs ratio\n",
      "[Log] Minimum mass : 10000 GeV\n",
      "[Log] Maximum mass : 10 TeV\n",
      "==================================================\n"
     ]
    },
    {
     "data": {
      "application/vnd.jupyter.widget-view+json": {
       "model_id": "e40dc960a5f6460e97b44fdc0c18ec73",
       "version_major": 2,
       "version_minor": 0
      },
      "text/plain": [
       "  0%|          | 0/1 [00:00<?, ?it/s]"
      ]
     },
     "metadata": {},
     "output_type": "display_data"
    },
    {
     "name": "stdout",
     "output_type": "stream",
     "text": [
      "==================================================\n",
      "[Log] Package      : EventDisplay\n",
      "[Log] # of Dwarfs  : 17\n",
      "[Log] Channel      : wino\n",
      "[Log] Dimention    : 1\n",
      "[Log] Background   : Gaussian (gaus)\n",
      "[Log] Dispersion   : Etr vs ratio\n",
      "[Log] Minimum mass : 10500 GeV\n",
      "[Log] Maximum mass : 10 TeV\n",
      "==================================================\n"
     ]
    },
    {
     "data": {
      "application/vnd.jupyter.widget-view+json": {
       "model_id": "5586ee164ce14a0aa19ffc53a869ca3d",
       "version_major": 2,
       "version_minor": 0
      },
      "text/plain": [
       "  0%|          | 0/1 [00:00<?, ?it/s]"
      ]
     },
     "metadata": {},
     "output_type": "display_data"
    },
    {
     "name": "stdout",
     "output_type": "stream",
     "text": [
      "==================================================\n",
      "[Log] Package      : EventDisplay\n",
      "[Log] # of Dwarfs  : 17\n",
      "[Log] Channel      : wino\n",
      "[Log] Dimention    : 1\n",
      "[Log] Background   : Gaussian (gaus)\n",
      "[Log] Dispersion   : Etr vs ratio\n",
      "[Log] Minimum mass : 11000 GeV\n",
      "[Log] Maximum mass : 11 TeV\n",
      "==================================================\n"
     ]
    },
    {
     "data": {
      "application/vnd.jupyter.widget-view+json": {
       "model_id": "df59fe10ae9442f39625169a6a5c4346",
       "version_major": 2,
       "version_minor": 0
      },
      "text/plain": [
       "  0%|          | 0/1 [00:00<?, ?it/s]"
      ]
     },
     "metadata": {},
     "output_type": "display_data"
    },
    {
     "name": "stdout",
     "output_type": "stream",
     "text": [
      "==================================================\n",
      "[Log] Package      : EventDisplay\n",
      "[Log] # of Dwarfs  : 17\n",
      "[Log] Channel      : wino\n",
      "[Log] Dimention    : 1\n",
      "[Log] Background   : Gaussian (gaus)\n",
      "[Log] Dispersion   : Etr vs ratio\n",
      "[Log] Minimum mass : 11500 GeV\n",
      "[Log] Maximum mass : 12 TeV\n",
      "==================================================\n"
     ]
    },
    {
     "data": {
      "application/vnd.jupyter.widget-view+json": {
       "model_id": "fd440fc9ff1446c685acff03a2d4a9cf",
       "version_major": 2,
       "version_minor": 0
      },
      "text/plain": [
       "  0%|          | 0/1 [00:00<?, ?it/s]"
      ]
     },
     "metadata": {},
     "output_type": "display_data"
    },
    {
     "name": "stdout",
     "output_type": "stream",
     "text": [
      "==================================================\n",
      "[Log] Package      : EventDisplay\n",
      "[Log] # of Dwarfs  : 17\n",
      "[Log] Channel      : wino\n",
      "[Log] Dimention    : 1\n",
      "[Log] Background   : Gaussian (gaus)\n",
      "[Log] Dispersion   : Etr vs ratio\n",
      "[Log] Minimum mass : 12000 GeV\n",
      "[Log] Maximum mass : 12 TeV\n",
      "==================================================\n"
     ]
    },
    {
     "data": {
      "application/vnd.jupyter.widget-view+json": {
       "model_id": "95cdb59de5ac4602a74350412aec70c2",
       "version_major": 2,
       "version_minor": 0
      },
      "text/plain": [
       "  0%|          | 0/1 [00:00<?, ?it/s]"
      ]
     },
     "metadata": {},
     "output_type": "display_data"
    },
    {
     "name": "stdout",
     "output_type": "stream",
     "text": [
      "==================================================\n",
      "[Log] Package      : EventDisplay\n",
      "[Log] # of Dwarfs  : 17\n",
      "[Log] Channel      : wino\n",
      "[Log] Dimention    : 1\n",
      "[Log] Background   : Gaussian (gaus)\n",
      "[Log] Dispersion   : Etr vs ratio\n",
      "[Log] Minimum mass : 12500 GeV\n",
      "[Log] Maximum mass : 12 TeV\n",
      "==================================================\n"
     ]
    },
    {
     "data": {
      "application/vnd.jupyter.widget-view+json": {
       "model_id": "f5aa93a9e9e546839ddd6dde3118388f",
       "version_major": 2,
       "version_minor": 0
      },
      "text/plain": [
       "  0%|          | 0/1 [00:00<?, ?it/s]"
      ]
     },
     "metadata": {},
     "output_type": "display_data"
    },
    {
     "name": "stdout",
     "output_type": "stream",
     "text": [
      "==================================================\n",
      "[Log] Package      : EventDisplay\n",
      "[Log] # of Dwarfs  : 17\n",
      "[Log] Channel      : wino\n",
      "[Log] Dimention    : 1\n",
      "[Log] Background   : Gaussian (gaus)\n",
      "[Log] Dispersion   : Etr vs ratio\n",
      "[Log] Minimum mass : 13000 GeV\n",
      "[Log] Maximum mass : 13 TeV\n",
      "==================================================\n"
     ]
    },
    {
     "data": {
      "application/vnd.jupyter.widget-view+json": {
       "model_id": "029d6c9a22bc485398584fc4a74d4b8f",
       "version_major": 2,
       "version_minor": 0
      },
      "text/plain": [
       "  0%|          | 0/1 [00:00<?, ?it/s]"
      ]
     },
     "metadata": {},
     "output_type": "display_data"
    },
    {
     "name": "stdout",
     "output_type": "stream",
     "text": [
      "==================================================\n",
      "[Log] Package      : EventDisplay\n",
      "[Log] # of Dwarfs  : 17\n",
      "[Log] Channel      : wino\n",
      "[Log] Dimention    : 1\n",
      "[Log] Background   : Gaussian (gaus)\n",
      "[Log] Dispersion   : Etr vs ratio\n",
      "[Log] Minimum mass : 13500 GeV\n",
      "[Log] Maximum mass : 14 TeV\n",
      "==================================================\n"
     ]
    },
    {
     "data": {
      "application/vnd.jupyter.widget-view+json": {
       "model_id": "1a3f915cb8324e5294f29fecd8c22716",
       "version_major": 2,
       "version_minor": 0
      },
      "text/plain": [
       "  0%|          | 0/1 [00:00<?, ?it/s]"
      ]
     },
     "metadata": {},
     "output_type": "display_data"
    },
    {
     "name": "stdout",
     "output_type": "stream",
     "text": [
      "==================================================\n",
      "[Log] Package      : EventDisplay\n",
      "[Log] # of Dwarfs  : 17\n",
      "[Log] Channel      : wino\n",
      "[Log] Dimention    : 1\n",
      "[Log] Background   : Gaussian (gaus)\n",
      "[Log] Dispersion   : Etr vs ratio\n",
      "[Log] Minimum mass : 14000 GeV\n",
      "[Log] Maximum mass : 14 TeV\n",
      "==================================================\n"
     ]
    },
    {
     "data": {
      "application/vnd.jupyter.widget-view+json": {
       "model_id": "a4061e050da84ecfb06e377743db950d",
       "version_major": 2,
       "version_minor": 0
      },
      "text/plain": [
       "  0%|          | 0/1 [00:00<?, ?it/s]"
      ]
     },
     "metadata": {},
     "output_type": "display_data"
    },
    {
     "name": "stdout",
     "output_type": "stream",
     "text": [
      "==================================================\n",
      "[Log] Package      : EventDisplay\n",
      "[Log] # of Dwarfs  : 17\n",
      "[Log] Channel      : wino\n",
      "[Log] Dimention    : 1\n",
      "[Log] Background   : Gaussian (gaus)\n",
      "[Log] Dispersion   : Etr vs ratio\n",
      "[Log] Minimum mass : 14500 GeV\n",
      "[Log] Maximum mass : 14 TeV\n",
      "==================================================\n"
     ]
    },
    {
     "data": {
      "application/vnd.jupyter.widget-view+json": {
       "model_id": "49bd0286d1a64455b97df104879a4676",
       "version_major": 2,
       "version_minor": 0
      },
      "text/plain": [
       "  0%|          | 0/1 [00:00<?, ?it/s]"
      ]
     },
     "metadata": {},
     "output_type": "display_data"
    },
    {
     "name": "stdout",
     "output_type": "stream",
     "text": [
      "==================================================\n",
      "[Log] Package      : EventDisplay\n",
      "[Log] # of Dwarfs  : 17\n",
      "[Log] Channel      : wino\n",
      "[Log] Dimention    : 1\n",
      "[Log] Background   : Gaussian (gaus)\n",
      "[Log] Dispersion   : Etr vs ratio\n",
      "[Log] Minimum mass : 15000 GeV\n",
      "[Log] Maximum mass : 15 TeV\n",
      "==================================================\n"
     ]
    },
    {
     "data": {
      "application/vnd.jupyter.widget-view+json": {
       "model_id": "c3f6afca449841f1a7ff423079bfb7ec",
       "version_major": 2,
       "version_minor": 0
      },
      "text/plain": [
       "  0%|          | 0/1 [00:00<?, ?it/s]"
      ]
     },
     "metadata": {},
     "output_type": "display_data"
    },
    {
     "name": "stdout",
     "output_type": "stream",
     "text": [
      "==================================================\n",
      "[Log] Package      : EventDisplay\n",
      "[Log] # of Dwarfs  : 17\n",
      "[Log] Channel      : wino\n",
      "[Log] Dimention    : 1\n",
      "[Log] Background   : Gaussian (gaus)\n",
      "[Log] Dispersion   : Etr vs ratio\n",
      "[Log] Minimum mass : 15500 GeV\n",
      "[Log] Maximum mass : 16 TeV\n",
      "==================================================\n"
     ]
    },
    {
     "data": {
      "application/vnd.jupyter.widget-view+json": {
       "model_id": "4b08cf64ee514c0a80094872f3b671a6",
       "version_major": 2,
       "version_minor": 0
      },
      "text/plain": [
       "  0%|          | 0/1 [00:00<?, ?it/s]"
      ]
     },
     "metadata": {},
     "output_type": "display_data"
    },
    {
     "name": "stdout",
     "output_type": "stream",
     "text": [
      "==================================================\n",
      "[Log] Package      : EventDisplay\n",
      "[Log] # of Dwarfs  : 17\n",
      "[Log] Channel      : wino\n",
      "[Log] Dimention    : 1\n",
      "[Log] Background   : Gaussian (gaus)\n",
      "[Log] Dispersion   : Etr vs ratio\n",
      "[Log] Minimum mass : 16000 GeV\n",
      "[Log] Maximum mass : 16 TeV\n",
      "==================================================\n"
     ]
    },
    {
     "data": {
      "application/vnd.jupyter.widget-view+json": {
       "model_id": "d29bf793d2e1499bbe6eab48bdd8f94e",
       "version_major": 2,
       "version_minor": 0
      },
      "text/plain": [
       "  0%|          | 0/1 [00:00<?, ?it/s]"
      ]
     },
     "metadata": {},
     "output_type": "display_data"
    },
    {
     "name": "stdout",
     "output_type": "stream",
     "text": [
      "==================================================\n",
      "[Log] Package      : EventDisplay\n",
      "[Log] # of Dwarfs  : 17\n",
      "[Log] Channel      : wino\n",
      "[Log] Dimention    : 1\n",
      "[Log] Background   : Gaussian (gaus)\n",
      "[Log] Dispersion   : Etr vs ratio\n",
      "[Log] Minimum mass : 16500 GeV\n",
      "[Log] Maximum mass : 16 TeV\n",
      "==================================================\n"
     ]
    },
    {
     "data": {
      "application/vnd.jupyter.widget-view+json": {
       "model_id": "7bd096a5b4ba421d858161b902e23b5b",
       "version_major": 2,
       "version_minor": 0
      },
      "text/plain": [
       "  0%|          | 0/1 [00:00<?, ?it/s]"
      ]
     },
     "metadata": {},
     "output_type": "display_data"
    },
    {
     "name": "stdout",
     "output_type": "stream",
     "text": [
      "==================================================\n",
      "[Log] Package      : EventDisplay\n",
      "[Log] # of Dwarfs  : 17\n",
      "[Log] Channel      : wino\n",
      "[Log] Dimention    : 1\n",
      "[Log] Background   : Gaussian (gaus)\n",
      "[Log] Dispersion   : Etr vs ratio\n",
      "[Log] Minimum mass : 17000 GeV\n",
      "[Log] Maximum mass : 17 TeV\n",
      "==================================================\n"
     ]
    },
    {
     "data": {
      "application/vnd.jupyter.widget-view+json": {
       "model_id": "c814471802764d6aa98a6edccd4f9bc0",
       "version_major": 2,
       "version_minor": 0
      },
      "text/plain": [
       "  0%|          | 0/1 [00:00<?, ?it/s]"
      ]
     },
     "metadata": {},
     "output_type": "display_data"
    },
    {
     "name": "stdout",
     "output_type": "stream",
     "text": [
      "==================================================\n",
      "[Log] Package      : EventDisplay\n",
      "[Log] # of Dwarfs  : 17\n",
      "[Log] Channel      : wino\n",
      "[Log] Dimention    : 1\n",
      "[Log] Background   : Gaussian (gaus)\n",
      "[Log] Dispersion   : Etr vs ratio\n",
      "[Log] Minimum mass : 17500 GeV\n",
      "[Log] Maximum mass : 18 TeV\n",
      "==================================================\n"
     ]
    },
    {
     "data": {
      "application/vnd.jupyter.widget-view+json": {
       "model_id": "8e9d8e5442c749d78eb453fc32ce0e3e",
       "version_major": 2,
       "version_minor": 0
      },
      "text/plain": [
       "  0%|          | 0/1 [00:00<?, ?it/s]"
      ]
     },
     "metadata": {},
     "output_type": "display_data"
    },
    {
     "name": "stdout",
     "output_type": "stream",
     "text": [
      "==================================================\n",
      "[Log] Package      : EventDisplay\n",
      "[Log] # of Dwarfs  : 17\n",
      "[Log] Channel      : wino\n",
      "[Log] Dimention    : 1\n",
      "[Log] Background   : Gaussian (gaus)\n",
      "[Log] Dispersion   : Etr vs ratio\n",
      "[Log] Minimum mass : 18000 GeV\n",
      "[Log] Maximum mass : 18 TeV\n",
      "==================================================\n"
     ]
    },
    {
     "data": {
      "application/vnd.jupyter.widget-view+json": {
       "model_id": "6e438a3dc33c4062aea4dff77d61c239",
       "version_major": 2,
       "version_minor": 0
      },
      "text/plain": [
       "  0%|          | 0/1 [00:00<?, ?it/s]"
      ]
     },
     "metadata": {},
     "output_type": "display_data"
    },
    {
     "name": "stdout",
     "output_type": "stream",
     "text": [
      "==================================================\n",
      "[Log] Package      : EventDisplay\n",
      "[Log] # of Dwarfs  : 17\n",
      "[Log] Channel      : wino\n",
      "[Log] Dimention    : 1\n",
      "[Log] Background   : Gaussian (gaus)\n",
      "[Log] Dispersion   : Etr vs ratio\n",
      "[Log] Minimum mass : 18500 GeV\n",
      "[Log] Maximum mass : 18 TeV\n",
      "==================================================\n"
     ]
    },
    {
     "data": {
      "application/vnd.jupyter.widget-view+json": {
       "model_id": "a00e8c4f12594e1497e7c765ac7f81d0",
       "version_major": 2,
       "version_minor": 0
      },
      "text/plain": [
       "  0%|          | 0/1 [00:00<?, ?it/s]"
      ]
     },
     "metadata": {},
     "output_type": "display_data"
    },
    {
     "name": "stdout",
     "output_type": "stream",
     "text": [
      "==================================================\n",
      "[Log] Package      : EventDisplay\n",
      "[Log] # of Dwarfs  : 17\n",
      "[Log] Channel      : wino\n",
      "[Log] Dimention    : 1\n",
      "[Log] Background   : Gaussian (gaus)\n",
      "[Log] Dispersion   : Etr vs ratio\n",
      "[Log] Minimum mass : 19000 GeV\n",
      "[Log] Maximum mass : 19 TeV\n",
      "==================================================\n"
     ]
    },
    {
     "data": {
      "application/vnd.jupyter.widget-view+json": {
       "model_id": "cccf27200a254608989235838e59ba2d",
       "version_major": 2,
       "version_minor": 0
      },
      "text/plain": [
       "  0%|          | 0/1 [00:00<?, ?it/s]"
      ]
     },
     "metadata": {},
     "output_type": "display_data"
    },
    {
     "name": "stdout",
     "output_type": "stream",
     "text": [
      "==================================================\n",
      "[Log] Package      : EventDisplay\n",
      "[Log] # of Dwarfs  : 17\n",
      "[Log] Channel      : wino\n",
      "[Log] Dimention    : 1\n",
      "[Log] Background   : Gaussian (gaus)\n",
      "[Log] Dispersion   : Etr vs ratio\n",
      "[Log] Minimum mass : 19500 GeV\n",
      "[Log] Maximum mass : 20 TeV\n",
      "==================================================\n"
     ]
    },
    {
     "data": {
      "application/vnd.jupyter.widget-view+json": {
       "model_id": "af5778e47b4349119baf8ac5dbeedde4",
       "version_major": 2,
       "version_minor": 0
      },
      "text/plain": [
       "  0%|          | 0/1 [00:00<?, ?it/s]"
      ]
     },
     "metadata": {},
     "output_type": "display_data"
    },
    {
     "name": "stdout",
     "output_type": "stream",
     "text": [
      "==================================================\n",
      "[Log] Package      : EventDisplay\n",
      "[Log] # of Dwarfs  : 17\n",
      "[Log] Channel      : wino\n",
      "[Log] Dimention    : 1\n",
      "[Log] Background   : Gaussian (gaus)\n",
      "[Log] Dispersion   : Etr vs ratio\n",
      "[Log] Minimum mass : 20000 GeV\n",
      "[Log] Maximum mass : 20 TeV\n",
      "==================================================\n"
     ]
    },
    {
     "data": {
      "application/vnd.jupyter.widget-view+json": {
       "model_id": "f681798284eb45a7a790c3e336d98898",
       "version_major": 2,
       "version_minor": 0
      },
      "text/plain": [
       "  0%|          | 0/1 [00:00<?, ?it/s]"
      ]
     },
     "metadata": {},
     "output_type": "display_data"
    },
    {
     "name": "stdout",
     "output_type": "stream",
     "text": [
      "==================================================\n",
      "[Log] Package      : EventDisplay\n",
      "[Log] # of Dwarfs  : 17\n",
      "[Log] Channel      : wino\n",
      "[Log] Dimention    : 1\n",
      "[Log] Background   : Gaussian (gaus)\n",
      "[Log] Dispersion   : Etr vs ratio\n",
      "[Log] Minimum mass : 20500 GeV\n",
      "[Log] Maximum mass : 20 TeV\n",
      "==================================================\n"
     ]
    },
    {
     "data": {
      "application/vnd.jupyter.widget-view+json": {
       "model_id": "39d1de3b37084d418fb2b9cfde409ea5",
       "version_major": 2,
       "version_minor": 0
      },
      "text/plain": [
       "  0%|          | 0/1 [00:00<?, ?it/s]"
      ]
     },
     "metadata": {},
     "output_type": "display_data"
    },
    {
     "name": "stdout",
     "output_type": "stream",
     "text": [
      "==================================================\n",
      "[Log] Package      : EventDisplay\n",
      "[Log] # of Dwarfs  : 17\n",
      "[Log] Channel      : wino\n",
      "[Log] Dimention    : 1\n",
      "[Log] Background   : Gaussian (gaus)\n",
      "[Log] Dispersion   : Etr vs ratio\n",
      "[Log] Minimum mass : 21000 GeV\n",
      "[Log] Maximum mass : 21 TeV\n",
      "==================================================\n"
     ]
    },
    {
     "data": {
      "application/vnd.jupyter.widget-view+json": {
       "model_id": "7a83c7bc99244f28a7cfddca38a7c950",
       "version_major": 2,
       "version_minor": 0
      },
      "text/plain": [
       "  0%|          | 0/1 [00:00<?, ?it/s]"
      ]
     },
     "metadata": {},
     "output_type": "display_data"
    },
    {
     "name": "stdout",
     "output_type": "stream",
     "text": [
      "==================================================\n",
      "[Log] Package      : EventDisplay\n",
      "[Log] # of Dwarfs  : 17\n",
      "[Log] Channel      : wino\n",
      "[Log] Dimention    : 1\n",
      "[Log] Background   : Gaussian (gaus)\n",
      "[Log] Dispersion   : Etr vs ratio\n",
      "[Log] Minimum mass : 21500 GeV\n",
      "[Log] Maximum mass : 22 TeV\n",
      "==================================================\n"
     ]
    },
    {
     "data": {
      "application/vnd.jupyter.widget-view+json": {
       "model_id": "3c7a5954bfe64f699ec70c42ddca878e",
       "version_major": 2,
       "version_minor": 0
      },
      "text/plain": [
       "  0%|          | 0/1 [00:00<?, ?it/s]"
      ]
     },
     "metadata": {},
     "output_type": "display_data"
    },
    {
     "name": "stdout",
     "output_type": "stream",
     "text": [
      "==================================================\n",
      "[Log] Package      : EventDisplay\n",
      "[Log] # of Dwarfs  : 17\n",
      "[Log] Channel      : wino\n",
      "[Log] Dimention    : 1\n",
      "[Log] Background   : Gaussian (gaus)\n",
      "[Log] Dispersion   : Etr vs ratio\n",
      "[Log] Minimum mass : 22000 GeV\n",
      "[Log] Maximum mass : 22 TeV\n",
      "==================================================\n"
     ]
    },
    {
     "data": {
      "application/vnd.jupyter.widget-view+json": {
       "model_id": "865dddb618b44032a9671992371fad31",
       "version_major": 2,
       "version_minor": 0
      },
      "text/plain": [
       "  0%|          | 0/1 [00:00<?, ?it/s]"
      ]
     },
     "metadata": {},
     "output_type": "display_data"
    },
    {
     "name": "stdout",
     "output_type": "stream",
     "text": [
      "==================================================\n",
      "[Log] Package      : EventDisplay\n",
      "[Log] # of Dwarfs  : 17\n",
      "[Log] Channel      : wino\n",
      "[Log] Dimention    : 1\n",
      "[Log] Background   : Gaussian (gaus)\n",
      "[Log] Dispersion   : Etr vs ratio\n",
      "[Log] Minimum mass : 22500 GeV\n",
      "[Log] Maximum mass : 22 TeV\n",
      "==================================================\n"
     ]
    },
    {
     "data": {
      "application/vnd.jupyter.widget-view+json": {
       "model_id": "46125fd7e382434ea5bbae2bbece4318",
       "version_major": 2,
       "version_minor": 0
      },
      "text/plain": [
       "  0%|          | 0/1 [00:00<?, ?it/s]"
      ]
     },
     "metadata": {},
     "output_type": "display_data"
    },
    {
     "name": "stdout",
     "output_type": "stream",
     "text": [
      "==================================================\n",
      "[Log] Package      : EventDisplay\n",
      "[Log] # of Dwarfs  : 17\n",
      "[Log] Channel      : wino\n",
      "[Log] Dimention    : 1\n",
      "[Log] Background   : Gaussian (gaus)\n",
      "[Log] Dispersion   : Etr vs ratio\n",
      "[Log] Minimum mass : 23000 GeV\n",
      "[Log] Maximum mass : 23 TeV\n",
      "==================================================\n"
     ]
    },
    {
     "data": {
      "application/vnd.jupyter.widget-view+json": {
       "model_id": "010167a2c2f34767b6ed0832096f39af",
       "version_major": 2,
       "version_minor": 0
      },
      "text/plain": [
       "  0%|          | 0/1 [00:00<?, ?it/s]"
      ]
     },
     "metadata": {},
     "output_type": "display_data"
    },
    {
     "name": "stdout",
     "output_type": "stream",
     "text": [
      "==================================================\n",
      "[Log] Package      : EventDisplay\n",
      "[Log] # of Dwarfs  : 17\n",
      "[Log] Channel      : wino\n",
      "[Log] Dimention    : 1\n",
      "[Log] Background   : Gaussian (gaus)\n",
      "[Log] Dispersion   : Etr vs ratio\n",
      "[Log] Minimum mass : 23500 GeV\n",
      "[Log] Maximum mass : 24 TeV\n",
      "==================================================\n"
     ]
    },
    {
     "data": {
      "application/vnd.jupyter.widget-view+json": {
       "model_id": "a771029dad0b4d1dad7c6aafbd6a30f9",
       "version_major": 2,
       "version_minor": 0
      },
      "text/plain": [
       "  0%|          | 0/1 [00:00<?, ?it/s]"
      ]
     },
     "metadata": {},
     "output_type": "display_data"
    },
    {
     "name": "stdout",
     "output_type": "stream",
     "text": [
      "==================================================\n",
      "[Log] Package      : EventDisplay\n",
      "[Log] # of Dwarfs  : 17\n",
      "[Log] Channel      : wino\n",
      "[Log] Dimention    : 1\n",
      "[Log] Background   : Gaussian (gaus)\n",
      "[Log] Dispersion   : Etr vs ratio\n",
      "[Log] Minimum mass : 24000 GeV\n",
      "[Log] Maximum mass : 24 TeV\n",
      "==================================================\n"
     ]
    },
    {
     "data": {
      "application/vnd.jupyter.widget-view+json": {
       "model_id": "844c360a06cf480f9b26395219460786",
       "version_major": 2,
       "version_minor": 0
      },
      "text/plain": [
       "  0%|          | 0/1 [00:00<?, ?it/s]"
      ]
     },
     "metadata": {},
     "output_type": "display_data"
    },
    {
     "name": "stdout",
     "output_type": "stream",
     "text": [
      "==================================================\n",
      "[Log] Package      : EventDisplay\n",
      "[Log] # of Dwarfs  : 17\n",
      "[Log] Channel      : wino\n",
      "[Log] Dimention    : 1\n",
      "[Log] Background   : Gaussian (gaus)\n",
      "[Log] Dispersion   : Etr vs ratio\n",
      "[Log] Minimum mass : 24500 GeV\n",
      "[Log] Maximum mass : 24 TeV\n",
      "==================================================\n"
     ]
    },
    {
     "data": {
      "application/vnd.jupyter.widget-view+json": {
       "model_id": "29963c77d4ad47568203b172eba0d5e3",
       "version_major": 2,
       "version_minor": 0
      },
      "text/plain": [
       "  0%|          | 0/1 [00:00<?, ?it/s]"
      ]
     },
     "metadata": {},
     "output_type": "display_data"
    },
    {
     "name": "stdout",
     "output_type": "stream",
     "text": [
      "==================================================\n",
      "[Log] Package      : EventDisplay\n",
      "[Log] # of Dwarfs  : 17\n",
      "[Log] Channel      : wino\n",
      "[Log] Dimention    : 1\n",
      "[Log] Background   : Gaussian (gaus)\n",
      "[Log] Dispersion   : Etr vs ratio\n",
      "[Log] Minimum mass : 25000 GeV\n",
      "[Log] Maximum mass : 25 TeV\n",
      "==================================================\n"
     ]
    },
    {
     "data": {
      "application/vnd.jupyter.widget-view+json": {
       "model_id": "65c93c4f997249188e4b7eb6ba603288",
       "version_major": 2,
       "version_minor": 0
      },
      "text/plain": [
       "  0%|          | 0/1 [00:00<?, ?it/s]"
      ]
     },
     "metadata": {},
     "output_type": "display_data"
    },
    {
     "name": "stdout",
     "output_type": "stream",
     "text": [
      "==================================================\n",
      "[Log] Package      : EventDisplay\n",
      "[Log] # of Dwarfs  : 17\n",
      "[Log] Channel      : wino\n",
      "[Log] Dimention    : 1\n",
      "[Log] Background   : Gaussian (gaus)\n",
      "[Log] Dispersion   : Etr vs ratio\n",
      "[Log] Minimum mass : 25500 GeV\n",
      "[Log] Maximum mass : 26 TeV\n",
      "==================================================\n"
     ]
    },
    {
     "data": {
      "application/vnd.jupyter.widget-view+json": {
       "model_id": "d7ca2a8a2e6144549bf8ac2060a19a5c",
       "version_major": 2,
       "version_minor": 0
      },
      "text/plain": [
       "  0%|          | 0/1 [00:00<?, ?it/s]"
      ]
     },
     "metadata": {},
     "output_type": "display_data"
    },
    {
     "name": "stdout",
     "output_type": "stream",
     "text": [
      "==================================================\n",
      "[Log] Package      : EventDisplay\n",
      "[Log] # of Dwarfs  : 17\n",
      "[Log] Channel      : wino\n",
      "[Log] Dimention    : 1\n",
      "[Log] Background   : Gaussian (gaus)\n",
      "[Log] Dispersion   : Etr vs ratio\n",
      "[Log] Minimum mass : 26000 GeV\n",
      "[Log] Maximum mass : 26 TeV\n",
      "==================================================\n"
     ]
    },
    {
     "data": {
      "application/vnd.jupyter.widget-view+json": {
       "model_id": "eb281e7f7ff748078bc5634085b83536",
       "version_major": 2,
       "version_minor": 0
      },
      "text/plain": [
       "  0%|          | 0/1 [00:00<?, ?it/s]"
      ]
     },
     "metadata": {},
     "output_type": "display_data"
    },
    {
     "name": "stdout",
     "output_type": "stream",
     "text": [
      "==================================================\n",
      "[Log] Package      : EventDisplay\n",
      "[Log] # of Dwarfs  : 17\n",
      "[Log] Channel      : wino\n",
      "[Log] Dimention    : 1\n",
      "[Log] Background   : Gaussian (gaus)\n",
      "[Log] Dispersion   : Etr vs ratio\n",
      "[Log] Minimum mass : 26500 GeV\n",
      "[Log] Maximum mass : 26 TeV\n",
      "==================================================\n"
     ]
    },
    {
     "data": {
      "application/vnd.jupyter.widget-view+json": {
       "model_id": "b9d7b89e92324c48845914b9ac1b8755",
       "version_major": 2,
       "version_minor": 0
      },
      "text/plain": [
       "  0%|          | 0/1 [00:00<?, ?it/s]"
      ]
     },
     "metadata": {},
     "output_type": "display_data"
    },
    {
     "name": "stdout",
     "output_type": "stream",
     "text": [
      "==================================================\n",
      "[Log] Package      : EventDisplay\n",
      "[Log] # of Dwarfs  : 17\n",
      "[Log] Channel      : wino\n",
      "[Log] Dimention    : 1\n",
      "[Log] Background   : Gaussian (gaus)\n",
      "[Log] Dispersion   : Etr vs ratio\n",
      "[Log] Minimum mass : 27000 GeV\n",
      "[Log] Maximum mass : 27 TeV\n",
      "==================================================\n"
     ]
    },
    {
     "data": {
      "application/vnd.jupyter.widget-view+json": {
       "model_id": "4b970d8d4da14328a41fce29e0de96d2",
       "version_major": 2,
       "version_minor": 0
      },
      "text/plain": [
       "  0%|          | 0/1 [00:00<?, ?it/s]"
      ]
     },
     "metadata": {},
     "output_type": "display_data"
    },
    {
     "name": "stdout",
     "output_type": "stream",
     "text": [
      "==================================================\n",
      "[Log] Package      : EventDisplay\n",
      "[Log] # of Dwarfs  : 17\n",
      "[Log] Channel      : wino\n",
      "[Log] Dimention    : 1\n",
      "[Log] Background   : Gaussian (gaus)\n",
      "[Log] Dispersion   : Etr vs ratio\n",
      "[Log] Minimum mass : 27500 GeV\n",
      "[Log] Maximum mass : 28 TeV\n",
      "==================================================\n"
     ]
    },
    {
     "data": {
      "application/vnd.jupyter.widget-view+json": {
       "model_id": "fb602b910cac4608ac6c0e59654eb616",
       "version_major": 2,
       "version_minor": 0
      },
      "text/plain": [
       "  0%|          | 0/1 [00:00<?, ?it/s]"
      ]
     },
     "metadata": {},
     "output_type": "display_data"
    },
    {
     "name": "stdout",
     "output_type": "stream",
     "text": [
      "==================================================\n",
      "[Log] Package      : EventDisplay\n",
      "[Log] # of Dwarfs  : 17\n",
      "[Log] Channel      : wino\n",
      "[Log] Dimention    : 1\n",
      "[Log] Background   : Gaussian (gaus)\n",
      "[Log] Dispersion   : Etr vs ratio\n",
      "[Log] Minimum mass : 28000 GeV\n",
      "[Log] Maximum mass : 28 TeV\n",
      "==================================================\n"
     ]
    },
    {
     "data": {
      "application/vnd.jupyter.widget-view+json": {
       "model_id": "493fdf368d984abdb8b712c489bdeaec",
       "version_major": 2,
       "version_minor": 0
      },
      "text/plain": [
       "  0%|          | 0/1 [00:00<?, ?it/s]"
      ]
     },
     "metadata": {},
     "output_type": "display_data"
    },
    {
     "name": "stdout",
     "output_type": "stream",
     "text": [
      "==================================================\n",
      "[Log] Package      : EventDisplay\n",
      "[Log] # of Dwarfs  : 17\n",
      "[Log] Channel      : wino\n",
      "[Log] Dimention    : 1\n",
      "[Log] Background   : Gaussian (gaus)\n",
      "[Log] Dispersion   : Etr vs ratio\n",
      "[Log] Minimum mass : 28500 GeV\n",
      "[Log] Maximum mass : 28 TeV\n",
      "==================================================\n"
     ]
    },
    {
     "data": {
      "application/vnd.jupyter.widget-view+json": {
       "model_id": "ab0c2ec9f84c47e9bf768deb3ad3b908",
       "version_major": 2,
       "version_minor": 0
      },
      "text/plain": [
       "  0%|          | 0/1 [00:00<?, ?it/s]"
      ]
     },
     "metadata": {},
     "output_type": "display_data"
    },
    {
     "name": "stdout",
     "output_type": "stream",
     "text": [
      "==================================================\n",
      "[Log] Package      : EventDisplay\n",
      "[Log] # of Dwarfs  : 17\n",
      "[Log] Channel      : wino\n",
      "[Log] Dimention    : 1\n",
      "[Log] Background   : Gaussian (gaus)\n",
      "[Log] Dispersion   : Etr vs ratio\n",
      "[Log] Minimum mass : 29000 GeV\n",
      "[Log] Maximum mass : 29 TeV\n",
      "==================================================\n"
     ]
    },
    {
     "data": {
      "application/vnd.jupyter.widget-view+json": {
       "model_id": "8d7ded77058a49eb8f1d97190a93e476",
       "version_major": 2,
       "version_minor": 0
      },
      "text/plain": [
       "  0%|          | 0/1 [00:00<?, ?it/s]"
      ]
     },
     "metadata": {},
     "output_type": "display_data"
    },
    {
     "name": "stdout",
     "output_type": "stream",
     "text": [
      "==================================================\n",
      "[Log] Package      : EventDisplay\n",
      "[Log] # of Dwarfs  : 17\n",
      "[Log] Channel      : wino\n",
      "[Log] Dimention    : 1\n",
      "[Log] Background   : Gaussian (gaus)\n",
      "[Log] Dispersion   : Etr vs ratio\n",
      "[Log] Minimum mass : 29500 GeV\n",
      "[Log] Maximum mass : 30 TeV\n",
      "==================================================\n"
     ]
    },
    {
     "data": {
      "application/vnd.jupyter.widget-view+json": {
       "model_id": "44a2f05f05c34250a4c3a891ad2986a9",
       "version_major": 2,
       "version_minor": 0
      },
      "text/plain": [
       "  0%|          | 0/1 [00:00<?, ?it/s]"
      ]
     },
     "metadata": {},
     "output_type": "display_data"
    },
    {
     "name": "stdout",
     "output_type": "stream",
     "text": [
      "==================================================\n",
      "[Log] Package      : EventDisplay\n",
      "[Log] # of Dwarfs  : 17\n",
      "[Log] Channel      : wino\n",
      "[Log] Dimention    : 1\n",
      "[Log] Background   : Gaussian (gaus)\n",
      "[Log] Dispersion   : Etr vs ratio\n",
      "[Log] Minimum mass : 30000 GeV\n",
      "[Log] Maximum mass : 30 TeV\n",
      "==================================================\n"
     ]
    },
    {
     "data": {
      "application/vnd.jupyter.widget-view+json": {
       "model_id": "4619814bce02449a8ac2b16f3d710e58",
       "version_major": 2,
       "version_minor": 0
      },
      "text/plain": [
       "  0%|          | 0/1 [00:00<?, ?it/s]"
      ]
     },
     "metadata": {},
     "output_type": "display_data"
    },
    {
     "name": "stdout",
     "output_type": "stream",
     "text": [
      "==================================================\n",
      "[Log] Package      : EventDisplay\n",
      "[Log] # of Dwarfs  : 17\n",
      "[Log] Channel      : wino\n",
      "[Log] Dimention    : 1\n",
      "[Log] Background   : Gaussian (gaus)\n",
      "[Log] Dispersion   : Etr vs ratio\n",
      "[Log] Minimum mass : 30500 GeV\n",
      "[Log] Maximum mass : 30 TeV\n",
      "==================================================\n"
     ]
    },
    {
     "data": {
      "application/vnd.jupyter.widget-view+json": {
       "model_id": "c731b8de46d74f4f984431de0db15df5",
       "version_major": 2,
       "version_minor": 0
      },
      "text/plain": [
       "  0%|          | 0/1 [00:00<?, ?it/s]"
      ]
     },
     "metadata": {},
     "output_type": "display_data"
    },
    {
     "name": "stdout",
     "output_type": "stream",
     "text": [
      "==================================================\n",
      "[Log] Package      : EventDisplay\n",
      "[Log] # of Dwarfs  : 17\n",
      "[Log] Channel      : wino\n",
      "[Log] Dimention    : 1\n",
      "[Log] Background   : Gaussian (gaus)\n",
      "[Log] Dispersion   : Etr vs ratio\n",
      "[Log] Minimum mass : 31000 GeV\n",
      "[Log] Maximum mass : 31 TeV\n",
      "==================================================\n"
     ]
    },
    {
     "data": {
      "application/vnd.jupyter.widget-view+json": {
       "model_id": "5000577b4a0047f58d0c5a438a1bfc7c",
       "version_major": 2,
       "version_minor": 0
      },
      "text/plain": [
       "  0%|          | 0/1 [00:00<?, ?it/s]"
      ]
     },
     "metadata": {},
     "output_type": "display_data"
    },
    {
     "name": "stdout",
     "output_type": "stream",
     "text": [
      "==================================================\n",
      "[Log] Package      : EventDisplay\n",
      "[Log] # of Dwarfs  : 17\n",
      "[Log] Channel      : wino\n",
      "[Log] Dimention    : 1\n",
      "[Log] Background   : Gaussian (gaus)\n",
      "[Log] Dispersion   : Etr vs ratio\n",
      "[Log] Minimum mass : 31500 GeV\n",
      "[Log] Maximum mass : 32 TeV\n",
      "==================================================\n"
     ]
    },
    {
     "data": {
      "application/vnd.jupyter.widget-view+json": {
       "model_id": "9167e016fba843659839d266b45399ad",
       "version_major": 2,
       "version_minor": 0
      },
      "text/plain": [
       "  0%|          | 0/1 [00:00<?, ?it/s]"
      ]
     },
     "metadata": {},
     "output_type": "display_data"
    },
    {
     "name": "stdout",
     "output_type": "stream",
     "text": [
      "==================================================\n",
      "[Log] Package      : EventDisplay\n",
      "[Log] # of Dwarfs  : 17\n",
      "[Log] Channel      : wino\n",
      "[Log] Dimention    : 1\n",
      "[Log] Background   : Gaussian (gaus)\n",
      "[Log] Dispersion   : Etr vs ratio\n",
      "[Log] Minimum mass : 32000 GeV\n",
      "[Log] Maximum mass : 32 TeV\n",
      "==================================================\n"
     ]
    },
    {
     "data": {
      "application/vnd.jupyter.widget-view+json": {
       "model_id": "ace41082245040438afc62231f725384",
       "version_major": 2,
       "version_minor": 0
      },
      "text/plain": [
       "  0%|          | 0/1 [00:00<?, ?it/s]"
      ]
     },
     "metadata": {},
     "output_type": "display_data"
    },
    {
     "name": "stdout",
     "output_type": "stream",
     "text": [
      "==================================================\n",
      "[Log] Package      : EventDisplay\n",
      "[Log] # of Dwarfs  : 17\n",
      "[Log] Channel      : wino\n",
      "[Log] Dimention    : 1\n",
      "[Log] Background   : Gaussian (gaus)\n",
      "[Log] Dispersion   : Etr vs ratio\n",
      "[Log] Minimum mass : 32500 GeV\n",
      "[Log] Maximum mass : 32 TeV\n",
      "==================================================\n"
     ]
    },
    {
     "data": {
      "application/vnd.jupyter.widget-view+json": {
       "model_id": "b2d4a45e42af4c4b91bc8d745b86ac09",
       "version_major": 2,
       "version_minor": 0
      },
      "text/plain": [
       "  0%|          | 0/1 [00:00<?, ?it/s]"
      ]
     },
     "metadata": {},
     "output_type": "display_data"
    },
    {
     "name": "stdout",
     "output_type": "stream",
     "text": [
      "==================================================\n",
      "[Log] Package      : EventDisplay\n",
      "[Log] # of Dwarfs  : 17\n",
      "[Log] Channel      : wino\n",
      "[Log] Dimention    : 1\n",
      "[Log] Background   : Gaussian (gaus)\n",
      "[Log] Dispersion   : Etr vs ratio\n",
      "[Log] Minimum mass : 33000 GeV\n",
      "[Log] Maximum mass : 33 TeV\n",
      "==================================================\n"
     ]
    },
    {
     "data": {
      "application/vnd.jupyter.widget-view+json": {
       "model_id": "ef9b2bf139604ad59c86d7a5e96c73f9",
       "version_major": 2,
       "version_minor": 0
      },
      "text/plain": [
       "  0%|          | 0/1 [00:00<?, ?it/s]"
      ]
     },
     "metadata": {},
     "output_type": "display_data"
    },
    {
     "name": "stdout",
     "output_type": "stream",
     "text": [
      "==================================================\n",
      "[Log] Package      : EventDisplay\n",
      "[Log] # of Dwarfs  : 17\n",
      "[Log] Channel      : wino\n",
      "[Log] Dimention    : 1\n",
      "[Log] Background   : Gaussian (gaus)\n",
      "[Log] Dispersion   : Etr vs ratio\n",
      "[Log] Minimum mass : 33500 GeV\n",
      "[Log] Maximum mass : 34 TeV\n",
      "==================================================\n"
     ]
    },
    {
     "data": {
      "application/vnd.jupyter.widget-view+json": {
       "model_id": "9ba18d3f8cd54a218b3b22fac01e1a0d",
       "version_major": 2,
       "version_minor": 0
      },
      "text/plain": [
       "  0%|          | 0/1 [00:00<?, ?it/s]"
      ]
     },
     "metadata": {},
     "output_type": "display_data"
    },
    {
     "name": "stdout",
     "output_type": "stream",
     "text": [
      "==================================================\n",
      "[Log] Package      : EventDisplay\n",
      "[Log] # of Dwarfs  : 17\n",
      "[Log] Channel      : wino\n",
      "[Log] Dimention    : 1\n",
      "[Log] Background   : Gaussian (gaus)\n",
      "[Log] Dispersion   : Etr vs ratio\n",
      "[Log] Minimum mass : 34000 GeV\n",
      "[Log] Maximum mass : 34 TeV\n",
      "==================================================\n"
     ]
    },
    {
     "data": {
      "application/vnd.jupyter.widget-view+json": {
       "model_id": "91bf5414e0f44b5e9adb0f330781d1bd",
       "version_major": 2,
       "version_minor": 0
      },
      "text/plain": [
       "  0%|          | 0/1 [00:00<?, ?it/s]"
      ]
     },
     "metadata": {},
     "output_type": "display_data"
    },
    {
     "name": "stdout",
     "output_type": "stream",
     "text": [
      "==================================================\n",
      "[Log] Package      : EventDisplay\n",
      "[Log] # of Dwarfs  : 17\n",
      "[Log] Channel      : wino\n",
      "[Log] Dimention    : 1\n",
      "[Log] Background   : Gaussian (gaus)\n",
      "[Log] Dispersion   : Etr vs ratio\n",
      "[Log] Minimum mass : 34500 GeV\n",
      "[Log] Maximum mass : 34 TeV\n",
      "==================================================\n"
     ]
    },
    {
     "data": {
      "application/vnd.jupyter.widget-view+json": {
       "model_id": "cdb97736bae44d9d86c7dff5e2ca85bc",
       "version_major": 2,
       "version_minor": 0
      },
      "text/plain": [
       "  0%|          | 0/1 [00:00<?, ?it/s]"
      ]
     },
     "metadata": {},
     "output_type": "display_data"
    },
    {
     "name": "stdout",
     "output_type": "stream",
     "text": [
      "==================================================\n",
      "[Log] Package      : EventDisplay\n",
      "[Log] # of Dwarfs  : 17\n",
      "[Log] Channel      : wino\n",
      "[Log] Dimention    : 1\n",
      "[Log] Background   : Gaussian (gaus)\n",
      "[Log] Dispersion   : Etr vs ratio\n",
      "[Log] Minimum mass : 35000 GeV\n",
      "[Log] Maximum mass : 35 TeV\n",
      "==================================================\n"
     ]
    },
    {
     "data": {
      "application/vnd.jupyter.widget-view+json": {
       "model_id": "f328b6cbdd104a4a9c19547813eca4aa",
       "version_major": 2,
       "version_minor": 0
      },
      "text/plain": [
       "  0%|          | 0/1 [00:00<?, ?it/s]"
      ]
     },
     "metadata": {},
     "output_type": "display_data"
    },
    {
     "name": "stdout",
     "output_type": "stream",
     "text": [
      "==================================================\n",
      "[Log] Package      : EventDisplay\n",
      "[Log] # of Dwarfs  : 17\n",
      "[Log] Channel      : wino\n",
      "[Log] Dimention    : 1\n",
      "[Log] Background   : Gaussian (gaus)\n",
      "[Log] Dispersion   : Etr vs ratio\n",
      "[Log] Minimum mass : 35500 GeV\n",
      "[Log] Maximum mass : 36 TeV\n",
      "==================================================\n"
     ]
    },
    {
     "data": {
      "application/vnd.jupyter.widget-view+json": {
       "model_id": "4a22bbbf8a6f4d1cb71e7c2a2e3d8519",
       "version_major": 2,
       "version_minor": 0
      },
      "text/plain": [
       "  0%|          | 0/1 [00:00<?, ?it/s]"
      ]
     },
     "metadata": {},
     "output_type": "display_data"
    },
    {
     "name": "stdout",
     "output_type": "stream",
     "text": [
      "==================================================\n",
      "[Log] Package      : EventDisplay\n",
      "[Log] # of Dwarfs  : 17\n",
      "[Log] Channel      : wino\n",
      "[Log] Dimention    : 1\n",
      "[Log] Background   : Gaussian (gaus)\n",
      "[Log] Dispersion   : Etr vs ratio\n",
      "[Log] Minimum mass : 36000 GeV\n",
      "[Log] Maximum mass : 36 TeV\n",
      "==================================================\n"
     ]
    },
    {
     "data": {
      "application/vnd.jupyter.widget-view+json": {
       "model_id": "02075c9d27024058833066f726a6a645",
       "version_major": 2,
       "version_minor": 0
      },
      "text/plain": [
       "  0%|          | 0/1 [00:00<?, ?it/s]"
      ]
     },
     "metadata": {},
     "output_type": "display_data"
    },
    {
     "name": "stdout",
     "output_type": "stream",
     "text": [
      "==================================================\n",
      "[Log] Package      : EventDisplay\n",
      "[Log] # of Dwarfs  : 17\n",
      "[Log] Channel      : wino\n",
      "[Log] Dimention    : 1\n",
      "[Log] Background   : Gaussian (gaus)\n",
      "[Log] Dispersion   : Etr vs ratio\n",
      "[Log] Minimum mass : 36500 GeV\n",
      "[Log] Maximum mass : 36 TeV\n",
      "==================================================\n"
     ]
    },
    {
     "data": {
      "application/vnd.jupyter.widget-view+json": {
       "model_id": "bbe1158aefd245cdb79a1b96dd36b70b",
       "version_major": 2,
       "version_minor": 0
      },
      "text/plain": [
       "  0%|          | 0/1 [00:00<?, ?it/s]"
      ]
     },
     "metadata": {},
     "output_type": "display_data"
    },
    {
     "name": "stdout",
     "output_type": "stream",
     "text": [
      "==================================================\n",
      "[Log] Package      : EventDisplay\n",
      "[Log] # of Dwarfs  : 17\n",
      "[Log] Channel      : wino\n",
      "[Log] Dimention    : 1\n",
      "[Log] Background   : Gaussian (gaus)\n",
      "[Log] Dispersion   : Etr vs ratio\n",
      "[Log] Minimum mass : 37000 GeV\n",
      "[Log] Maximum mass : 37 TeV\n",
      "==================================================\n"
     ]
    },
    {
     "data": {
      "application/vnd.jupyter.widget-view+json": {
       "model_id": "a8c78e5a949245bf8376129320f31862",
       "version_major": 2,
       "version_minor": 0
      },
      "text/plain": [
       "  0%|          | 0/1 [00:00<?, ?it/s]"
      ]
     },
     "metadata": {},
     "output_type": "display_data"
    },
    {
     "name": "stdout",
     "output_type": "stream",
     "text": [
      "==================================================\n",
      "[Log] Package      : EventDisplay\n",
      "[Log] # of Dwarfs  : 17\n",
      "[Log] Channel      : wino\n",
      "[Log] Dimention    : 1\n",
      "[Log] Background   : Gaussian (gaus)\n",
      "[Log] Dispersion   : Etr vs ratio\n",
      "[Log] Minimum mass : 37500 GeV\n",
      "[Log] Maximum mass : 38 TeV\n",
      "==================================================\n"
     ]
    },
    {
     "data": {
      "application/vnd.jupyter.widget-view+json": {
       "model_id": "106f6f4faf0646128411171ce7f7da29",
       "version_major": 2,
       "version_minor": 0
      },
      "text/plain": [
       "  0%|          | 0/1 [00:00<?, ?it/s]"
      ]
     },
     "metadata": {},
     "output_type": "display_data"
    },
    {
     "name": "stdout",
     "output_type": "stream",
     "text": [
      "==================================================\n",
      "[Log] Package      : EventDisplay\n",
      "[Log] # of Dwarfs  : 17\n",
      "[Log] Channel      : wino\n",
      "[Log] Dimention    : 1\n",
      "[Log] Background   : Gaussian (gaus)\n",
      "[Log] Dispersion   : Etr vs ratio\n",
      "[Log] Minimum mass : 38000 GeV\n",
      "[Log] Maximum mass : 38 TeV\n",
      "==================================================\n"
     ]
    },
    {
     "data": {
      "application/vnd.jupyter.widget-view+json": {
       "model_id": "b95d59b2a2c94ab28a3cc97defbd03aa",
       "version_major": 2,
       "version_minor": 0
      },
      "text/plain": [
       "  0%|          | 0/1 [00:00<?, ?it/s]"
      ]
     },
     "metadata": {},
     "output_type": "display_data"
    },
    {
     "name": "stdout",
     "output_type": "stream",
     "text": [
      "==================================================\n",
      "[Log] Package      : EventDisplay\n",
      "[Log] # of Dwarfs  : 17\n",
      "[Log] Channel      : wino\n",
      "[Log] Dimention    : 1\n",
      "[Log] Background   : Gaussian (gaus)\n",
      "[Log] Dispersion   : Etr vs ratio\n",
      "[Log] Minimum mass : 38500 GeV\n",
      "[Log] Maximum mass : 38 TeV\n",
      "==================================================\n"
     ]
    },
    {
     "data": {
      "application/vnd.jupyter.widget-view+json": {
       "model_id": "3915f6c24757496a9fd03f6c5e21afad",
       "version_major": 2,
       "version_minor": 0
      },
      "text/plain": [
       "  0%|          | 0/1 [00:00<?, ?it/s]"
      ]
     },
     "metadata": {},
     "output_type": "display_data"
    },
    {
     "name": "stdout",
     "output_type": "stream",
     "text": [
      "==================================================\n",
      "[Log] Package      : EventDisplay\n",
      "[Log] # of Dwarfs  : 17\n",
      "[Log] Channel      : wino\n",
      "[Log] Dimention    : 1\n",
      "[Log] Background   : Gaussian (gaus)\n",
      "[Log] Dispersion   : Etr vs ratio\n",
      "[Log] Minimum mass : 39000 GeV\n",
      "[Log] Maximum mass : 39 TeV\n",
      "==================================================\n"
     ]
    },
    {
     "data": {
      "application/vnd.jupyter.widget-view+json": {
       "model_id": "a2b232763e704ef583fb4f8b61f233e2",
       "version_major": 2,
       "version_minor": 0
      },
      "text/plain": [
       "  0%|          | 0/1 [00:00<?, ?it/s]"
      ]
     },
     "metadata": {},
     "output_type": "display_data"
    },
    {
     "name": "stdout",
     "output_type": "stream",
     "text": [
      "==================================================\n",
      "[Log] Package      : EventDisplay\n",
      "[Log] # of Dwarfs  : 17\n",
      "[Log] Channel      : wino\n",
      "[Log] Dimention    : 1\n",
      "[Log] Background   : Gaussian (gaus)\n",
      "[Log] Dispersion   : Etr vs ratio\n",
      "[Log] Minimum mass : 39500 GeV\n",
      "[Log] Maximum mass : 40 TeV\n",
      "==================================================\n"
     ]
    },
    {
     "data": {
      "application/vnd.jupyter.widget-view+json": {
       "model_id": "1d9013e2bbbd497cbabe0e4dbb922a63",
       "version_major": 2,
       "version_minor": 0
      },
      "text/plain": [
       "  0%|          | 0/1 [00:00<?, ?it/s]"
      ]
     },
     "metadata": {},
     "output_type": "display_data"
    },
    {
     "name": "stdout",
     "output_type": "stream",
     "text": [
      "==================================================\n",
      "[Log] Package      : EventDisplay\n",
      "[Log] # of Dwarfs  : 17\n",
      "[Log] Channel      : wino\n",
      "[Log] Dimention    : 1\n",
      "[Log] Background   : Gaussian (gaus)\n",
      "[Log] Dispersion   : Etr vs ratio\n",
      "[Log] Minimum mass : 40000 GeV\n",
      "[Log] Maximum mass : 40 TeV\n",
      "==================================================\n"
     ]
    },
    {
     "data": {
      "application/vnd.jupyter.widget-view+json": {
       "model_id": "ae5d55d538e64939b660f39c10d5622c",
       "version_major": 2,
       "version_minor": 0
      },
      "text/plain": [
       "  0%|          | 0/1 [00:00<?, ?it/s]"
      ]
     },
     "metadata": {},
     "output_type": "display_data"
    },
    {
     "name": "stdout",
     "output_type": "stream",
     "text": [
      "==================================================\n",
      "[Log] Package      : EventDisplay\n",
      "[Log] # of Dwarfs  : 17\n",
      "[Log] Channel      : wino\n",
      "[Log] Dimention    : 1\n",
      "[Log] Background   : Gaussian (gaus)\n",
      "[Log] Dispersion   : Etr vs ratio\n",
      "[Log] Minimum mass : 40500 GeV\n",
      "[Log] Maximum mass : 40 TeV\n",
      "==================================================\n"
     ]
    },
    {
     "data": {
      "application/vnd.jupyter.widget-view+json": {
       "model_id": "f2760cd49da446b9b25c0a37f644ae02",
       "version_major": 2,
       "version_minor": 0
      },
      "text/plain": [
       "  0%|          | 0/1 [00:00<?, ?it/s]"
      ]
     },
     "metadata": {},
     "output_type": "display_data"
    },
    {
     "name": "stdout",
     "output_type": "stream",
     "text": [
      "==================================================\n",
      "[Log] Package      : EventDisplay\n",
      "[Log] # of Dwarfs  : 17\n",
      "[Log] Channel      : wino\n",
      "[Log] Dimention    : 1\n",
      "[Log] Background   : Gaussian (gaus)\n",
      "[Log] Dispersion   : Etr vs ratio\n",
      "[Log] Minimum mass : 41000 GeV\n",
      "[Log] Maximum mass : 41 TeV\n",
      "==================================================\n"
     ]
    },
    {
     "data": {
      "application/vnd.jupyter.widget-view+json": {
       "model_id": "f2405d146ce2425ab13985ec5802c977",
       "version_major": 2,
       "version_minor": 0
      },
      "text/plain": [
       "  0%|          | 0/1 [00:00<?, ?it/s]"
      ]
     },
     "metadata": {},
     "output_type": "display_data"
    },
    {
     "name": "stdout",
     "output_type": "stream",
     "text": [
      "==================================================\n",
      "[Log] Package      : EventDisplay\n",
      "[Log] # of Dwarfs  : 17\n",
      "[Log] Channel      : wino\n",
      "[Log] Dimention    : 1\n",
      "[Log] Background   : Gaussian (gaus)\n",
      "[Log] Dispersion   : Etr vs ratio\n",
      "[Log] Minimum mass : 41500 GeV\n",
      "[Log] Maximum mass : 42 TeV\n",
      "==================================================\n"
     ]
    },
    {
     "data": {
      "application/vnd.jupyter.widget-view+json": {
       "model_id": "881f4289904f456a9bc7aa779ed6b3e4",
       "version_major": 2,
       "version_minor": 0
      },
      "text/plain": [
       "  0%|          | 0/1 [00:00<?, ?it/s]"
      ]
     },
     "metadata": {},
     "output_type": "display_data"
    },
    {
     "name": "stdout",
     "output_type": "stream",
     "text": [
      "==================================================\n",
      "[Log] Package      : EventDisplay\n",
      "[Log] # of Dwarfs  : 17\n",
      "[Log] Channel      : wino\n",
      "[Log] Dimention    : 1\n",
      "[Log] Background   : Gaussian (gaus)\n",
      "[Log] Dispersion   : Etr vs ratio\n",
      "[Log] Minimum mass : 42000 GeV\n",
      "[Log] Maximum mass : 42 TeV\n",
      "==================================================\n"
     ]
    },
    {
     "data": {
      "application/vnd.jupyter.widget-view+json": {
       "model_id": "89e852205ab046c7920bee7ec4bbc843",
       "version_major": 2,
       "version_minor": 0
      },
      "text/plain": [
       "  0%|          | 0/1 [00:00<?, ?it/s]"
      ]
     },
     "metadata": {},
     "output_type": "display_data"
    },
    {
     "name": "stdout",
     "output_type": "stream",
     "text": [
      "==================================================\n",
      "[Log] Package      : EventDisplay\n",
      "[Log] # of Dwarfs  : 17\n",
      "[Log] Channel      : wino\n",
      "[Log] Dimention    : 1\n",
      "[Log] Background   : Gaussian (gaus)\n",
      "[Log] Dispersion   : Etr vs ratio\n",
      "[Log] Minimum mass : 42500 GeV\n",
      "[Log] Maximum mass : 42 TeV\n",
      "==================================================\n"
     ]
    },
    {
     "data": {
      "application/vnd.jupyter.widget-view+json": {
       "model_id": "4206b008bf8142c3927221c3ad5064b5",
       "version_major": 2,
       "version_minor": 0
      },
      "text/plain": [
       "  0%|          | 0/1 [00:00<?, ?it/s]"
      ]
     },
     "metadata": {},
     "output_type": "display_data"
    },
    {
     "name": "stdout",
     "output_type": "stream",
     "text": [
      "==================================================\n",
      "[Log] Package      : EventDisplay\n",
      "[Log] # of Dwarfs  : 17\n",
      "[Log] Channel      : wino\n",
      "[Log] Dimention    : 1\n",
      "[Log] Background   : Gaussian (gaus)\n",
      "[Log] Dispersion   : Etr vs ratio\n",
      "[Log] Minimum mass : 43000 GeV\n",
      "[Log] Maximum mass : 43 TeV\n",
      "==================================================\n"
     ]
    },
    {
     "data": {
      "application/vnd.jupyter.widget-view+json": {
       "model_id": "c49a365c87d84e9fabd75b9d1ae5304c",
       "version_major": 2,
       "version_minor": 0
      },
      "text/plain": [
       "  0%|          | 0/1 [00:00<?, ?it/s]"
      ]
     },
     "metadata": {},
     "output_type": "display_data"
    },
    {
     "name": "stdout",
     "output_type": "stream",
     "text": [
      "==================================================\n",
      "[Log] Package      : EventDisplay\n",
      "[Log] # of Dwarfs  : 17\n",
      "[Log] Channel      : wino\n",
      "[Log] Dimention    : 1\n",
      "[Log] Background   : Gaussian (gaus)\n",
      "[Log] Dispersion   : Etr vs ratio\n",
      "[Log] Minimum mass : 43500 GeV\n",
      "[Log] Maximum mass : 44 TeV\n",
      "==================================================\n"
     ]
    },
    {
     "data": {
      "application/vnd.jupyter.widget-view+json": {
       "model_id": "5de2da1c0b794ebaa7bd555ac7a74ac7",
       "version_major": 2,
       "version_minor": 0
      },
      "text/plain": [
       "  0%|          | 0/1 [00:00<?, ?it/s]"
      ]
     },
     "metadata": {},
     "output_type": "display_data"
    },
    {
     "name": "stdout",
     "output_type": "stream",
     "text": [
      "==================================================\n",
      "[Log] Package      : EventDisplay\n",
      "[Log] # of Dwarfs  : 17\n",
      "[Log] Channel      : wino\n",
      "[Log] Dimention    : 1\n",
      "[Log] Background   : Gaussian (gaus)\n",
      "[Log] Dispersion   : Etr vs ratio\n",
      "[Log] Minimum mass : 44000 GeV\n",
      "[Log] Maximum mass : 44 TeV\n",
      "==================================================\n"
     ]
    },
    {
     "data": {
      "application/vnd.jupyter.widget-view+json": {
       "model_id": "1216582287364ea3950efe4910cf6cd7",
       "version_major": 2,
       "version_minor": 0
      },
      "text/plain": [
       "  0%|          | 0/1 [00:00<?, ?it/s]"
      ]
     },
     "metadata": {},
     "output_type": "display_data"
    },
    {
     "name": "stdout",
     "output_type": "stream",
     "text": [
      "==================================================\n",
      "[Log] Package      : EventDisplay\n",
      "[Log] # of Dwarfs  : 17\n",
      "[Log] Channel      : wino\n",
      "[Log] Dimention    : 1\n",
      "[Log] Background   : Gaussian (gaus)\n",
      "[Log] Dispersion   : Etr vs ratio\n",
      "[Log] Minimum mass : 44500 GeV\n",
      "[Log] Maximum mass : 44 TeV\n",
      "==================================================\n"
     ]
    },
    {
     "data": {
      "application/vnd.jupyter.widget-view+json": {
       "model_id": "25cbbe51e6f645769734aa45a3b62724",
       "version_major": 2,
       "version_minor": 0
      },
      "text/plain": [
       "  0%|          | 0/1 [00:00<?, ?it/s]"
      ]
     },
     "metadata": {},
     "output_type": "display_data"
    },
    {
     "name": "stdout",
     "output_type": "stream",
     "text": [
      "==================================================\n",
      "[Log] Package      : EventDisplay\n",
      "[Log] # of Dwarfs  : 17\n",
      "[Log] Channel      : wino\n",
      "[Log] Dimention    : 1\n",
      "[Log] Background   : Gaussian (gaus)\n",
      "[Log] Dispersion   : Etr vs ratio\n",
      "[Log] Minimum mass : 45000 GeV\n",
      "[Log] Maximum mass : 45 TeV\n",
      "==================================================\n"
     ]
    },
    {
     "data": {
      "application/vnd.jupyter.widget-view+json": {
       "model_id": "23a2e2391cf94a42b0da1de361e16c73",
       "version_major": 2,
       "version_minor": 0
      },
      "text/plain": [
       "  0%|          | 0/1 [00:00<?, ?it/s]"
      ]
     },
     "metadata": {},
     "output_type": "display_data"
    },
    {
     "name": "stdout",
     "output_type": "stream",
     "text": [
      "==================================================\n",
      "[Log] Package      : EventDisplay\n",
      "[Log] # of Dwarfs  : 17\n",
      "[Log] Channel      : wino\n",
      "[Log] Dimention    : 1\n",
      "[Log] Background   : Gaussian (gaus)\n",
      "[Log] Dispersion   : Etr vs ratio\n",
      "[Log] Minimum mass : 45500 GeV\n",
      "[Log] Maximum mass : 46 TeV\n",
      "==================================================\n"
     ]
    },
    {
     "data": {
      "application/vnd.jupyter.widget-view+json": {
       "model_id": "57383901426844e591b5d794dfdb4d2e",
       "version_major": 2,
       "version_minor": 0
      },
      "text/plain": [
       "  0%|          | 0/1 [00:00<?, ?it/s]"
      ]
     },
     "metadata": {},
     "output_type": "display_data"
    },
    {
     "name": "stdout",
     "output_type": "stream",
     "text": [
      "==================================================\n",
      "[Log] Package      : EventDisplay\n",
      "[Log] # of Dwarfs  : 17\n",
      "[Log] Channel      : wino\n",
      "[Log] Dimention    : 1\n",
      "[Log] Background   : Gaussian (gaus)\n",
      "[Log] Dispersion   : Etr vs ratio\n",
      "[Log] Minimum mass : 46000 GeV\n",
      "[Log] Maximum mass : 46 TeV\n",
      "==================================================\n"
     ]
    },
    {
     "data": {
      "application/vnd.jupyter.widget-view+json": {
       "model_id": "a2a5c7921dd046e9bf3b947c4cb19045",
       "version_major": 2,
       "version_minor": 0
      },
      "text/plain": [
       "  0%|          | 0/1 [00:00<?, ?it/s]"
      ]
     },
     "metadata": {},
     "output_type": "display_data"
    },
    {
     "name": "stdout",
     "output_type": "stream",
     "text": [
      "==================================================\n",
      "[Log] Package      : EventDisplay\n",
      "[Log] # of Dwarfs  : 17\n",
      "[Log] Channel      : wino\n",
      "[Log] Dimention    : 1\n",
      "[Log] Background   : Gaussian (gaus)\n",
      "[Log] Dispersion   : Etr vs ratio\n",
      "[Log] Minimum mass : 46500 GeV\n",
      "[Log] Maximum mass : 46 TeV\n",
      "==================================================\n"
     ]
    },
    {
     "data": {
      "application/vnd.jupyter.widget-view+json": {
       "model_id": "89dae99e7bac4f0b99166bb0b135cc6b",
       "version_major": 2,
       "version_minor": 0
      },
      "text/plain": [
       "  0%|          | 0/1 [00:00<?, ?it/s]"
      ]
     },
     "metadata": {},
     "output_type": "display_data"
    },
    {
     "name": "stdout",
     "output_type": "stream",
     "text": [
      "==================================================\n",
      "[Log] Package      : EventDisplay\n",
      "[Log] # of Dwarfs  : 17\n",
      "[Log] Channel      : wino\n",
      "[Log] Dimention    : 1\n",
      "[Log] Background   : Gaussian (gaus)\n",
      "[Log] Dispersion   : Etr vs ratio\n",
      "[Log] Minimum mass : 47000 GeV\n",
      "[Log] Maximum mass : 47 TeV\n",
      "==================================================\n"
     ]
    },
    {
     "data": {
      "application/vnd.jupyter.widget-view+json": {
       "model_id": "d12038c7c9a94f6c933de2ae56618a4a",
       "version_major": 2,
       "version_minor": 0
      },
      "text/plain": [
       "  0%|          | 0/1 [00:00<?, ?it/s]"
      ]
     },
     "metadata": {},
     "output_type": "display_data"
    },
    {
     "name": "stdout",
     "output_type": "stream",
     "text": [
      "==================================================\n",
      "[Log] Package      : EventDisplay\n",
      "[Log] # of Dwarfs  : 17\n",
      "[Log] Channel      : wino\n",
      "[Log] Dimention    : 1\n",
      "[Log] Background   : Gaussian (gaus)\n",
      "[Log] Dispersion   : Etr vs ratio\n",
      "[Log] Minimum mass : 47500 GeV\n",
      "[Log] Maximum mass : 48 TeV\n",
      "==================================================\n"
     ]
    },
    {
     "data": {
      "application/vnd.jupyter.widget-view+json": {
       "model_id": "500def8ceb6242fdbde505a521dabb62",
       "version_major": 2,
       "version_minor": 0
      },
      "text/plain": [
       "  0%|          | 0/1 [00:00<?, ?it/s]"
      ]
     },
     "metadata": {},
     "output_type": "display_data"
    },
    {
     "name": "stdout",
     "output_type": "stream",
     "text": [
      "==================================================\n",
      "[Log] Package      : EventDisplay\n",
      "[Log] # of Dwarfs  : 17\n",
      "[Log] Channel      : wino\n",
      "[Log] Dimention    : 1\n",
      "[Log] Background   : Gaussian (gaus)\n",
      "[Log] Dispersion   : Etr vs ratio\n",
      "[Log] Minimum mass : 48000 GeV\n",
      "[Log] Maximum mass : 48 TeV\n",
      "==================================================\n"
     ]
    },
    {
     "data": {
      "application/vnd.jupyter.widget-view+json": {
       "model_id": "443f1a5f7c4b47ea9c705c7afd8bb407",
       "version_major": 2,
       "version_minor": 0
      },
      "text/plain": [
       "  0%|          | 0/1 [00:00<?, ?it/s]"
      ]
     },
     "metadata": {},
     "output_type": "display_data"
    },
    {
     "name": "stdout",
     "output_type": "stream",
     "text": [
      "==================================================\n",
      "[Log] Package      : EventDisplay\n",
      "[Log] # of Dwarfs  : 17\n",
      "[Log] Channel      : wino\n",
      "[Log] Dimention    : 1\n",
      "[Log] Background   : Gaussian (gaus)\n",
      "[Log] Dispersion   : Etr vs ratio\n",
      "[Log] Minimum mass : 48500 GeV\n",
      "[Log] Maximum mass : 48 TeV\n",
      "==================================================\n"
     ]
    },
    {
     "data": {
      "application/vnd.jupyter.widget-view+json": {
       "model_id": "16fd728e2b9f46ec956e8b7aa114c5ba",
       "version_major": 2,
       "version_minor": 0
      },
      "text/plain": [
       "  0%|          | 0/1 [00:00<?, ?it/s]"
      ]
     },
     "metadata": {},
     "output_type": "display_data"
    },
    {
     "name": "stdout",
     "output_type": "stream",
     "text": [
      "==================================================\n",
      "[Log] Package      : EventDisplay\n",
      "[Log] # of Dwarfs  : 17\n",
      "[Log] Channel      : wino\n",
      "[Log] Dimention    : 1\n",
      "[Log] Background   : Gaussian (gaus)\n",
      "[Log] Dispersion   : Etr vs ratio\n",
      "[Log] Minimum mass : 49000 GeV\n",
      "[Log] Maximum mass : 49 TeV\n",
      "==================================================\n"
     ]
    },
    {
     "data": {
      "application/vnd.jupyter.widget-view+json": {
       "model_id": "a844f2859e18476f939f4b845d6ecf08",
       "version_major": 2,
       "version_minor": 0
      },
      "text/plain": [
       "  0%|          | 0/1 [00:00<?, ?it/s]"
      ]
     },
     "metadata": {},
     "output_type": "display_data"
    },
    {
     "name": "stdout",
     "output_type": "stream",
     "text": [
      "==================================================\n",
      "[Log] Package      : EventDisplay\n",
      "[Log] # of Dwarfs  : 17\n",
      "[Log] Channel      : wino\n",
      "[Log] Dimention    : 1\n",
      "[Log] Background   : Gaussian (gaus)\n",
      "[Log] Dispersion   : Etr vs ratio\n",
      "[Log] Minimum mass : 49500 GeV\n",
      "[Log] Maximum mass : 50 TeV\n",
      "==================================================\n"
     ]
    },
    {
     "data": {
      "application/vnd.jupyter.widget-view+json": {
       "model_id": "389e0c6d2b3941aaa1d32065c1f9edf6",
       "version_major": 2,
       "version_minor": 0
      },
      "text/plain": [
       "  0%|          | 0/1 [00:00<?, ?it/s]"
      ]
     },
     "metadata": {},
     "output_type": "display_data"
    },
    {
     "name": "stdout",
     "output_type": "stream",
     "text": [
      "==================================================\n",
      "[Log] Package      : EventDisplay\n",
      "[Log] # of Dwarfs  : 17\n",
      "[Log] Channel      : wino\n",
      "[Log] Dimention    : 1\n",
      "[Log] Background   : Gaussian (gaus)\n",
      "[Log] Dispersion   : Etr vs ratio\n",
      "[Log] Minimum mass : 50000 GeV\n",
      "[Log] Maximum mass : 50 TeV\n",
      "==================================================\n"
     ]
    },
    {
     "data": {
      "application/vnd.jupyter.widget-view+json": {
       "model_id": "6049e87b56134b7fa6bfd0487f2d3a01",
       "version_major": 2,
       "version_minor": 0
      },
      "text/plain": [
       "  0%|          | 0/1 [00:00<?, ?it/s]"
      ]
     },
     "metadata": {},
     "output_type": "display_data"
    },
    {
     "name": "stdout",
     "output_type": "stream",
     "text": [
      "==================================================\n",
      "[Log] Package      : EventDisplay\n",
      "[Log] # of Dwarfs  : 17\n",
      "[Log] Channel      : wino\n",
      "[Log] Dimention    : 1\n",
      "[Log] Background   : Gaussian (gaus)\n",
      "[Log] Dispersion   : Etr vs ratio\n",
      "[Log] Minimum mass : 50500 GeV\n",
      "[Log] Maximum mass : 50 TeV\n",
      "==================================================\n"
     ]
    },
    {
     "data": {
      "application/vnd.jupyter.widget-view+json": {
       "model_id": "e112a3c6d5734bf1bfaa724fffa85f51",
       "version_major": 2,
       "version_minor": 0
      },
      "text/plain": [
       "  0%|          | 0/1 [00:00<?, ?it/s]"
      ]
     },
     "metadata": {},
     "output_type": "display_data"
    },
    {
     "name": "stdout",
     "output_type": "stream",
     "text": [
      "==================================================\n",
      "[Log] Package      : EventDisplay\n",
      "[Log] # of Dwarfs  : 17\n",
      "[Log] Channel      : wino\n",
      "[Log] Dimention    : 1\n",
      "[Log] Background   : Gaussian (gaus)\n",
      "[Log] Dispersion   : Etr vs ratio\n",
      "[Log] Minimum mass : 51000 GeV\n",
      "[Log] Maximum mass : 51 TeV\n",
      "==================================================\n"
     ]
    },
    {
     "data": {
      "application/vnd.jupyter.widget-view+json": {
       "model_id": "4cdc5d2f85bd47a09c45c66ff1c690f5",
       "version_major": 2,
       "version_minor": 0
      },
      "text/plain": [
       "  0%|          | 0/1 [00:00<?, ?it/s]"
      ]
     },
     "metadata": {},
     "output_type": "display_data"
    },
    {
     "name": "stdout",
     "output_type": "stream",
     "text": [
      "==================================================\n",
      "[Log] Package      : EventDisplay\n",
      "[Log] # of Dwarfs  : 17\n",
      "[Log] Channel      : wino\n",
      "[Log] Dimention    : 1\n",
      "[Log] Background   : Gaussian (gaus)\n",
      "[Log] Dispersion   : Etr vs ratio\n",
      "[Log] Minimum mass : 51500 GeV\n",
      "[Log] Maximum mass : 52 TeV\n",
      "==================================================\n"
     ]
    },
    {
     "data": {
      "application/vnd.jupyter.widget-view+json": {
       "model_id": "fad4b4958f35492ca4a20fd13a7ba04f",
       "version_major": 2,
       "version_minor": 0
      },
      "text/plain": [
       "  0%|          | 0/1 [00:00<?, ?it/s]"
      ]
     },
     "metadata": {},
     "output_type": "display_data"
    },
    {
     "name": "stdout",
     "output_type": "stream",
     "text": [
      "==================================================\n",
      "[Log] Package      : EventDisplay\n",
      "[Log] # of Dwarfs  : 17\n",
      "[Log] Channel      : wino\n",
      "[Log] Dimention    : 1\n",
      "[Log] Background   : Gaussian (gaus)\n",
      "[Log] Dispersion   : Etr vs ratio\n",
      "[Log] Minimum mass : 52000 GeV\n",
      "[Log] Maximum mass : 52 TeV\n",
      "==================================================\n"
     ]
    },
    {
     "data": {
      "application/vnd.jupyter.widget-view+json": {
       "model_id": "7eae20a01b554160b50c5e9988c96c13",
       "version_major": 2,
       "version_minor": 0
      },
      "text/plain": [
       "  0%|          | 0/1 [00:00<?, ?it/s]"
      ]
     },
     "metadata": {},
     "output_type": "display_data"
    },
    {
     "name": "stdout",
     "output_type": "stream",
     "text": [
      "==================================================\n",
      "[Log] Package      : EventDisplay\n",
      "[Log] # of Dwarfs  : 17\n",
      "[Log] Channel      : wino\n",
      "[Log] Dimention    : 1\n",
      "[Log] Background   : Gaussian (gaus)\n",
      "[Log] Dispersion   : Etr vs ratio\n",
      "[Log] Minimum mass : 52500 GeV\n",
      "[Log] Maximum mass : 52 TeV\n",
      "==================================================\n"
     ]
    },
    {
     "data": {
      "application/vnd.jupyter.widget-view+json": {
       "model_id": "e4bc1837d7ca438991b45609de8a8d11",
       "version_major": 2,
       "version_minor": 0
      },
      "text/plain": [
       "  0%|          | 0/1 [00:00<?, ?it/s]"
      ]
     },
     "metadata": {},
     "output_type": "display_data"
    },
    {
     "name": "stdout",
     "output_type": "stream",
     "text": [
      "==================================================\n",
      "[Log] Package      : EventDisplay\n",
      "[Log] # of Dwarfs  : 17\n",
      "[Log] Channel      : wino\n",
      "[Log] Dimention    : 1\n",
      "[Log] Background   : Gaussian (gaus)\n",
      "[Log] Dispersion   : Etr vs ratio\n",
      "[Log] Minimum mass : 53000 GeV\n",
      "[Log] Maximum mass : 53 TeV\n",
      "==================================================\n"
     ]
    },
    {
     "data": {
      "application/vnd.jupyter.widget-view+json": {
       "model_id": "86d406ed8ef84aada3d5256d9fd79a2d",
       "version_major": 2,
       "version_minor": 0
      },
      "text/plain": [
       "  0%|          | 0/1 [00:00<?, ?it/s]"
      ]
     },
     "metadata": {},
     "output_type": "display_data"
    },
    {
     "name": "stdout",
     "output_type": "stream",
     "text": [
      "==================================================\n",
      "[Log] Package      : EventDisplay\n",
      "[Log] # of Dwarfs  : 17\n",
      "[Log] Channel      : wino\n",
      "[Log] Dimention    : 1\n",
      "[Log] Background   : Gaussian (gaus)\n",
      "[Log] Dispersion   : Etr vs ratio\n",
      "[Log] Minimum mass : 53500 GeV\n",
      "[Log] Maximum mass : 54 TeV\n",
      "==================================================\n"
     ]
    },
    {
     "data": {
      "application/vnd.jupyter.widget-view+json": {
       "model_id": "68694243e3154eb39f952557e87c8f9d",
       "version_major": 2,
       "version_minor": 0
      },
      "text/plain": [
       "  0%|          | 0/1 [00:00<?, ?it/s]"
      ]
     },
     "metadata": {},
     "output_type": "display_data"
    },
    {
     "name": "stdout",
     "output_type": "stream",
     "text": [
      "==================================================\n",
      "[Log] Package      : EventDisplay\n",
      "[Log] # of Dwarfs  : 17\n",
      "[Log] Channel      : wino\n",
      "[Log] Dimention    : 1\n",
      "[Log] Background   : Gaussian (gaus)\n",
      "[Log] Dispersion   : Etr vs ratio\n",
      "[Log] Minimum mass : 54000 GeV\n",
      "[Log] Maximum mass : 54 TeV\n",
      "==================================================\n"
     ]
    },
    {
     "data": {
      "application/vnd.jupyter.widget-view+json": {
       "model_id": "e61de051bfb640c8a9971eca4c617f66",
       "version_major": 2,
       "version_minor": 0
      },
      "text/plain": [
       "  0%|          | 0/1 [00:00<?, ?it/s]"
      ]
     },
     "metadata": {},
     "output_type": "display_data"
    },
    {
     "name": "stdout",
     "output_type": "stream",
     "text": [
      "==================================================\n",
      "[Log] Package      : EventDisplay\n",
      "[Log] # of Dwarfs  : 17\n",
      "[Log] Channel      : wino\n",
      "[Log] Dimention    : 1\n",
      "[Log] Background   : Gaussian (gaus)\n",
      "[Log] Dispersion   : Etr vs ratio\n",
      "[Log] Minimum mass : 54500 GeV\n",
      "[Log] Maximum mass : 54 TeV\n",
      "==================================================\n"
     ]
    },
    {
     "data": {
      "application/vnd.jupyter.widget-view+json": {
       "model_id": "f07884b7728d4c4f8bd11fcb91eee3a3",
       "version_major": 2,
       "version_minor": 0
      },
      "text/plain": [
       "  0%|          | 0/1 [00:00<?, ?it/s]"
      ]
     },
     "metadata": {},
     "output_type": "display_data"
    },
    {
     "name": "stdout",
     "output_type": "stream",
     "text": [
      "==================================================\n",
      "[Log] Package      : EventDisplay\n",
      "[Log] # of Dwarfs  : 17\n",
      "[Log] Channel      : wino\n",
      "[Log] Dimention    : 1\n",
      "[Log] Background   : Gaussian (gaus)\n",
      "[Log] Dispersion   : Etr vs ratio\n",
      "[Log] Minimum mass : 55000 GeV\n",
      "[Log] Maximum mass : 55 TeV\n",
      "==================================================\n"
     ]
    },
    {
     "data": {
      "application/vnd.jupyter.widget-view+json": {
       "model_id": "f66b90a68a734c07971da1557a14c4af",
       "version_major": 2,
       "version_minor": 0
      },
      "text/plain": [
       "  0%|          | 0/1 [00:00<?, ?it/s]"
      ]
     },
     "metadata": {},
     "output_type": "display_data"
    },
    {
     "name": "stdout",
     "output_type": "stream",
     "text": [
      "==================================================\n",
      "[Log] Package      : EventDisplay\n",
      "[Log] # of Dwarfs  : 17\n",
      "[Log] Channel      : wino\n",
      "[Log] Dimention    : 1\n",
      "[Log] Background   : Gaussian (gaus)\n",
      "[Log] Dispersion   : Etr vs ratio\n",
      "[Log] Minimum mass : 55500 GeV\n",
      "[Log] Maximum mass : 56 TeV\n",
      "==================================================\n"
     ]
    },
    {
     "data": {
      "application/vnd.jupyter.widget-view+json": {
       "model_id": "4507fbbdfa92414bb8636b9362393926",
       "version_major": 2,
       "version_minor": 0
      },
      "text/plain": [
       "  0%|          | 0/1 [00:00<?, ?it/s]"
      ]
     },
     "metadata": {},
     "output_type": "display_data"
    },
    {
     "ename": "FileNotFoundError",
     "evalue": "[Errno 2] No such file or directory: '/Users/dtak/Research/DarkMatter/RefData/wino_dnde.npy'",
     "output_type": "error",
     "traceback": [
      "\u001b[0;31m---------------------------------------------------------------------------\u001b[0m",
      "\u001b[0;31mFileNotFoundError\u001b[0m                         Traceback (most recent call last)",
      "Cell \u001b[0;32mIn [113], line 24\u001b[0m\n\u001b[1;32m     20\u001b[0m     uls\u001b[38;5;241m.\u001b[39mappend(mle)\n\u001b[1;32m     22\u001b[0m change_file(\u001b[38;5;124m\"\u001b[39m\u001b[38;5;124mwino_dnde_res_lo\u001b[39m\u001b[38;5;124m\"\u001b[39m, \u001b[38;5;124m\"\u001b[39m\u001b[38;5;124mwino_dnde_res_hi\u001b[39m\u001b[38;5;124m\"\u001b[39m)\n\u001b[0;32m---> 24\u001b[0m data \u001b[38;5;241m=\u001b[39m \u001b[43mWINOspectra\u001b[49m\u001b[43m(\u001b[49m\u001b[43mreturn_table\u001b[49m\u001b[38;5;241;43m=\u001b[39;49m\u001b[38;5;28;43;01mTrue\u001b[39;49;00m\u001b[43m)\u001b[49m\n\u001b[1;32m     26\u001b[0m mass \u001b[38;5;241m=\u001b[39m \u001b[38;5;28mlist\u001b[39m(\u001b[38;5;28mset\u001b[39m(data[\u001b[38;5;124m\"\u001b[39m\u001b[38;5;124mmass\u001b[39m\u001b[38;5;124m\"\u001b[39m]))\n\u001b[1;32m     28\u001b[0m mass\u001b[38;5;241m.\u001b[39msort()\n",
      "File \u001b[0;32m~/Research/scripts/dm_analysis/DarkMatter/Likelihood/spectra.py:49\u001b[0m, in \u001b[0;36mWINOspectra\u001b[0;34m(x, M, return_table)\u001b[0m\n\u001b[1;32m     48\u001b[0m \u001b[38;5;28;01mdef\u001b[39;00m \u001b[38;5;21mWINOspectra\u001b[39m(x\u001b[38;5;241m=\u001b[39m\u001b[38;5;28;01mNone\u001b[39;00m, M\u001b[38;5;241m=\u001b[39m\u001b[38;5;28;01mNone\u001b[39;00m, return_table\u001b[38;5;241m=\u001b[39m\u001b[38;5;28;01mFalse\u001b[39;00m):\n\u001b[0;32m---> 49\u001b[0m     tab \u001b[38;5;241m=\u001b[39m Table(\u001b[43mnp\u001b[49m\u001b[38;5;241;43m.\u001b[39;49m\u001b[43mload\u001b[49m\u001b[43m(\u001b[49m\u001b[43mREF_DIR\u001b[49m\u001b[38;5;241;43m+\u001b[39;49m\u001b[38;5;124;43m\"\u001b[39;49m\u001b[38;5;124;43mwino_dnde.npy\u001b[39;49m\u001b[38;5;124;43m\"\u001b[39;49m\u001b[43m)\u001b[49m)\n\u001b[1;32m     50\u001b[0m     \u001b[38;5;28;01mif\u001b[39;00m return_table:\n\u001b[1;32m     51\u001b[0m         \u001b[38;5;28;01mreturn\u001b[39;00m tab\n",
      "File \u001b[0;32m~/Software/miniconda3/envs/dm/lib/python3.10/site-packages/numpy/lib/npyio.py:390\u001b[0m, in \u001b[0;36mload\u001b[0;34m(file, mmap_mode, allow_pickle, fix_imports, encoding)\u001b[0m\n\u001b[1;32m    388\u001b[0m     own_fid \u001b[38;5;241m=\u001b[39m \u001b[38;5;28;01mFalse\u001b[39;00m\n\u001b[1;32m    389\u001b[0m \u001b[38;5;28;01melse\u001b[39;00m:\n\u001b[0;32m--> 390\u001b[0m     fid \u001b[38;5;241m=\u001b[39m stack\u001b[38;5;241m.\u001b[39menter_context(\u001b[38;5;28;43mopen\u001b[39;49m\u001b[43m(\u001b[49m\u001b[43mos_fspath\u001b[49m\u001b[43m(\u001b[49m\u001b[43mfile\u001b[49m\u001b[43m)\u001b[49m\u001b[43m,\u001b[49m\u001b[43m \u001b[49m\u001b[38;5;124;43m\"\u001b[39;49m\u001b[38;5;124;43mrb\u001b[39;49m\u001b[38;5;124;43m\"\u001b[39;49m\u001b[43m)\u001b[49m)\n\u001b[1;32m    391\u001b[0m     own_fid \u001b[38;5;241m=\u001b[39m \u001b[38;5;28;01mTrue\u001b[39;00m\n\u001b[1;32m    393\u001b[0m \u001b[38;5;66;03m# Code to distinguish from NumPy binary files and pickles.\u001b[39;00m\n",
      "\u001b[0;31mFileNotFoundError\u001b[0m: [Errno 2] No such file or directory: '/Users/dtak/Research/DarkMatter/RefData/wino_dnde.npy'"
     ]
    },
    {
     "name": "stdout",
     "output_type": "stream",
     "text": [
      " NEW MINIMUM FOUND.  GO BACK TO MINIMIZATION STEP.\n",
      " =================================================\n",
      "                                                  V\n",
      "                                                  V\n",
      "                                                  V\n",
      "                                               VVVVVVV\n",
      "                                                VVVVV\n",
      "                                                 VVV\n",
      "                                                  V\n",
      "\n",
      " NEW MINIMUM FOUND.  GO BACK TO MINIMIZATION STEP.\n",
      " =================================================\n",
      "                                                  V\n",
      "                                                  V\n",
      "                                                  V\n",
      "                                               VVVVVVV\n",
      "                                                VVVVV\n",
      "                                                 VVV\n",
      "                                                  V\n",
      "\n",
      " NEW MINIMUM FOUND.  GO BACK TO MINIMIZATION STEP.\n",
      " =================================================\n",
      "                                                  V\n",
      "                                                  V\n",
      "                                                  V\n",
      "                                               VVVVVVV\n",
      "                                                VVVVV\n",
      "                                                 VVV\n",
      "                                                  V\n",
      "\n",
      " NEW MINIMUM FOUND.  GO BACK TO MINIMIZATION STEP.\n",
      " =================================================\n",
      "                                                  V\n",
      "                                                  V\n",
      "                                                  V\n",
      "                                               VVVVVVV\n",
      "                                                VVVVV\n",
      "                                                 VVV\n",
      "                                                  V\n",
      "\n",
      " NEW MINIMUM FOUND.  GO BACK TO MINIMIZATION STEP.\n",
      " =================================================\n",
      "                                                  V\n",
      "                                                  V\n",
      "                                                  V\n",
      "                                               VVVVVVV\n",
      "                                                VVVVV\n",
      "                                                 VVV\n",
      "                                                  V\n",
      "\n",
      " NEW MINIMUM FOUND.  GO BACK TO MINIMIZATION STEP.\n",
      " =================================================\n",
      "                                                  V\n",
      "                                                  V\n",
      "                                                  V\n",
      "                                               VVVVVVV\n",
      "                                                VVVVV\n",
      "                                                 VVV\n",
      "                                                  V\n",
      "\n",
      "  FUNCTION VALUE DOES NOT SEEM TO DEPEND ON ANY OF THE 18 VARIABLE PARAMETERS.\n",
      "          VERIFY THAT STEP SIZES ARE BIG ENOUGH AND CHECK FCN LOGIC.\n",
      " *******************************************************************************\n",
      " *******************************************************************************\n",
      "  FUNCTION VALUE DOES NOT SEEM TO DEPEND ON ANY OF THE 18 VARIABLE PARAMETERS.\n",
      "          VERIFY THAT STEP SIZES ARE BIG ENOUGH AND CHECK FCN LOGIC.\n",
      " *******************************************************************************\n",
      " *******************************************************************************\n",
      "  FUNCTION VALUE DOES NOT SEEM TO DEPEND ON ANY OF THE 18 VARIABLE PARAMETERS.\n",
      "          VERIFY THAT STEP SIZES ARE BIG ENOUGH AND CHECK FCN LOGIC.\n",
      " *******************************************************************************\n",
      " *******************************************************************************\n",
      " NEW MINIMUM FOUND.  GO BACK TO MINIMIZATION STEP.\n",
      " =================================================\n",
      "                                                  V\n",
      "                                                  V\n",
      "                                                  V\n",
      "                                               VVVVVVV\n",
      "                                                VVVVV\n",
      "                                                 VVV\n",
      "                                                  V\n",
      "\n",
      " NEW MINIMUM FOUND.  GO BACK TO MINIMIZATION STEP.\n",
      " =================================================\n",
      "                                                  V\n",
      "                                                  V\n",
      "                                                  V\n",
      "                                               VVVVVVV\n",
      "                                                VVVVV\n",
      "                                                 VVV\n",
      "                                                  V\n",
      "\n",
      " NEW MINIMUM FOUND.  GO BACK TO MINIMIZATION STEP.\n",
      " =================================================\n",
      "                                                  V\n",
      "                                                  V\n",
      "                                                  V\n",
      "                                               VVVVVVV\n",
      "                                                VVVVV\n",
      "                                                 VVV\n",
      "                                                  V\n",
      "\n",
      "  FUNCTION VALUE DOES NOT SEEM TO DEPEND ON ANY OF THE 18 VARIABLE PARAMETERS.\n",
      "          VERIFY THAT STEP SIZES ARE BIG ENOUGH AND CHECK FCN LOGIC.\n",
      " *******************************************************************************\n",
      " *******************************************************************************\n",
      "  FUNCTION VALUE DOES NOT SEEM TO DEPEND ON ANY OF THE 18 VARIABLE PARAMETERS.\n",
      "          VERIFY THAT STEP SIZES ARE BIG ENOUGH AND CHECK FCN LOGIC.\n",
      " *******************************************************************************\n",
      " *******************************************************************************\n",
      " NEW MINIMUM FOUND.  GO BACK TO MINIMIZATION STEP.\n",
      " =================================================\n",
      "                                                  V\n",
      "                                                  V\n",
      "                                                  V\n",
      "                                               VVVVVVV\n",
      "                                                VVVVV\n",
      "                                                 VVV\n",
      "                                                  V\n",
      "\n",
      " NEW MINIMUM FOUND.  GO BACK TO MINIMIZATION STEP.\n",
      " =================================================\n",
      "                                                  V\n",
      "                                                  V\n",
      "                                                  V\n",
      "                                               VVVVVVV\n",
      "                                                VVVVV\n",
      "                                                 VVV\n",
      "                                                  V\n",
      "\n",
      "  FUNCTION VALUE DOES NOT SEEM TO DEPEND ON ANY OF THE 18 VARIABLE PARAMETERS.\n",
      "          VERIFY THAT STEP SIZES ARE BIG ENOUGH AND CHECK FCN LOGIC.\n",
      " *******************************************************************************\n",
      " *******************************************************************************\n",
      "  FUNCTION VALUE DOES NOT SEEM TO DEPEND ON ANY OF THE 18 VARIABLE PARAMETERS.\n",
      "          VERIFY THAT STEP SIZES ARE BIG ENOUGH AND CHECK FCN LOGIC.\n",
      " *******************************************************************************\n",
      " *******************************************************************************\n",
      " NEW MINIMUM FOUND.  GO BACK TO MINIMIZATION STEP.\n",
      " =================================================\n",
      "                                                  V\n",
      "                                                  V\n",
      "                                                  V\n",
      "                                               VVVVVVV\n",
      "                                                VVVVV\n",
      "                                                 VVV\n",
      "                                                  V\n",
      "\n",
      " NEW MINIMUM FOUND.  GO BACK TO MINIMIZATION STEP.\n",
      " =================================================\n",
      "                                                  V\n",
      "                                                  V\n",
      "                                                  V\n",
      "                                               VVVVVVV\n",
      "                                                VVVVV\n",
      "                                                 VVV\n",
      "                                                  V\n",
      "\n",
      " NEW MINIMUM FOUND.  GO BACK TO MINIMIZATION STEP.\n",
      " =================================================\n",
      "                                                  V\n",
      "                                                  V\n",
      "                                                  V\n",
      "                                               VVVVVVV\n",
      "                                                VVVVV\n",
      "                                                 VVV\n",
      "                                                  V\n",
      "\n",
      " NEW MINIMUM FOUND.  GO BACK TO MINIMIZATION STEP.\n",
      " =================================================\n",
      "                                                  V\n",
      "                                                  V\n",
      "                                                  V\n",
      "                                               VVVVVVV\n",
      "                                                VVVVV\n",
      "                                                 VVV\n",
      "                                                  V\n",
      "\n",
      " NEW MINIMUM FOUND.  GO BACK TO MINIMIZATION STEP.\n",
      " =================================================\n",
      "                                                  V\n",
      "                                                  V\n",
      "                                                  V\n",
      "                                               VVVVVVV\n",
      "                                                VVVVV\n",
      "                                                 VVV\n",
      "                                                  V\n",
      "\n",
      " NEW MINIMUM FOUND.  GO BACK TO MINIMIZATION STEP.\n",
      " =================================================\n",
      "                                                  V\n",
      "                                                  V\n",
      "                                                  V\n",
      "                                               VVVVVVV\n",
      "                                                VVVVV\n",
      "                                                 VVV\n",
      "                                                  V\n",
      "\n",
      " NEW MINIMUM FOUND.  GO BACK TO MINIMIZATION STEP.\n",
      " =================================================\n",
      "                                                  V\n",
      "                                                  V\n",
      "                                                  V\n",
      "                                               VVVVVVV\n",
      "                                                VVVVV\n",
      "                                                 VVV\n",
      "                                                  V\n",
      "\n",
      " NEW MINIMUM FOUND.  GO BACK TO MINIMIZATION STEP.\n",
      " =================================================\n",
      "                                                  V\n",
      "                                                  V\n",
      "                                                  V\n",
      "                                               VVVVVVV\n",
      "                                                VVVVV\n",
      "                                                 VVV\n",
      "                                                  V\n",
      "\n",
      " NEW MINIMUM FOUND.  GO BACK TO MINIMIZATION STEP.\n",
      " =================================================\n",
      "                                                  V\n",
      "                                                  V\n",
      "                                                  V\n",
      "                                               VVVVVVV\n",
      "                                                VVVVV\n",
      "                                                 VVV\n",
      "                                                  V\n",
      "\n",
      " NEW MINIMUM FOUND.  GO BACK TO MINIMIZATION STEP.\n",
      " =================================================\n",
      "                                                  V\n",
      "                                                  V\n",
      "                                                  V\n",
      "                                               VVVVVVV\n",
      "                                                VVVVV\n",
      "                                                 VVV\n",
      "                                                  V\n",
      "\n",
      " NEW MINIMUM FOUND.  GO BACK TO MINIMIZATION STEP.\n",
      " =================================================\n",
      "                                                  V\n",
      "                                                  V\n",
      "                                                  V\n",
      "                                               VVVVVVV\n",
      "                                                VVVVV\n",
      "                                                 VVV\n",
      "                                                  V\n",
      "\n",
      " NEW MINIMUM FOUND.  GO BACK TO MINIMIZATION STEP.\n",
      " =================================================\n",
      "                                                  V\n",
      "                                                  V\n",
      "                                                  V\n",
      "                                               VVVVVVV\n",
      "                                                VVVVV\n",
      "                                                 VVV\n",
      "                                                  V\n",
      "\n",
      " NEW MINIMUM FOUND.  GO BACK TO MINIMIZATION STEP.\n",
      " =================================================\n",
      "                                                  V\n",
      "                                                  V\n",
      "                                                  V\n",
      "                                               VVVVVVV\n",
      "                                                VVVVV\n",
      "                                                 VVV\n",
      "                                                  V\n",
      "\n",
      " NEW MINIMUM FOUND.  GO BACK TO MINIMIZATION STEP.\n",
      " =================================================\n",
      "                                                  V\n",
      "                                                  V\n",
      "                                                  V\n",
      "                                               VVVVVVV\n",
      "                                                VVVVV\n",
      "                                                 VVV\n",
      "                                                  V\n",
      "\n",
      " NEW MINIMUM FOUND.  GO BACK TO MINIMIZATION STEP.\n",
      " =================================================\n",
      "                                                  V\n",
      "                                                  V\n",
      "                                                  V\n",
      "                                               VVVVVVV\n",
      "                                                VVVVV\n",
      "                                                 VVV\n",
      "                                                  V\n",
      "\n",
      " NEW MINIMUM FOUND.  GO BACK TO MINIMIZATION STEP.\n",
      " =================================================\n",
      "                                                  V\n",
      "                                                  V\n",
      "                                                  V\n",
      "                                               VVVVVVV\n",
      "                                                VVVVV\n",
      "                                                 VVV\n",
      "                                                  V\n",
      "\n",
      " NEW MINIMUM FOUND.  GO BACK TO MINIMIZATION STEP.\n",
      " =================================================\n",
      "                                                  V\n",
      "                                                  V\n",
      "                                                  V\n",
      "                                               VVVVVVV\n",
      "                                                VVVVV\n",
      "                                                 VVV\n",
      "                                                  V\n",
      "\n",
      " NEW MINIMUM FOUND.  GO BACK TO MINIMIZATION STEP.\n",
      " =================================================\n",
      "                                                  V\n",
      "                                                  V\n",
      "                                                  V\n",
      "                                               VVVVVVV\n",
      "                                                VVVVV\n",
      "                                                 VVV\n",
      "                                                  V\n",
      "\n",
      " NEW MINIMUM FOUND.  GO BACK TO MINIMIZATION STEP.\n",
      " =================================================\n",
      "                                                  V\n",
      "                                                  V\n",
      "                                                  V\n",
      "                                               VVVVVVV\n",
      "                                                VVVVV\n",
      "                                                 VVV\n",
      "                                                  V\n",
      "\n",
      " NEW MINIMUM FOUND.  GO BACK TO MINIMIZATION STEP.\n",
      " =================================================\n",
      "                                                  V\n",
      "                                                  V\n",
      "                                                  V\n",
      "                                               VVVVVVV\n",
      "                                                VVVVV\n",
      "                                                 VVV\n",
      "                                                  V\n",
      "\n",
      " NEW MINIMUM FOUND.  GO BACK TO MINIMIZATION STEP.\n",
      " =================================================\n",
      "                                                  V\n",
      "                                                  V\n",
      "                                                  V\n",
      "                                               VVVVVVV\n",
      "                                                VVVVV\n",
      "                                                 VVV\n",
      "                                                  V\n",
      "\n",
      " NEW MINIMUM FOUND.  GO BACK TO MINIMIZATION STEP.\n",
      " =================================================\n",
      "                                                  V\n",
      "                                                  V\n",
      "                                                  V\n",
      "                                               VVVVVVV\n",
      "                                                VVVVV\n",
      "                                                 VVV\n",
      "                                                  V\n",
      "\n",
      "  FUNCTION VALUE DOES NOT SEEM TO DEPEND ON ANY OF THE 18 VARIABLE PARAMETERS.\n",
      "          VERIFY THAT STEP SIZES ARE BIG ENOUGH AND CHECK FCN LOGIC.\n",
      " *******************************************************************************\n",
      " *******************************************************************************\n",
      "  FUNCTION VALUE DOES NOT SEEM TO DEPEND ON ANY OF THE 18 VARIABLE PARAMETERS.\n",
      "          VERIFY THAT STEP SIZES ARE BIG ENOUGH AND CHECK FCN LOGIC.\n",
      " *******************************************************************************\n",
      " *******************************************************************************\n",
      " NEW MINIMUM FOUND.  GO BACK TO MINIMIZATION STEP.\n",
      " =================================================\n",
      "                                                  V\n",
      "                                                  V\n",
      "                                                  V\n",
      "                                               VVVVVVV\n",
      "                                                VVVVV\n",
      "                                                 VVV\n",
      "                                                  V\n",
      "\n",
      " NEW MINIMUM FOUND.  GO BACK TO MINIMIZATION STEP.\n",
      " =================================================\n",
      "                                                  V\n",
      "                                                  V\n",
      "                                                  V\n",
      "                                               VVVVVVV\n",
      "                                                VVVVV\n",
      "                                                 VVV\n",
      "                                                  V\n",
      "\n",
      " NEW MINIMUM FOUND.  GO BACK TO MINIMIZATION STEP.\n",
      " =================================================\n",
      "                                                  V\n",
      "                                                  V\n",
      "                                                  V\n",
      "                                               VVVVVVV\n",
      "                                                VVVVV\n",
      "                                                 VVV\n",
      "                                                  V\n",
      "\n",
      " NEW MINIMUM FOUND.  GO BACK TO MINIMIZATION STEP.\n",
      " =================================================\n",
      "                                                  V\n",
      "                                                  V\n",
      "                                                  V\n",
      "                                               VVVVVVV\n",
      "                                                VVVVV\n",
      "                                                 VVV\n",
      "                                                  V\n",
      "\n",
      " NEW MINIMUM FOUND.  GO BACK TO MINIMIZATION STEP.\n",
      " =================================================\n",
      "                                                  V\n",
      "                                                  V\n",
      "                                                  V\n",
      "                                               VVVVVVV\n",
      "                                                VVVVV\n",
      "                                                 VVV\n",
      "                                                  V\n",
      "\n",
      "  FUNCTION VALUE DOES NOT SEEM TO DEPEND ON ANY OF THE 18 VARIABLE PARAMETERS.\n",
      "          VERIFY THAT STEP SIZES ARE BIG ENOUGH AND CHECK FCN LOGIC.\n",
      " *******************************************************************************\n",
      " *******************************************************************************\n",
      "  FUNCTION VALUE DOES NOT SEEM TO DEPEND ON ANY OF THE 18 VARIABLE PARAMETERS.\n",
      "          VERIFY THAT STEP SIZES ARE BIG ENOUGH AND CHECK FCN LOGIC.\n",
      " *******************************************************************************\n",
      " *******************************************************************************\n",
      "  FUNCTION VALUE DOES NOT SEEM TO DEPEND ON ANY OF THE 18 VARIABLE PARAMETERS.\n",
      "          VERIFY THAT STEP SIZES ARE BIG ENOUGH AND CHECK FCN LOGIC.\n",
      " *******************************************************************************\n",
      " *******************************************************************************\n",
      "  FUNCTION VALUE DOES NOT SEEM TO DEPEND ON ANY OF THE 18 VARIABLE PARAMETERS.\n",
      "          VERIFY THAT STEP SIZES ARE BIG ENOUGH AND CHECK FCN LOGIC.\n",
      " *******************************************************************************\n",
      " *******************************************************************************\n",
      "  FUNCTION VALUE DOES NOT SEEM TO DEPEND ON ANY OF THE 18 VARIABLE PARAMETERS.\n",
      "          VERIFY THAT STEP SIZES ARE BIG ENOUGH AND CHECK FCN LOGIC.\n",
      " *******************************************************************************\n",
      " *******************************************************************************\n",
      "  FUNCTION VALUE DOES NOT SEEM TO DEPEND ON ANY OF THE 18 VARIABLE PARAMETERS.\n",
      "          VERIFY THAT STEP SIZES ARE BIG ENOUGH AND CHECK FCN LOGIC.\n",
      " *******************************************************************************\n",
      " *******************************************************************************\n",
      "  FUNCTION VALUE DOES NOT SEEM TO DEPEND ON ANY OF THE 18 VARIABLE PARAMETERS.\n",
      "          VERIFY THAT STEP SIZES ARE BIG ENOUGH AND CHECK FCN LOGIC.\n",
      " *******************************************************************************\n",
      " *******************************************************************************\n",
      "  FUNCTION VALUE DOES NOT SEEM TO DEPEND ON ANY OF THE 18 VARIABLE PARAMETERS.\n",
      "          VERIFY THAT STEP SIZES ARE BIG ENOUGH AND CHECK FCN LOGIC.\n",
      " *******************************************************************************\n",
      " *******************************************************************************\n",
      "  FUNCTION VALUE DOES NOT SEEM TO DEPEND ON ANY OF THE 18 VARIABLE PARAMETERS.\n",
      "          VERIFY THAT STEP SIZES ARE BIG ENOUGH AND CHECK FCN LOGIC.\n",
      " *******************************************************************************\n",
      " *******************************************************************************\n",
      "  FUNCTION VALUE DOES NOT SEEM TO DEPEND ON ANY OF THE 18 VARIABLE PARAMETERS.\n",
      "          VERIFY THAT STEP SIZES ARE BIG ENOUGH AND CHECK FCN LOGIC.\n",
      " *******************************************************************************\n",
      " *******************************************************************************\n",
      "  FUNCTION VALUE DOES NOT SEEM TO DEPEND ON ANY OF THE 18 VARIABLE PARAMETERS.\n",
      "          VERIFY THAT STEP SIZES ARE BIG ENOUGH AND CHECK FCN LOGIC.\n",
      " *******************************************************************************\n",
      " *******************************************************************************\n",
      "  FUNCTION VALUE DOES NOT SEEM TO DEPEND ON ANY OF THE 18 VARIABLE PARAMETERS.\n",
      "          VERIFY THAT STEP SIZES ARE BIG ENOUGH AND CHECK FCN LOGIC.\n",
      " *******************************************************************************\n",
      " *******************************************************************************\n",
      "  FUNCTION VALUE DOES NOT SEEM TO DEPEND ON ANY OF THE 18 VARIABLE PARAMETERS.\n",
      "          VERIFY THAT STEP SIZES ARE BIG ENOUGH AND CHECK FCN LOGIC.\n",
      " *******************************************************************************\n",
      " *******************************************************************************\n",
      "  FUNCTION VALUE DOES NOT SEEM TO DEPEND ON ANY OF THE 18 VARIABLE PARAMETERS.\n",
      "          VERIFY THAT STEP SIZES ARE BIG ENOUGH AND CHECK FCN LOGIC.\n",
      " *******************************************************************************\n",
      " *******************************************************************************\n",
      "  FUNCTION VALUE DOES NOT SEEM TO DEPEND ON ANY OF THE 18 VARIABLE PARAMETERS.\n",
      "          VERIFY THAT STEP SIZES ARE BIG ENOUGH AND CHECK FCN LOGIC.\n",
      " *******************************************************************************\n",
      " *******************************************************************************\n",
      "  FUNCTION VALUE DOES NOT SEEM TO DEPEND ON ANY OF THE 18 VARIABLE PARAMETERS.\n",
      "          VERIFY THAT STEP SIZES ARE BIG ENOUGH AND CHECK FCN LOGIC.\n",
      " *******************************************************************************\n",
      " *******************************************************************************\n",
      "  FUNCTION VALUE DOES NOT SEEM TO DEPEND ON ANY OF THE 18 VARIABLE PARAMETERS.\n",
      "          VERIFY THAT STEP SIZES ARE BIG ENOUGH AND CHECK FCN LOGIC.\n",
      " *******************************************************************************\n",
      " *******************************************************************************\n",
      "  FUNCTION VALUE DOES NOT SEEM TO DEPEND ON ANY OF THE 18 VARIABLE PARAMETERS.\n",
      "          VERIFY THAT STEP SIZES ARE BIG ENOUGH AND CHECK FCN LOGIC.\n",
      " *******************************************************************************\n",
      " *******************************************************************************\n",
      "  FUNCTION VALUE DOES NOT SEEM TO DEPEND ON ANY OF THE 18 VARIABLE PARAMETERS.\n",
      "          VERIFY THAT STEP SIZES ARE BIG ENOUGH AND CHECK FCN LOGIC.\n",
      " *******************************************************************************\n",
      " *******************************************************************************\n",
      "  FUNCTION VALUE DOES NOT SEEM TO DEPEND ON ANY OF THE 18 VARIABLE PARAMETERS.\n",
      "          VERIFY THAT STEP SIZES ARE BIG ENOUGH AND CHECK FCN LOGIC.\n",
      " *******************************************************************************\n",
      " *******************************************************************************\n",
      "  FUNCTION VALUE DOES NOT SEEM TO DEPEND ON ANY OF THE 18 VARIABLE PARAMETERS.\n",
      "          VERIFY THAT STEP SIZES ARE BIG ENOUGH AND CHECK FCN LOGIC.\n",
      " *******************************************************************************\n",
      " *******************************************************************************\n",
      "  FUNCTION VALUE DOES NOT SEEM TO DEPEND ON ANY OF THE 18 VARIABLE PARAMETERS.\n",
      "          VERIFY THAT STEP SIZES ARE BIG ENOUGH AND CHECK FCN LOGIC.\n",
      " *******************************************************************************\n",
      " *******************************************************************************\n",
      "  FUNCTION VALUE DOES NOT SEEM TO DEPEND ON ANY OF THE 18 VARIABLE PARAMETERS.\n",
      "          VERIFY THAT STEP SIZES ARE BIG ENOUGH AND CHECK FCN LOGIC.\n",
      " *******************************************************************************\n",
      " *******************************************************************************\n",
      "  FUNCTION VALUE DOES NOT SEEM TO DEPEND ON ANY OF THE 18 VARIABLE PARAMETERS.\n",
      "          VERIFY THAT STEP SIZES ARE BIG ENOUGH AND CHECK FCN LOGIC.\n",
      " *******************************************************************************\n",
      " *******************************************************************************\n",
      "  FUNCTION VALUE DOES NOT SEEM TO DEPEND ON ANY OF THE 18 VARIABLE PARAMETERS.\n",
      "          VERIFY THAT STEP SIZES ARE BIG ENOUGH AND CHECK FCN LOGIC.\n",
      " *******************************************************************************\n",
      " *******************************************************************************\n",
      "  FUNCTION VALUE DOES NOT SEEM TO DEPEND ON ANY OF THE 18 VARIABLE PARAMETERS.\n",
      "          VERIFY THAT STEP SIZES ARE BIG ENOUGH AND CHECK FCN LOGIC.\n",
      " *******************************************************************************\n",
      " *******************************************************************************\n",
      "  FUNCTION VALUE DOES NOT SEEM TO DEPEND ON ANY OF THE 18 VARIABLE PARAMETERS.\n",
      "          VERIFY THAT STEP SIZES ARE BIG ENOUGH AND CHECK FCN LOGIC.\n",
      " *******************************************************************************\n",
      " *******************************************************************************\n",
      "  FUNCTION VALUE DOES NOT SEEM TO DEPEND ON ANY OF THE 18 VARIABLE PARAMETERS.\n",
      "          VERIFY THAT STEP SIZES ARE BIG ENOUGH AND CHECK FCN LOGIC.\n",
      " *******************************************************************************\n",
      " *******************************************************************************\n",
      "  FUNCTION VALUE DOES NOT SEEM TO DEPEND ON ANY OF THE 18 VARIABLE PARAMETERS.\n",
      "          VERIFY THAT STEP SIZES ARE BIG ENOUGH AND CHECK FCN LOGIC.\n",
      " *******************************************************************************\n",
      " *******************************************************************************\n",
      "  FUNCTION VALUE DOES NOT SEEM TO DEPEND ON ANY OF THE 18 VARIABLE PARAMETERS.\n",
      "          VERIFY THAT STEP SIZES ARE BIG ENOUGH AND CHECK FCN LOGIC.\n",
      " *******************************************************************************\n",
      " *******************************************************************************\n",
      "  FUNCTION VALUE DOES NOT SEEM TO DEPEND ON ANY OF THE 18 VARIABLE PARAMETERS.\n",
      "          VERIFY THAT STEP SIZES ARE BIG ENOUGH AND CHECK FCN LOGIC.\n",
      " *******************************************************************************\n",
      " *******************************************************************************\n",
      "  FUNCTION VALUE DOES NOT SEEM TO DEPEND ON ANY OF THE 18 VARIABLE PARAMETERS.\n",
      "          VERIFY THAT STEP SIZES ARE BIG ENOUGH AND CHECK FCN LOGIC.\n",
      " *******************************************************************************\n",
      " *******************************************************************************\n",
      "  FUNCTION VALUE DOES NOT SEEM TO DEPEND ON ANY OF THE 18 VARIABLE PARAMETERS.\n",
      "          VERIFY THAT STEP SIZES ARE BIG ENOUGH AND CHECK FCN LOGIC.\n",
      " *******************************************************************************\n",
      " *******************************************************************************\n",
      "  FUNCTION VALUE DOES NOT SEEM TO DEPEND ON ANY OF THE 18 VARIABLE PARAMETERS.\n",
      "          VERIFY THAT STEP SIZES ARE BIG ENOUGH AND CHECK FCN LOGIC.\n",
      " *******************************************************************************\n",
      " *******************************************************************************\n",
      "  FUNCTION VALUE DOES NOT SEEM TO DEPEND ON ANY OF THE 18 VARIABLE PARAMETERS.\n",
      "          VERIFY THAT STEP SIZES ARE BIG ENOUGH AND CHECK FCN LOGIC.\n",
      " *******************************************************************************\n",
      " *******************************************************************************\n",
      "  FUNCTION VALUE DOES NOT SEEM TO DEPEND ON ANY OF THE 18 VARIABLE PARAMETERS.\n",
      "          VERIFY THAT STEP SIZES ARE BIG ENOUGH AND CHECK FCN LOGIC.\n",
      " *******************************************************************************\n",
      " *******************************************************************************\n",
      "  FUNCTION VALUE DOES NOT SEEM TO DEPEND ON ANY OF THE 18 VARIABLE PARAMETERS.\n",
      "          VERIFY THAT STEP SIZES ARE BIG ENOUGH AND CHECK FCN LOGIC.\n",
      " *******************************************************************************\n",
      " *******************************************************************************\n",
      "  FUNCTION VALUE DOES NOT SEEM TO DEPEND ON ANY OF THE 18 VARIABLE PARAMETERS.\n",
      "          VERIFY THAT STEP SIZES ARE BIG ENOUGH AND CHECK FCN LOGIC.\n",
      " *******************************************************************************\n",
      " *******************************************************************************\n",
      "  FUNCTION VALUE DOES NOT SEEM TO DEPEND ON ANY OF THE 18 VARIABLE PARAMETERS.\n",
      "          VERIFY THAT STEP SIZES ARE BIG ENOUGH AND CHECK FCN LOGIC.\n",
      " *******************************************************************************\n",
      " *******************************************************************************\n",
      "  FUNCTION VALUE DOES NOT SEEM TO DEPEND ON ANY OF THE 18 VARIABLE PARAMETERS.\n",
      "          VERIFY THAT STEP SIZES ARE BIG ENOUGH AND CHECK FCN LOGIC.\n",
      " *******************************************************************************\n",
      " *******************************************************************************\n",
      "  FUNCTION VALUE DOES NOT SEEM TO DEPEND ON ANY OF THE 18 VARIABLE PARAMETERS.\n",
      "          VERIFY THAT STEP SIZES ARE BIG ENOUGH AND CHECK FCN LOGIC.\n",
      " *******************************************************************************\n",
      " *******************************************************************************\n",
      "  FUNCTION VALUE DOES NOT SEEM TO DEPEND ON ANY OF THE 18 VARIABLE PARAMETERS.\n",
      "          VERIFY THAT STEP SIZES ARE BIG ENOUGH AND CHECK FCN LOGIC.\n",
      " *******************************************************************************\n",
      " *******************************************************************************\n",
      "  FUNCTION VALUE DOES NOT SEEM TO DEPEND ON ANY OF THE 18 VARIABLE PARAMETERS.\n",
      "          VERIFY THAT STEP SIZES ARE BIG ENOUGH AND CHECK FCN LOGIC.\n",
      " *******************************************************************************\n",
      " *******************************************************************************\n",
      "  FUNCTION VALUE DOES NOT SEEM TO DEPEND ON ANY OF THE 18 VARIABLE PARAMETERS.\n",
      "          VERIFY THAT STEP SIZES ARE BIG ENOUGH AND CHECK FCN LOGIC.\n",
      " *******************************************************************************\n",
      " *******************************************************************************\n",
      "  FUNCTION VALUE DOES NOT SEEM TO DEPEND ON ANY OF THE 18 VARIABLE PARAMETERS.\n",
      "          VERIFY THAT STEP SIZES ARE BIG ENOUGH AND CHECK FCN LOGIC.\n",
      " *******************************************************************************\n",
      " *******************************************************************************\n",
      "  FUNCTION VALUE DOES NOT SEEM TO DEPEND ON ANY OF THE 18 VARIABLE PARAMETERS.\n",
      "          VERIFY THAT STEP SIZES ARE BIG ENOUGH AND CHECK FCN LOGIC.\n",
      " *******************************************************************************\n",
      " *******************************************************************************\n",
      "  FUNCTION VALUE DOES NOT SEEM TO DEPEND ON ANY OF THE 18 VARIABLE PARAMETERS.\n",
      "          VERIFY THAT STEP SIZES ARE BIG ENOUGH AND CHECK FCN LOGIC.\n",
      " *******************************************************************************\n",
      " *******************************************************************************\n",
      "  FUNCTION VALUE DOES NOT SEEM TO DEPEND ON ANY OF THE 18 VARIABLE PARAMETERS.\n",
      "          VERIFY THAT STEP SIZES ARE BIG ENOUGH AND CHECK FCN LOGIC.\n",
      " *******************************************************************************\n",
      " *******************************************************************************\n",
      "  FUNCTION VALUE DOES NOT SEEM TO DEPEND ON ANY OF THE 18 VARIABLE PARAMETERS.\n",
      "          VERIFY THAT STEP SIZES ARE BIG ENOUGH AND CHECK FCN LOGIC.\n",
      " *******************************************************************************\n",
      " *******************************************************************************\n",
      "  FUNCTION VALUE DOES NOT SEEM TO DEPEND ON ANY OF THE 18 VARIABLE PARAMETERS.\n",
      "          VERIFY THAT STEP SIZES ARE BIG ENOUGH AND CHECK FCN LOGIC.\n",
      " *******************************************************************************\n",
      " *******************************************************************************\n",
      "  FUNCTION VALUE DOES NOT SEEM TO DEPEND ON ANY OF THE 18 VARIABLE PARAMETERS.\n",
      "          VERIFY THAT STEP SIZES ARE BIG ENOUGH AND CHECK FCN LOGIC.\n",
      " *******************************************************************************\n",
      " *******************************************************************************\n",
      "  FUNCTION VALUE DOES NOT SEEM TO DEPEND ON ANY OF THE 18 VARIABLE PARAMETERS.\n",
      "          VERIFY THAT STEP SIZES ARE BIG ENOUGH AND CHECK FCN LOGIC.\n",
      " *******************************************************************************\n",
      " *******************************************************************************\n",
      "  FUNCTION VALUE DOES NOT SEEM TO DEPEND ON ANY OF THE 18 VARIABLE PARAMETERS.\n",
      "          VERIFY THAT STEP SIZES ARE BIG ENOUGH AND CHECK FCN LOGIC.\n",
      " *******************************************************************************\n",
      " *******************************************************************************\n",
      "  FUNCTION VALUE DOES NOT SEEM TO DEPEND ON ANY OF THE 18 VARIABLE PARAMETERS.\n",
      "          VERIFY THAT STEP SIZES ARE BIG ENOUGH AND CHECK FCN LOGIC.\n",
      " *******************************************************************************\n",
      " *******************************************************************************\n",
      "  FUNCTION VALUE DOES NOT SEEM TO DEPEND ON ANY OF THE 18 VARIABLE PARAMETERS.\n",
      "          VERIFY THAT STEP SIZES ARE BIG ENOUGH AND CHECK FCN LOGIC.\n",
      " *******************************************************************************\n",
      " *******************************************************************************\n",
      "  FUNCTION VALUE DOES NOT SEEM TO DEPEND ON ANY OF THE 18 VARIABLE PARAMETERS.\n",
      "          VERIFY THAT STEP SIZES ARE BIG ENOUGH AND CHECK FCN LOGIC.\n",
      " *******************************************************************************\n",
      " *******************************************************************************\n",
      "  FUNCTION VALUE DOES NOT SEEM TO DEPEND ON ANY OF THE 18 VARIABLE PARAMETERS.\n",
      "          VERIFY THAT STEP SIZES ARE BIG ENOUGH AND CHECK FCN LOGIC.\n",
      " *******************************************************************************\n",
      " *******************************************************************************\n",
      "  FUNCTION VALUE DOES NOT SEEM TO DEPEND ON ANY OF THE 18 VARIABLE PARAMETERS.\n",
      "          VERIFY THAT STEP SIZES ARE BIG ENOUGH AND CHECK FCN LOGIC.\n",
      " *******************************************************************************\n",
      " *******************************************************************************\n",
      "  FUNCTION VALUE DOES NOT SEEM TO DEPEND ON ANY OF THE 18 VARIABLE PARAMETERS.\n",
      "          VERIFY THAT STEP SIZES ARE BIG ENOUGH AND CHECK FCN LOGIC.\n",
      " *******************************************************************************\n",
      " *******************************************************************************\n",
      "  FUNCTION VALUE DOES NOT SEEM TO DEPEND ON ANY OF THE 18 VARIABLE PARAMETERS.\n",
      "          VERIFY THAT STEP SIZES ARE BIG ENOUGH AND CHECK FCN LOGIC.\n",
      " *******************************************************************************\n",
      " *******************************************************************************\n",
      "  FUNCTION VALUE DOES NOT SEEM TO DEPEND ON ANY OF THE 18 VARIABLE PARAMETERS.\n",
      "          VERIFY THAT STEP SIZES ARE BIG ENOUGH AND CHECK FCN LOGIC.\n",
      " *******************************************************************************\n",
      " *******************************************************************************\n",
      "  FUNCTION VALUE DOES NOT SEEM TO DEPEND ON ANY OF THE 18 VARIABLE PARAMETERS.\n",
      "          VERIFY THAT STEP SIZES ARE BIG ENOUGH AND CHECK FCN LOGIC.\n",
      " *******************************************************************************\n",
      " *******************************************************************************\n",
      "  FUNCTION VALUE DOES NOT SEEM TO DEPEND ON ANY OF THE 18 VARIABLE PARAMETERS.\n",
      "          VERIFY THAT STEP SIZES ARE BIG ENOUGH AND CHECK FCN LOGIC.\n",
      " *******************************************************************************\n",
      " *******************************************************************************\n",
      "  FUNCTION VALUE DOES NOT SEEM TO DEPEND ON ANY OF THE 18 VARIABLE PARAMETERS.\n",
      "          VERIFY THAT STEP SIZES ARE BIG ENOUGH AND CHECK FCN LOGIC.\n",
      " *******************************************************************************\n",
      " *******************************************************************************\n",
      "  FUNCTION VALUE DOES NOT SEEM TO DEPEND ON ANY OF THE 18 VARIABLE PARAMETERS.\n",
      "          VERIFY THAT STEP SIZES ARE BIG ENOUGH AND CHECK FCN LOGIC.\n",
      " *******************************************************************************\n",
      " *******************************************************************************\n",
      "  FUNCTION VALUE DOES NOT SEEM TO DEPEND ON ANY OF THE 18 VARIABLE PARAMETERS.\n",
      "          VERIFY THAT STEP SIZES ARE BIG ENOUGH AND CHECK FCN LOGIC.\n",
      " *******************************************************************************\n",
      " *******************************************************************************\n",
      "  FUNCTION VALUE DOES NOT SEEM TO DEPEND ON ANY OF THE 18 VARIABLE PARAMETERS.\n",
      "          VERIFY THAT STEP SIZES ARE BIG ENOUGH AND CHECK FCN LOGIC.\n",
      " *******************************************************************************\n",
      " *******************************************************************************\n",
      "  FUNCTION VALUE DOES NOT SEEM TO DEPEND ON ANY OF THE 18 VARIABLE PARAMETERS.\n",
      "          VERIFY THAT STEP SIZES ARE BIG ENOUGH AND CHECK FCN LOGIC.\n",
      " *******************************************************************************\n",
      " *******************************************************************************\n",
      "  FUNCTION VALUE DOES NOT SEEM TO DEPEND ON ANY OF THE 18 VARIABLE PARAMETERS.\n",
      "          VERIFY THAT STEP SIZES ARE BIG ENOUGH AND CHECK FCN LOGIC.\n",
      " *******************************************************************************\n",
      " *******************************************************************************\n",
      "  FUNCTION VALUE DOES NOT SEEM TO DEPEND ON ANY OF THE 18 VARIABLE PARAMETERS.\n",
      "          VERIFY THAT STEP SIZES ARE BIG ENOUGH AND CHECK FCN LOGIC.\n",
      " *******************************************************************************\n",
      " *******************************************************************************\n",
      "  FUNCTION VALUE DOES NOT SEEM TO DEPEND ON ANY OF THE 18 VARIABLE PARAMETERS.\n",
      "          VERIFY THAT STEP SIZES ARE BIG ENOUGH AND CHECK FCN LOGIC.\n",
      " *******************************************************************************\n",
      " *******************************************************************************\n",
      "  FUNCTION VALUE DOES NOT SEEM TO DEPEND ON ANY OF THE 18 VARIABLE PARAMETERS.\n",
      "          VERIFY THAT STEP SIZES ARE BIG ENOUGH AND CHECK FCN LOGIC.\n",
      " *******************************************************************************\n",
      " *******************************************************************************\n",
      "  FUNCTION VALUE DOES NOT SEEM TO DEPEND ON ANY OF THE 18 VARIABLE PARAMETERS.\n",
      "          VERIFY THAT STEP SIZES ARE BIG ENOUGH AND CHECK FCN LOGIC.\n",
      " *******************************************************************************\n",
      " *******************************************************************************\n",
      "  FUNCTION VALUE DOES NOT SEEM TO DEPEND ON ANY OF THE 18 VARIABLE PARAMETERS.\n",
      "          VERIFY THAT STEP SIZES ARE BIG ENOUGH AND CHECK FCN LOGIC.\n",
      " *******************************************************************************\n",
      " *******************************************************************************\n",
      "  FUNCTION VALUE DOES NOT SEEM TO DEPEND ON ANY OF THE 18 VARIABLE PARAMETERS.\n",
      "          VERIFY THAT STEP SIZES ARE BIG ENOUGH AND CHECK FCN LOGIC.\n",
      " *******************************************************************************\n",
      " *******************************************************************************\n",
      "  FUNCTION VALUE DOES NOT SEEM TO DEPEND ON ANY OF THE 18 VARIABLE PARAMETERS.\n",
      "          VERIFY THAT STEP SIZES ARE BIG ENOUGH AND CHECK FCN LOGIC.\n",
      " *******************************************************************************\n",
      " *******************************************************************************\n",
      "  FUNCTION VALUE DOES NOT SEEM TO DEPEND ON ANY OF THE 18 VARIABLE PARAMETERS.\n",
      "          VERIFY THAT STEP SIZES ARE BIG ENOUGH AND CHECK FCN LOGIC.\n",
      " *******************************************************************************\n",
      " *******************************************************************************\n",
      "  FUNCTION VALUE DOES NOT SEEM TO DEPEND ON ANY OF THE 18 VARIABLE PARAMETERS.\n",
      "          VERIFY THAT STEP SIZES ARE BIG ENOUGH AND CHECK FCN LOGIC.\n",
      " *******************************************************************************\n",
      " *******************************************************************************\n",
      "  FUNCTION VALUE DOES NOT SEEM TO DEPEND ON ANY OF THE 18 VARIABLE PARAMETERS.\n",
      "          VERIFY THAT STEP SIZES ARE BIG ENOUGH AND CHECK FCN LOGIC.\n",
      " *******************************************************************************\n",
      " *******************************************************************************\n",
      "  FUNCTION VALUE DOES NOT SEEM TO DEPEND ON ANY OF THE 18 VARIABLE PARAMETERS.\n",
      "          VERIFY THAT STEP SIZES ARE BIG ENOUGH AND CHECK FCN LOGIC.\n",
      " *******************************************************************************\n",
      " *******************************************************************************\n",
      "  FUNCTION VALUE DOES NOT SEEM TO DEPEND ON ANY OF THE 18 VARIABLE PARAMETERS.\n",
      "          VERIFY THAT STEP SIZES ARE BIG ENOUGH AND CHECK FCN LOGIC.\n",
      " *******************************************************************************\n",
      " *******************************************************************************\n",
      "  FUNCTION VALUE DOES NOT SEEM TO DEPEND ON ANY OF THE 18 VARIABLE PARAMETERS.\n",
      "          VERIFY THAT STEP SIZES ARE BIG ENOUGH AND CHECK FCN LOGIC.\n",
      " *******************************************************************************\n",
      " *******************************************************************************\n",
      "  FUNCTION VALUE DOES NOT SEEM TO DEPEND ON ANY OF THE 18 VARIABLE PARAMETERS.\n",
      "          VERIFY THAT STEP SIZES ARE BIG ENOUGH AND CHECK FCN LOGIC.\n",
      " *******************************************************************************\n",
      " *******************************************************************************\n",
      "  FUNCTION VALUE DOES NOT SEEM TO DEPEND ON ANY OF THE 18 VARIABLE PARAMETERS.\n",
      "          VERIFY THAT STEP SIZES ARE BIG ENOUGH AND CHECK FCN LOGIC.\n",
      " *******************************************************************************\n",
      " *******************************************************************************\n",
      "  FUNCTION VALUE DOES NOT SEEM TO DEPEND ON ANY OF THE 18 VARIABLE PARAMETERS.\n",
      "          VERIFY THAT STEP SIZES ARE BIG ENOUGH AND CHECK FCN LOGIC.\n",
      " *******************************************************************************\n",
      " *******************************************************************************\n",
      "  FUNCTION VALUE DOES NOT SEEM TO DEPEND ON ANY OF THE 18 VARIABLE PARAMETERS.\n",
      "          VERIFY THAT STEP SIZES ARE BIG ENOUGH AND CHECK FCN LOGIC.\n",
      " *******************************************************************************\n",
      " *******************************************************************************\n",
      "  FUNCTION VALUE DOES NOT SEEM TO DEPEND ON ANY OF THE 18 VARIABLE PARAMETERS.\n",
      "          VERIFY THAT STEP SIZES ARE BIG ENOUGH AND CHECK FCN LOGIC.\n",
      " *******************************************************************************\n",
      " *******************************************************************************\n",
      "  FUNCTION VALUE DOES NOT SEEM TO DEPEND ON ANY OF THE 18 VARIABLE PARAMETERS.\n",
      "          VERIFY THAT STEP SIZES ARE BIG ENOUGH AND CHECK FCN LOGIC.\n",
      " *******************************************************************************\n",
      " *******************************************************************************\n",
      "  FUNCTION VALUE DOES NOT SEEM TO DEPEND ON ANY OF THE 18 VARIABLE PARAMETERS.\n",
      "          VERIFY THAT STEP SIZES ARE BIG ENOUGH AND CHECK FCN LOGIC.\n",
      " *******************************************************************************\n",
      " *******************************************************************************\n",
      "  FUNCTION VALUE DOES NOT SEEM TO DEPEND ON ANY OF THE 18 VARIABLE PARAMETERS.\n",
      "          VERIFY THAT STEP SIZES ARE BIG ENOUGH AND CHECK FCN LOGIC.\n",
      " *******************************************************************************\n",
      " *******************************************************************************\n",
      "  FUNCTION VALUE DOES NOT SEEM TO DEPEND ON ANY OF THE 18 VARIABLE PARAMETERS.\n",
      "          VERIFY THAT STEP SIZES ARE BIG ENOUGH AND CHECK FCN LOGIC.\n",
      " *******************************************************************************\n",
      " *******************************************************************************\n",
      "  FUNCTION VALUE DOES NOT SEEM TO DEPEND ON ANY OF THE 18 VARIABLE PARAMETERS.\n",
      "          VERIFY THAT STEP SIZES ARE BIG ENOUGH AND CHECK FCN LOGIC.\n",
      " *******************************************************************************\n",
      " *******************************************************************************\n",
      "  FUNCTION VALUE DOES NOT SEEM TO DEPEND ON ANY OF THE 18 VARIABLE PARAMETERS.\n",
      "          VERIFY THAT STEP SIZES ARE BIG ENOUGH AND CHECK FCN LOGIC.\n",
      " *******************************************************************************\n",
      " *******************************************************************************\n",
      "  FUNCTION VALUE DOES NOT SEEM TO DEPEND ON ANY OF THE 18 VARIABLE PARAMETERS.\n",
      "          VERIFY THAT STEP SIZES ARE BIG ENOUGH AND CHECK FCN LOGIC.\n",
      " *******************************************************************************\n",
      " *******************************************************************************\n",
      "  FUNCTION VALUE DOES NOT SEEM TO DEPEND ON ANY OF THE 18 VARIABLE PARAMETERS.\n",
      "          VERIFY THAT STEP SIZES ARE BIG ENOUGH AND CHECK FCN LOGIC.\n",
      " *******************************************************************************\n",
      " *******************************************************************************\n",
      "  FUNCTION VALUE DOES NOT SEEM TO DEPEND ON ANY OF THE 18 VARIABLE PARAMETERS.\n",
      "          VERIFY THAT STEP SIZES ARE BIG ENOUGH AND CHECK FCN LOGIC.\n",
      " *******************************************************************************\n",
      " *******************************************************************************\n",
      "  FUNCTION VALUE DOES NOT SEEM TO DEPEND ON ANY OF THE 18 VARIABLE PARAMETERS.\n",
      "          VERIFY THAT STEP SIZES ARE BIG ENOUGH AND CHECK FCN LOGIC.\n",
      " *******************************************************************************\n",
      " *******************************************************************************\n",
      "  FUNCTION VALUE DOES NOT SEEM TO DEPEND ON ANY OF THE 18 VARIABLE PARAMETERS.\n",
      "          VERIFY THAT STEP SIZES ARE BIG ENOUGH AND CHECK FCN LOGIC.\n",
      " *******************************************************************************\n",
      " *******************************************************************************\n",
      "  FUNCTION VALUE DOES NOT SEEM TO DEPEND ON ANY OF THE 18 VARIABLE PARAMETERS.\n",
      "          VERIFY THAT STEP SIZES ARE BIG ENOUGH AND CHECK FCN LOGIC.\n",
      " *******************************************************************************\n",
      " *******************************************************************************\n",
      "  FUNCTION VALUE DOES NOT SEEM TO DEPEND ON ANY OF THE 18 VARIABLE PARAMETERS.\n",
      "          VERIFY THAT STEP SIZES ARE BIG ENOUGH AND CHECK FCN LOGIC.\n",
      " *******************************************************************************\n",
      " *******************************************************************************\n",
      "  FUNCTION VALUE DOES NOT SEEM TO DEPEND ON ANY OF THE 18 VARIABLE PARAMETERS.\n",
      "          VERIFY THAT STEP SIZES ARE BIG ENOUGH AND CHECK FCN LOGIC.\n",
      " *******************************************************************************\n",
      " *******************************************************************************\n",
      "  FUNCTION VALUE DOES NOT SEEM TO DEPEND ON ANY OF THE 18 VARIABLE PARAMETERS.\n",
      "          VERIFY THAT STEP SIZES ARE BIG ENOUGH AND CHECK FCN LOGIC.\n",
      " *******************************************************************************\n",
      " *******************************************************************************\n",
      "  FUNCTION VALUE DOES NOT SEEM TO DEPEND ON ANY OF THE 18 VARIABLE PARAMETERS.\n",
      "          VERIFY THAT STEP SIZES ARE BIG ENOUGH AND CHECK FCN LOGIC.\n",
      " *******************************************************************************\n",
      " *******************************************************************************\n",
      "  FUNCTION VALUE DOES NOT SEEM TO DEPEND ON ANY OF THE 18 VARIABLE PARAMETERS.\n",
      "          VERIFY THAT STEP SIZES ARE BIG ENOUGH AND CHECK FCN LOGIC.\n",
      " *******************************************************************************\n",
      " *******************************************************************************\n",
      "  FUNCTION VALUE DOES NOT SEEM TO DEPEND ON ANY OF THE 18 VARIABLE PARAMETERS.\n",
      "          VERIFY THAT STEP SIZES ARE BIG ENOUGH AND CHECK FCN LOGIC.\n",
      " *******************************************************************************\n",
      " *******************************************************************************\n",
      "  FUNCTION VALUE DOES NOT SEEM TO DEPEND ON ANY OF THE 18 VARIABLE PARAMETERS.\n",
      "          VERIFY THAT STEP SIZES ARE BIG ENOUGH AND CHECK FCN LOGIC.\n",
      " *******************************************************************************\n",
      " *******************************************************************************\n",
      "  FUNCTION VALUE DOES NOT SEEM TO DEPEND ON ANY OF THE 18 VARIABLE PARAMETERS.\n",
      "          VERIFY THAT STEP SIZES ARE BIG ENOUGH AND CHECK FCN LOGIC.\n",
      " *******************************************************************************\n",
      " *******************************************************************************\n",
      "  FUNCTION VALUE DOES NOT SEEM TO DEPEND ON ANY OF THE 18 VARIABLE PARAMETERS.\n",
      "          VERIFY THAT STEP SIZES ARE BIG ENOUGH AND CHECK FCN LOGIC.\n",
      " *******************************************************************************\n",
      " *******************************************************************************\n",
      "  FUNCTION VALUE DOES NOT SEEM TO DEPEND ON ANY OF THE 18 VARIABLE PARAMETERS.\n",
      "          VERIFY THAT STEP SIZES ARE BIG ENOUGH AND CHECK FCN LOGIC.\n",
      " *******************************************************************************\n",
      " *******************************************************************************\n",
      "  FUNCTION VALUE DOES NOT SEEM TO DEPEND ON ANY OF THE 18 VARIABLE PARAMETERS.\n",
      "          VERIFY THAT STEP SIZES ARE BIG ENOUGH AND CHECK FCN LOGIC.\n",
      " *******************************************************************************\n",
      " *******************************************************************************\n",
      "  FUNCTION VALUE DOES NOT SEEM TO DEPEND ON ANY OF THE 18 VARIABLE PARAMETERS.\n",
      "          VERIFY THAT STEP SIZES ARE BIG ENOUGH AND CHECK FCN LOGIC.\n",
      " *******************************************************************************\n",
      " *******************************************************************************\n",
      "  FUNCTION VALUE DOES NOT SEEM TO DEPEND ON ANY OF THE 18 VARIABLE PARAMETERS.\n",
      "          VERIFY THAT STEP SIZES ARE BIG ENOUGH AND CHECK FCN LOGIC.\n",
      " *******************************************************************************\n",
      " *******************************************************************************\n",
      "  FUNCTION VALUE DOES NOT SEEM TO DEPEND ON ANY OF THE 18 VARIABLE PARAMETERS.\n",
      "          VERIFY THAT STEP SIZES ARE BIG ENOUGH AND CHECK FCN LOGIC.\n",
      " *******************************************************************************\n",
      " *******************************************************************************\n",
      "  FUNCTION VALUE DOES NOT SEEM TO DEPEND ON ANY OF THE 18 VARIABLE PARAMETERS.\n",
      "          VERIFY THAT STEP SIZES ARE BIG ENOUGH AND CHECK FCN LOGIC.\n",
      " *******************************************************************************\n",
      " *******************************************************************************\n",
      "  FUNCTION VALUE DOES NOT SEEM TO DEPEND ON ANY OF THE 18 VARIABLE PARAMETERS.\n",
      "          VERIFY THAT STEP SIZES ARE BIG ENOUGH AND CHECK FCN LOGIC.\n",
      " *******************************************************************************\n",
      " *******************************************************************************\n"
     ]
    },
    {
     "name": "stderr",
     "output_type": "stream",
     "text": [
      "mv: rename /Users/dtak/Research/DarkMatter/RefData//wino_dnde.npy to /Users/dtak/Research/DarkMatter/RefData//wino_dnde_res_lo.npy: No such file or directory\n",
      "mv: rename /Users/dtak/Research/DarkMatter/RefData//wino_dnde_res_lo.npy to /Users/dtak/Research/DarkMatter/RefData//wino_dnde.npy: No such file or directory\n"
     ]
    }
   ],
   "source": [
    "ebins = np.linspace(1, 7, 101)\n",
    "uls = []\n",
    "\n",
    "change_file(\"wino_dnde_res_hi\", \"wino_dnde_res_lo\")\n",
    "\n",
    "data = WINOspectra(return_table=True)\n",
    "\n",
    "mass = list(set(data[\"mass\"]))\n",
    "\n",
    "mass.sort()\n",
    "\n",
    "for m in mass:\n",
    "    diff = ebins[np.argmin(abs(m-10**ebins))]-np.log10(m)\n",
    "    new_ebins = 10**(ebins-diff)\n",
    "    \n",
    "    mle = Likelihood.combinedUpperLimits(\"wino\", package=\"EventDisplay\", dwarfs=const.ListOfDwarf, method=2, ext=True, DM_spectra=\"WINO\",\n",
    "                            mass=[m], addTheta=False, averagedIRF=True, useBias=True, statistic=\"binned\",\n",
    "                            correction=True, bkgModel=\"gaus\", filename=False, energyEdges=new_ebins,\n",
    "                            )\n",
    "    uls.append(mle)\n",
    "    \n",
    "change_file(\"wino_dnde_res_lo\", \"wino_dnde_res_hi\")\n",
    "\n",
    "data = WINOspectra(return_table=True)\n",
    "\n",
    "mass = list(set(data[\"mass\"]))\n",
    "\n",
    "mass.sort()\n",
    "\n",
    "for m in mass:\n",
    "    diff = ebins[np.argmin(abs(m-10**ebins))]-np.log10(m)\n",
    "    new_ebins = 10**(ebins-diff)\n",
    "    \n",
    "    mle = Likelihood.combinedUpperLimits(\"wino\", package=\"EventDisplay\", dwarfs=const.ListOfDwarf, method=2, ext=True, DM_spectra=\"WINO\",\n",
    "                            mass=[m], addTheta=False, averagedIRF=True, useBias=True, statistic=\"binned\",\n",
    "                            correction=True, bkgModel=\"gaus\", filename=False, energyEdges=new_ebins,\n",
    "                            )\n",
    "    uls.append(mle)\n"
   ]
  },
  {
   "cell_type": "code",
   "execution_count": 127,
   "id": "091b5615",
   "metadata": {},
   "outputs": [],
   "source": [
    "uls=uls.tolist()"
   ]
  },
  {
   "cell_type": "code",
   "execution_count": null,
   "id": "023b4e5b",
   "metadata": {
    "scrolled": true
   },
   "outputs": [
    {
     "name": "stdout",
     "output_type": "stream",
     "text": [
      "==================================================\n",
      "[Log] Package      : EventDisplay\n",
      "[Log] # of Dwarfs  : 17\n",
      "[Log] Channel      : wino\n",
      "[Log] Dimention    : 1\n",
      "[Log] Background   : Gaussian (gaus)\n",
      "[Log] Dispersion   : Etr vs ratio\n",
      "[Log] Minimum mass : 800 GeV\n",
      "[Log] Maximum mass : 1 TeV\n",
      "==================================================\n"
     ]
    },
    {
     "data": {
      "application/vnd.jupyter.widget-view+json": {
       "model_id": "e9a9b4a53e7c43319bc28da93bdf89b0",
       "version_major": 2,
       "version_minor": 0
      },
      "text/plain": [
       "  0%|          | 0/1 [00:00<?, ?it/s]"
      ]
     },
     "metadata": {},
     "output_type": "display_data"
    },
    {
     "name": "stdout",
     "output_type": "stream",
     "text": [
      "==================================================\n",
      "[Log] Package      : EventDisplay\n",
      "[Log] # of Dwarfs  : 17\n",
      "[Log] Channel      : wino\n",
      "[Log] Dimention    : 1\n",
      "[Log] Background   : Gaussian (gaus)\n",
      "[Log] Dispersion   : Etr vs ratio\n",
      "[Log] Minimum mass : 2000 GeV\n",
      "[Log] Maximum mass : 2 TeV\n",
      "==================================================\n"
     ]
    },
    {
     "data": {
      "application/vnd.jupyter.widget-view+json": {
       "model_id": "7ed442599201435aa24c6e171b20e4f4",
       "version_major": 2,
       "version_minor": 0
      },
      "text/plain": [
       "  0%|          | 0/1 [00:00<?, ?it/s]"
      ]
     },
     "metadata": {},
     "output_type": "display_data"
    },
    {
     "name": "stdout",
     "output_type": "stream",
     "text": [
      "==================================================\n",
      "[Log] Package      : EventDisplay\n",
      "[Log] # of Dwarfs  : 17\n",
      "[Log] Channel      : wino\n",
      "[Log] Dimention    : 1\n",
      "[Log] Background   : Gaussian (gaus)\n",
      "[Log] Dispersion   : Etr vs ratio\n",
      "[Log] Minimum mass : 3250 GeV\n",
      "[Log] Maximum mass : 3 TeV\n",
      "==================================================\n"
     ]
    },
    {
     "data": {
      "application/vnd.jupyter.widget-view+json": {
       "model_id": "60d46b1d7367489aa299c51575fadc44",
       "version_major": 2,
       "version_minor": 0
      },
      "text/plain": [
       "  0%|          | 0/1 [00:00<?, ?it/s]"
      ]
     },
     "metadata": {},
     "output_type": "display_data"
    },
    {
     "name": "stdout",
     "output_type": "stream",
     "text": [
      "==================================================\n",
      "[Log] Package      : EventDisplay\n",
      "[Log] # of Dwarfs  : 17\n",
      "[Log] Channel      : wino\n",
      "[Log] Dimention    : 1\n",
      "[Log] Background   : Gaussian (gaus)\n",
      "[Log] Dispersion   : Etr vs ratio\n",
      "[Log] Minimum mass : 4500 GeV\n",
      "[Log] Maximum mass : 4 TeV\n",
      "==================================================\n"
     ]
    },
    {
     "data": {
      "application/vnd.jupyter.widget-view+json": {
       "model_id": "dc45ac70143140ebba679131423ac21c",
       "version_major": 2,
       "version_minor": 0
      },
      "text/plain": [
       "  0%|          | 0/1 [00:00<?, ?it/s]"
      ]
     },
     "metadata": {},
     "output_type": "display_data"
    },
    {
     "name": "stdout",
     "output_type": "stream",
     "text": [
      "==================================================\n",
      "[Log] Package      : EventDisplay\n",
      "[Log] # of Dwarfs  : 17\n",
      "[Log] Channel      : wino\n",
      "[Log] Dimention    : 1\n",
      "[Log] Background   : Gaussian (gaus)\n",
      "[Log] Dispersion   : Etr vs ratio\n",
      "[Log] Minimum mass : 5750 GeV\n",
      "[Log] Maximum mass : 6 TeV\n",
      "==================================================\n"
     ]
    },
    {
     "data": {
      "application/vnd.jupyter.widget-view+json": {
       "model_id": "16a6273eed9e4ac380d2ef5697d75320",
       "version_major": 2,
       "version_minor": 0
      },
      "text/plain": [
       "  0%|          | 0/1 [00:00<?, ?it/s]"
      ]
     },
     "metadata": {},
     "output_type": "display_data"
    },
    {
     "name": "stdout",
     "output_type": "stream",
     "text": [
      "==================================================\n",
      "[Log] Package      : EventDisplay\n",
      "[Log] # of Dwarfs  : 17\n",
      "[Log] Channel      : wino\n",
      "[Log] Dimention    : 1\n",
      "[Log] Background   : Gaussian (gaus)\n",
      "[Log] Dispersion   : Etr vs ratio\n",
      "[Log] Minimum mass : 7000 GeV\n",
      "[Log] Maximum mass : 7 TeV\n",
      "==================================================\n"
     ]
    },
    {
     "data": {
      "application/vnd.jupyter.widget-view+json": {
       "model_id": "d6e4650157574c89ab9fe589cbabca39",
       "version_major": 2,
       "version_minor": 0
      },
      "text/plain": [
       "  0%|          | 0/1 [00:00<?, ?it/s]"
      ]
     },
     "metadata": {},
     "output_type": "display_data"
    },
    {
     "name": "stdout",
     "output_type": "stream",
     "text": [
      "==================================================\n",
      "[Log] Package      : EventDisplay\n",
      "[Log] # of Dwarfs  : 17\n",
      "[Log] Channel      : wino\n",
      "[Log] Dimention    : 1\n",
      "[Log] Background   : Gaussian (gaus)\n",
      "[Log] Dispersion   : Etr vs ratio\n",
      "[Log] Minimum mass : 8250 GeV\n",
      "[Log] Maximum mass : 8 TeV\n",
      "==================================================\n"
     ]
    },
    {
     "data": {
      "application/vnd.jupyter.widget-view+json": {
       "model_id": "3fb6fec910cd44d88a9dbcc016d80c2c",
       "version_major": 2,
       "version_minor": 0
      },
      "text/plain": [
       "  0%|          | 0/1 [00:00<?, ?it/s]"
      ]
     },
     "metadata": {},
     "output_type": "display_data"
    },
    {
     "name": "stdout",
     "output_type": "stream",
     "text": [
      "==================================================\n",
      "[Log] Package      : EventDisplay\n",
      "[Log] # of Dwarfs  : 17\n",
      "[Log] Channel      : wino\n",
      "[Log] Dimention    : 1\n",
      "[Log] Background   : Gaussian (gaus)\n",
      "[Log] Dispersion   : Etr vs ratio\n",
      "[Log] Minimum mass : 9500 GeV\n",
      "[Log] Maximum mass : 10 TeV\n",
      "==================================================\n"
     ]
    },
    {
     "data": {
      "application/vnd.jupyter.widget-view+json": {
       "model_id": "cf3f289e99054b1aa53f1d54f50046f0",
       "version_major": 2,
       "version_minor": 0
      },
      "text/plain": [
       "  0%|          | 0/1 [00:00<?, ?it/s]"
      ]
     },
     "metadata": {},
     "output_type": "display_data"
    }
   ],
   "source": [
    "ebins = np.linspace(1, 7, 61)\n",
    "uls = []\n",
    "for m in mass[::5]:\n",
    "    diff = ebins[np.argmin(abs(m-10**ebins))]-np.log10(m)\n",
    "    new_ebins = 10**(ebins-diff)\n",
    "    \n",
    "    mle = Likelihood.combinedUpperLimits(\"wino\", package=\"EventDisplay\", dwarfs=const.ListOfDwarf, method=2, ext=True, DM_spectra=\"WINO\",\n",
    "                            mass=[m], addTheta=False, averagedIRF=True, useBias=True, \n",
    "                            correction=True, bkgModel=\"gaus\", filename=False,\n",
    "                            )\n",
    "    if np.size(mle) == 2:\n",
    "        uls.append(mle)"
   ]
  },
  {
   "cell_type": "code",
   "execution_count": 23,
   "id": "adae2e3d",
   "metadata": {},
   "outputs": [
    {
     "data": {
      "text/plain": [
       "30"
      ]
     },
     "execution_count": 23,
     "metadata": {},
     "output_type": "execute_result"
    }
   ],
   "source": [
    "5*"
   ]
  },
  {
   "cell_type": "code",
   "execution_count": 29,
   "id": "2467a22f",
   "metadata": {},
   "outputs": [],
   "source": [
    "np.save(\"6\",uls)"
   ]
  },
  {
   "cell_type": "code",
   "execution_count": 28,
   "id": "5259a133",
   "metadata": {},
   "outputs": [
    {
     "data": {
      "text/plain": [
       "array([[[ 800.        ,  -25.46561711]],\n",
       "\n",
       "       [[2000.        ,  -25.2183838 ]]])"
      ]
     },
     "execution_count": 28,
     "metadata": {},
     "output_type": "execute_result"
    }
   ],
   "source": [
    "np.load(\"10.npy\")"
   ]
  },
  {
   "cell_type": "code",
   "execution_count": 103,
   "id": "a809faa7",
   "metadata": {
    "scrolled": true
   },
   "outputs": [
    {
     "name": "stdout",
     "output_type": "stream",
     "text": [
      "[Log] Initializing... (EventDisplay)\n",
      "[Log] Step 1: Instrument response functions are imported.\n",
      "[Log] Step 2: Events are loaded.\n",
      "[Log] Step 3: A source model is loaded.\n",
      "[Log] Step 4: A temporary file for minimization is generated.\n",
      "[Log] Initialization is done. Run minuite.\n"
     ]
    },
    {
     "data": {
      "image/png": "[encoded data removed]",
      "text/plain": [
       "<Figure size 1200x400 with 2 Axes>"
      ]
     },
     "metadata": {},
     "output_type": "display_data"
    },
    {
     "name": "stdout",
     "output_type": "stream",
     "text": [
      "[Log, Error] The upper limit is not estimated (M=2.000 TeV).\n",
      "[Log, Result] TS = 766.50 (M=2000 GeV)\n",
      "[Log, Result] <σν> = 10^(-22.680 +/- 0.027)\n",
      "[Log, Result] b = 10450 +/- 139 (null value: 11291)\n",
      "[Log] Initializing... (EventDisplay)\n",
      "[Log] Step 1: Instrument response functions are imported.\n",
      "[Log] Step 2: Events are loaded.\n",
      "[Log] Step 3: A source model is loaded.\n",
      "[Log] Step 4: A temporary file for minimization is generated.\n",
      "[Log] Initialization is done. Run minuite.\n",
      "[Log, Result] TS = 3.54 (M=2000 GeV)\n",
      "[Log, Result] <σν> (95& upper limit) = 10^(-24.041) (equivalent to 9.11e-25)\n",
      "[Log, Result] b = 11217 +/- 150 (null value: 11291)\n",
      "[Log] Initializing... (EventDisplay)\n",
      "[Log] Step 1: Instrument response functions are imported.\n",
      "[Log] Step 2: Events are loaded.\n",
      "[Log] Step 3: A source model is loaded.\n",
      "[Log] Step 4: A temporary file for minimization is generated.\n",
      "[Log] Initialization is done. Run minuite.\n",
      "[Log, Result] TS = -0.00 (M=2000 GeV)\n",
      "[Log, Result] <σν> (95& upper limit) = 10^(-24.370) (equivalent to 4.26e-25)\n",
      "[Log, Result] b = 11290 +/- 139 (null value: 11291)\n",
      "[Log] Initializing... (EventDisplay)\n",
      "[Log] Step 1: Instrument response functions are imported.\n",
      "[Log] Step 2: Events are loaded.\n",
      "[Log] Step 3: A source model is loaded.\n",
      "[Log] Step 4: A temporary file for minimization is generated.\n",
      "[Log] Initialization is done. Run minuite.\n",
      "[Log, Result] TS = -0.00 (M=2000 GeV)\n",
      "[Log, Result] <σν> (95& upper limit) = 10^(-24.821) (equivalent to 1.51e-25)\n",
      "[Log, Result] b = 11291 +/- 139 (null value: 11291)\n",
      "[Log] Initializing... (EventDisplay)\n",
      "[Log] Step 1: Instrument response functions are imported.\n",
      "[Log] Step 2: Events are loaded.\n",
      "[Log] Step 3: A source model is loaded.\n",
      "[Log] Step 4: A temporary file for minimization is generated.\n",
      "[Log] Initialization is done. Run minuite.\n",
      "[Log, Result] TS = -0.00 (M=2000 GeV)\n",
      "[Log, Result] <σν> (95& upper limit) = 10^(-24.537) (equivalent to 2.90e-25)\n",
      "[Log, Result] b = 11291 +/- 139 (null value: 11291)\n",
      "[Log] Initializing... (EventDisplay)\n",
      "[Log] Step 1: Instrument response functions are imported.\n",
      "[Log] Step 2: Events are loaded.\n",
      "[Log] Step 3: A source model is loaded.\n",
      "[Log] Step 4: A temporary file for minimization is generated.\n",
      "[Log] Initialization is done. Run minuite.\n",
      "[Log, Result] TS = -0.00 (M=2000 GeV)\n",
      "[Log, Result] <σν> (95& upper limit) = 10^(-24.697) (equivalent to 2.01e-25)\n",
      "[Log, Result] b = 11291 +/- 139 (null value: 11291)\n",
      "[Log] Initializing... (EventDisplay)\n",
      "[Log] Step 1: Instrument response functions are imported.\n",
      "[Log] Step 2: Events are loaded.\n",
      "[Log] Step 3: A source model is loaded.\n",
      "[Log] Step 4: A temporary file for minimization is generated.\n",
      "[Log] Initialization is done. Run minuite.\n",
      "[Log, Result] TS = -0.00 (M=2000 GeV)\n",
      "[Log, Result] <σν> (95& upper limit) = 10^(-25.099) (equivalent to 7.97e-26)\n",
      "[Log, Result] b = 11291 +/- 139 (null value: 11291)\n",
      "[Log] Initializing... (EventDisplay)\n",
      "[Log] Step 1: Instrument response functions are imported.\n",
      "[Log] Step 2: Events are loaded.\n",
      "[Log] Step 3: A source model is loaded.\n",
      "[Log] Step 4: A temporary file for minimization is generated.\n",
      "[Log] Initialization is done. Run minuite.\n",
      "[Log, Result] TS = -0.00 (M=2000 GeV)\n",
      "[Log, Result] <σν> (95& upper limit) = 10^(-24.797) (equivalent to 1.59e-25)\n",
      "[Log, Result] b = 11291 +/- 139 (null value: 11291)\n",
      "[Log] Initializing... (EventDisplay)\n",
      "[Log] Step 1: Instrument response functions are imported.\n",
      "[Log] Step 2: Events are loaded.\n",
      "[Log] Step 3: A source model is loaded.\n",
      "[Log] Step 4: A temporary file for minimization is generated.\n",
      "[Log] Initialization is done. Run minuite.\n",
      "[Log, Result] TS = -0.00 (M=2000 GeV)\n",
      "[Log, Result] <σν> (95& upper limit) = 10^(-24.124) (equivalent to 7.52e-25)\n",
      "[Log, Result] b = 11291 +/- 146 (null value: 11291)\n",
      "[Log] Initializing... (EventDisplay)\n",
      "[Log] Step 1: Instrument response functions are imported.\n",
      "[Log] Step 2: Events are loaded.\n",
      "[Log] Step 3: A source model is loaded.\n",
      "[Log] Step 4: Assigning probabilities for each event...\n",
      "\n",
      "[Warning] 1 events have p_bkg of 0. They are ignored when calculating the likelihood.\n",
      "      Energy      \n",
      "------------------\n",
      "62290.446171057825\n",
      "\n",
      "\n",
      "[Log] Step 4: A temporary file for minimization is generated.\n",
      "[Log] Initialization is done. Run minuite.\n",
      "[Log, Result] TS = -0.00 (M=2000 GeV)\n",
      "[Log, Result] <σν> (95& upper limit) = 10^(-24.390) (equivalent to 4.07e-25)\n",
      "[Log, Result] b = 11291 +/- 139 (null value: 11291)\n",
      "[Log] Initializing... (EventDisplay)\n",
      "[Log] Step 1: Instrument response functions are imported.\n",
      "[Log] Step 2: Events are loaded.\n",
      "[Log] Step 3: A source model is loaded.\n",
      "[Log] Step 4: Assigning probabilities for each event...\n",
      "\n",
      "[Warning] 1 events have p_bkg of 0. They are ignored when calculating the likelihood.\n",
      "      Energy      \n",
      "------------------\n",
      "62290.446171057825\n",
      "\n",
      "\n",
      "[Log] Step 4: A temporary file for minimization is generated.\n",
      "[Log] Initialization is done. Run minuite.\n",
      "[Log, Result] The signal (M=2000 GeV) is not significant (TS < 1).\n",
      "[Log, Result] <σν> (95& upper limit) = 10^(-25.135) (equivalent to 7.32e-26)\n",
      "[Log, Result] b = 11290 +/- 139 (null value: 11291)\n",
      "[Log] Initializing... (EventDisplay)\n",
      "[Log] Step 1: Instrument response functions are imported.\n",
      "[Log] Step 2: Events are loaded.\n",
      "[Log] Step 3: A source model is loaded.\n",
      "[Log] Step 4: Assigning probabilities for each event...\n",
      "\n",
      "[Warning] 1 events have p_bkg of 0. They are ignored when calculating the likelihood.\n",
      "      Energy      \n",
      "------------------\n",
      "62290.446171057825\n",
      "\n",
      "\n",
      "[Log] Step 4: A temporary file for minimization is generated.\n",
      "[Log] Initialization is done. Run minuite.\n",
      "[Log, Result] TS = -0.00 (M=2000 GeV)\n",
      "[Log, Result] <σν> (95& upper limit) = 10^(-24.023) (equivalent to 9.48e-25)\n",
      "[Log, Result] b = 11293 +/- 139 (null value: 11291)\n",
      "[Log] Initializing... (EventDisplay)\n",
      "[Log] Step 1: Instrument response functions are imported.\n",
      "[Log] Step 2: Events are loaded.\n",
      "[Log] Step 3: A source model is loaded.\n",
      "[Log] Step 4: Assigning probabilities for each event...\n",
      "\n",
      "[Warning] 1 events have p_bkg of 0. They are ignored when calculating the likelihood.\n",
      "      Energy      \n",
      "------------------\n",
      "62290.446171057825\n",
      "\n",
      "\n",
      "[Log] Step 4: A temporary file for minimization is generated.\n",
      "[Log] Initialization is done. Run minuite.\n",
      "[Log, Result] The signal (M=2000 GeV) is not significant (TS < 1).\n",
      "[Log, Result] <σν> (95& upper limit) = 10^(-24.904) (equivalent to 1.25e-25)\n",
      "[Log, Result] b = 11290 +/- 139 (null value: 11291)\n",
      "[Log] Initializing... (EventDisplay)\n",
      "[Log] Step 1: Instrument response functions are imported.\n",
      "[Log] Step 2: Events are loaded.\n",
      "[Log] Step 3: A source model is loaded.\n",
      "[Log] Step 4: Assigning probabilities for each event...\n",
      "\n",
      "[Warning] 1 events have p_bkg of 0. They are ignored when calculating the likelihood.\n",
      "      Energy      \n",
      "------------------\n",
      "62290.446171057825\n",
      "\n",
      "\n",
      "[Log] Step 4: A temporary file for minimization is generated.\n",
      "[Log] Initialization is done. Run minuite.\n",
      "[Log, Result] TS = -0.00 (M=2000 GeV)\n",
      "[Log, Result] <σν> (95& upper limit) = 10^(-24.386) (equivalent to 4.11e-25)\n",
      "[Log, Result] b = 11289 +/- 142 (null value: 11291)\n",
      "[Log] Initializing... (EventDisplay)\n",
      "[Log] Step 1: Instrument response functions are imported.\n",
      "[Log] Step 2: Events are loaded.\n",
      "[Log] Step 3: A source model is loaded.\n",
      "[Log] Step 4: Assigning probabilities for each event...\n",
      "\n",
      "[Warning] 1 events have p_bkg of 0. They are ignored when calculating the likelihood.\n",
      "      Energy      \n",
      "------------------\n",
      "62290.446171057825\n",
      "\n",
      "\n",
      "[Log] Step 4: A temporary file for minimization is generated.\n",
      "[Log] Initialization is done. Run minuite.\n",
      "[Log, Result] TS = -0.00 (M=2000 GeV)\n",
      "[Log, Result] <σν> (95& upper limit) = 10^(-24.577) (equivalent to 2.65e-25)\n",
      "[Log, Result] b = 11291 +/- 141 (null value: 11291)\n",
      "[Log] Initializing... (EventDisplay)\n",
      "[Log] Step 1: Instrument response functions are imported.\n",
      "[Log] Step 2: Events are loaded.\n",
      "[Log] Step 3: A source model is loaded.\n",
      "[Log] Step 4: Assigning probabilities for each event...\n",
      "\n",
      "[Warning] 1 events have p_bkg of 0. They are ignored when calculating the likelihood.\n",
      "      Energy      \n",
      "------------------\n",
      "62290.446171057825\n",
      "\n",
      "\n",
      "[Log] Step 4: A temporary file for minimization is generated.\n",
      "[Log] Initialization is done. Run minuite.\n",
      "[Log, Result] The signal (M=2000 GeV) is not significant (TS < 1).\n",
      "[Log, Result] <σν> (95& upper limit) = 10^(-24.691) (equivalent to 2.04e-25)\n",
      "[Log, Result] b = 11290 +/- 139 (null value: 11291)\n",
      "[Log] Initializing... (EventDisplay)\n",
      "[Log] Step 1: Instrument response functions are imported.\n",
      "[Log] Step 2: Events are loaded.\n"
     ]
    },
    {
     "name": "stdout",
     "output_type": "stream",
     "text": [
      "[Log] Step 3: A source model is loaded.\n",
      "[Log] Step 4: Assigning probabilities for each event...\n",
      "\n",
      "[Warning] 1 events have p_bkg of 0. They are ignored when calculating the likelihood.\n",
      "      Energy      \n",
      "------------------\n",
      "62290.446171057825\n",
      "\n",
      "\n",
      "[Log] Step 4: A temporary file for minimization is generated.\n",
      "[Log] Initialization is done. Run minuite.\n",
      "[Log, Result] TS = -0.00 (M=2000 GeV)\n",
      "[Log, Result] <σν> (95& upper limit) = 10^(-24.779) (equivalent to 1.66e-25)\n",
      "[Log, Result] b = 11290 +/- 138 (null value: 11291)\n",
      "[Log] Initializing... (EventDisplay)\n",
      "[Log] Step 1: Instrument response functions are imported.\n",
      "[Log] Step 2: Events are loaded.\n",
      "[Log] Step 3: A source model is loaded.\n",
      "[Log] Step 4: Assigning probabilities for each event...\n",
      "\n",
      "[Warning] 1 events have p_bkg of 0. They are ignored when calculating the likelihood.\n",
      "      Energy      \n",
      "------------------\n",
      "62290.446171057825\n",
      "\n",
      "\n",
      "[Log] Step 4: A temporary file for minimization is generated.\n",
      "[Log] Initialization is done. Run minuite.\n",
      "[Log, Result] The signal (M=2000 GeV) is not significant (TS < 1).\n",
      "[Log, Result] <σν> (95& upper limit) = 10^(-24.346) (equivalent to 4.51e-25)\n",
      "[Log, Result] b = 11290 +/- 139 (null value: 11291)\n",
      "[Log] Initializing... (EventDisplay)\n",
      "[Log] Step 1: Instrument response functions are imported.\n",
      "[Log] Step 2: Events are loaded.\n",
      "[Log] Step 3: A source model is loaded.\n",
      "[Log] Step 4: Assigning probabilities for each event...\n",
      "\n",
      "[Warning] 1 events have p_bkg of 0. They are ignored when calculating the likelihood.\n",
      "      Energy      \n",
      "------------------\n",
      "62290.446171057825\n",
      "\n",
      "\n",
      "[Log] Step 4: A temporary file for minimization is generated.\n",
      "[Log] Initialization is done. Run minuite.\n",
      "[Log, Result] The signal (M=2000 GeV) is not significant (TS < 1).\n",
      "[Log, Result] <σν> (95& upper limit) = 10^(-24.383) (equivalent to 4.14e-25)\n",
      "[Log, Result] b = 11290 +/- 139 (null value: 11291)\n"
     ]
    }
   ],
   "source": [
    "sig = []\n",
    "for i in np.arange(10, 200, step=10):\n",
    "    mle = Likelihood.MLE(\"Segue_1\", 2000, DM_spectra=\"wino\", channel=\"wino\", ext=True, bkgModel=\"gaus\", \n",
    "                     energyEdges = np.geomspace(10, 10**7, i))\n",
    "    mle.minuit(method=2)\n",
    "    sig.append(mle.signu_ul)"
   ]
  },
  {
   "cell_type": "code",
   "execution_count": 75,
   "id": "3f0628b8",
   "metadata": {},
   "outputs": [],
   "source": []
  },
  {
   "cell_type": "code",
   "execution_count": 76,
   "id": "37db7a06",
   "metadata": {},
   "outputs": [
    {
     "data": {
      "text/plain": [
       "[<matplotlib.lines.Line2D at 0x2ba671cf0>]"
      ]
     },
     "execution_count": 76,
     "metadata": {},
     "output_type": "execute_result"
    },
    {
     "data": {
      "image/png": "[encoded data removed]",
      "text/plain": [
       "<Figure size 640x480 with 1 Axes>"
      ]
     },
     "metadata": {},
     "output_type": "display_data"
    }
   ],
   "source": [
    "plt.plot(data[\"mass\"], data[\"signu\"])"
   ]
  },
  {
   "cell_type": "code",
   "execution_count": 34,
   "id": "a144b12f",
   "metadata": {},
   "outputs": [
    {
     "data": {
      "text/plain": [
       "2.557618295920588e-25"
      ]
     },
     "execution_count": 34,
     "metadata": {},
     "output_type": "execute_result"
    }
   ],
   "source": [
    "10**-24.59216427"
   ]
  },
  {
   "cell_type": "code",
   "execution_count": 33,
   "id": "b1981cc5",
   "metadata": {},
   "outputs": [
    {
     "data": {
      "text/plain": [
       "<matplotlib.legend.Legend at 0x168160a60>"
      ]
     },
     "execution_count": 33,
     "metadata": {},
     "output_type": "execute_result"
    },
    {
     "data": {
      "image/png": "[encoded data removed]",
      "text/plain": [
       "<Figure size 640x480 with 1 Axes>"
      ]
     },
     "metadata": {},
     "output_type": "display_data"
    }
   ],
   "source": [
    "plotULcurve(\"wino_nlo_lo_combined\", add_input=\"wino_nlo_hi_combined\", label=\"WINO (17dSphs; 638hrs; unbinned)\", units=\"TeV\")\n",
    "plotULcurve(\"wino_nlo_matt_binned\", label=\"WINO (17dSphs; 638hrs; binned)\", units=\"TeV\")\n",
    "plt.axvline(2.8, color=\"r\", ls=\"--\", label=\"Thermal relic mass\")\n",
    "plotPredictedLine(units=\"TeV\")\n",
    "#plt.axhline(10**-24.59216427)\n",
    "plt.legend(loc=2, fontsize=10)"
   ]
  },
  {
   "cell_type": "markdown",
   "id": "5f0eaec8",
   "metadata": {},
   "source": [
    "# Check John's Idea"
   ]
  },
  {
   "cell_type": "code",
   "execution_count": 128,
   "id": "7527fb77",
   "metadata": {},
   "outputs": [
    {
     "data": {
      "image/png": "[encoded data removed]",
      "text/plain": [
       "<Figure size 640x480 with 1 Axes>"
      ]
     },
     "metadata": {},
     "output_type": "display_data"
    }
   ],
   "source": [
    "plotULcurve(\"wino_nlo\", label=\"WINO (Segue 1; 126 hours; unbinned)\")\n",
    "plotULcurve(\"wino_nlo_lo_binned\", label=\"WINO (Segue 1; 126 hours; binned)\")\n",
    "plotULcurve(\"wino_nlo_lo_c\", label=\"WINO (Segue 1; 126 hours; unbinned)\")\n",
    "plotULcurve(\"wino_nlo_lo_binned_c\", label=\"WINO (Segue 1; 126 hours; binned)\")\n",
    "\n",
    "plotULcurve(\"wino_nlo_hi\", color=\"C0\")\n",
    "plotULcurve(\"wino_nlo_binned_hi\", color=\"C1\", addRelic=True)\n"
   ]
  },
  {
   "cell_type": "markdown",
   "id": "507dc4f6",
   "metadata": {},
   "source": [
    "# Check # of bins "
   ]
  },
  {
   "cell_type": "code",
   "execution_count": 37,
   "id": "b2b18fc2",
   "metadata": {},
   "outputs": [
    {
     "data": {
      "image/png": "[encoded data removed]",
      "text/plain": [
       "<Figure size 1200x400 with 2 Axes>"
      ]
     },
     "metadata": {},
     "output_type": "display_data"
    },
    {
     "name": "stdout",
     "output_type": "stream",
     "text": [
      "[Log, Error] The upper limit is not estimated (M=2.800 TeV).\n"
     ]
    }
   ],
   "source": [
    "sig_3 = []\n",
    "for i in np.arange(10, 201, step=10):\n",
    "    mle = Likelihood.MLE(\"Segue_1\", 2800, DM_spectra=\"wino\", channel=\"wino\", ext=True, bkgModel=\"gaus\", \n",
    "                     energyEdges = np.geomspace(10, 10**7, i), verbose=False)\n",
    "    mle.minuit(method=2)\n",
    "    sig_3.append(mle.signu_ul)"
   ]
  },
  {
   "cell_type": "code",
   "execution_count": 140,
   "id": "51f06cb0",
   "metadata": {},
   "outputs": [
    {
     "data": {
      "image/png": "[encoded data removed]",
      "text/plain": [
       "<Figure size 700x700 with 2 Axes>"
      ]
     },
     "metadata": {},
     "output_type": "display_data"
    }
   ],
   "source": [
    "Likelihood.EventDisplay.plotData(\"UMa_II\", ext=True, energyEdges = np.geomspace(10, 10**7, 100))"
   ]
  },
  {
   "cell_type": "code",
   "execution_count": 36,
   "id": "5c9c8e21",
   "metadata": {},
   "outputs": [
    {
     "ename": "NameError",
     "evalue": "name 'sig' is not defined",
     "output_type": "error",
     "traceback": [
      "\u001b[0;31m---------------------------------------------------------------------------\u001b[0m",
      "\u001b[0;31mNameError\u001b[0m                                 Traceback (most recent call last)",
      "Cell \u001b[0;32mIn [36], line 1\u001b[0m\n\u001b[0;32m----> 1\u001b[0m plt\u001b[38;5;241m.\u001b[39mplot(np\u001b[38;5;241m.\u001b[39marange(\u001b[38;5;241m10\u001b[39m, \u001b[38;5;241m201\u001b[39m, step\u001b[38;5;241m=\u001b[39m\u001b[38;5;241m5\u001b[39m), \u001b[43msig\u001b[49m, label\u001b[38;5;241m=\u001b[39m\u001b[38;5;124m\"\u001b[39m\u001b[38;5;124m2 TeV\u001b[39m\u001b[38;5;124m\"\u001b[39m)\n\u001b[1;32m      2\u001b[0m plt\u001b[38;5;241m.\u001b[39mplot(np\u001b[38;5;241m.\u001b[39marange(\u001b[38;5;241m10\u001b[39m, \u001b[38;5;241m201\u001b[39m, step\u001b[38;5;241m=\u001b[39m\u001b[38;5;241m5\u001b[39m), sig_3, label\u001b[38;5;241m=\u001b[39m\u001b[38;5;124m\"\u001b[39m\u001b[38;5;124m3 TeV\u001b[39m\u001b[38;5;124m\"\u001b[39m)\n",
      "\u001b[0;31mNameError\u001b[0m: name 'sig' is not defined"
     ]
    }
   ],
   "source": [
    "plt.plot(np.arange(10, 201, step=5), sig, label=\"2 TeV\")\n",
    "plt.plot(np.arange(10, 201, step=5), sig_3, label=\"3 TeV\")"
   ]
  },
  {
   "cell_type": "markdown",
   "id": "61009635",
   "metadata": {},
   "source": [
    "# Shift bins"
   ]
  },
  {
   "cell_type": "code",
   "execution_count": 126,
   "id": "bdf69dd2",
   "metadata": {},
   "outputs": [
    {
     "name": "stdout",
     "output_type": "stream",
     "text": [
      "ERROR! Session/line number was not unique in database. History logging moved to new session 2061\n"
     ]
    }
   ],
   "source": [
    "sig_s = []\n",
    "for i in range(60):\n",
    "    mle = Likelihood.MLE(\"Segue_1\", 3000, DM_spectra=\"wino\", channel=\"wino\", ext=True, bkgModel=\"gaus\", \n",
    "                     energyEdges = np.logspace(1+0.001*i, 7+0.01*i, 101), verbose=False)\n",
    "    mle.minuit(method=2)\n",
    "    sig_s.append(mle.signu_ul)"
   ]
  },
  {
   "cell_type": "code",
   "execution_count": 127,
   "id": "97533d3b",
   "metadata": {},
   "outputs": [
    {
     "data": {
      "image/png": "[encoded data removed]",
      "text/plain": [
       "<Figure size 640x480 with 1 Axes>"
      ]
     },
     "metadata": {},
     "output_type": "display_data"
    }
   ],
   "source": [
    "plt.plot(range(60), sig_s)"
   ]
  }
 ],
 "metadata": {
  "kernelspec": {
   "display_name": "Python 3 (ipykernel)",
   "language": "python",
   "name": "python3"
  },
  "language_info": {
   "codemirror_mode": {
    "name": "ipython",
    "version": 3
   },
   "file_extension": ".py",
   "mimetype": "text/x-python",
   "name": "python",
   "nbconvert_exporter": "python",
   "pygments_lexer": "ipython3",
   "version": "3.10.6"
  }
 },
 "nbformat": 4,
 "nbformat_minor": 5
}
