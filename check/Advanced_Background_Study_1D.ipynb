{
 "cells": [
  {
   "cell_type": "code",
   "execution_count": 1,
   "metadata": {},
   "outputs": [
    {
     "name": "stdout",
     "output_type": "stream",
     "text": [
      "Welcome to JupyROOT 6.23/01\n"
     ]
    }
   ],
   "source": [
    "from DarkMatter import *\n",
    "\n",
    "dwarf = \"bootes\"\n",
    "events= Likelihood.eventdisplay.readData(dwarf, rawdata=True)\n",
    "sig = events[events[:,2] == 1.0]\n",
    "bkg = events[events[:,2] == 0.0]\n",
    "binEdges = const.energyEdges"
   ]
  },
  {
   "cell_type": "markdown",
   "metadata": {},
   "source": [
    "## Purpose: The current method for calculating the likelihood of background for on-region high-energy events has two problems. \n",
    "\n",
    "- First of all, we use histogram with equal-spaced bins to build a probability density function. If we have enough data, this does not a problem. However, if not, the probability density function depends on the selection of bin edges.\n",
    "\n",
    "- Secondly, we don't have enough high-energy background events to build a continuous probabilty density function.\n"
   ]
  },
  {
   "cell_type": "code",
   "execution_count": 2,
   "metadata": {},
   "outputs": [
    {
     "data": {
      "image/png": "[encoded data removed]",
      "text/plain": [
       "<Figure size 432x288 with 1 Axes>"
      ]
     },
     "metadata": {
      "needs_background": "light"
     },
     "output_type": "display_data"
    }
   ],
   "source": [
    "plt.hist(events[:,0][events[:,0]>5000], bins=binEdges, histtype=\"step\")\n",
    "plt.plot(events[:,0][events[:,0]>5000][:,None], np.full_like(events[:,0][events[:,0]>5000][:,None], 0.2), '|k', markeredgewidth=1, color=\"r\")\n",
    "plt.xlim(2000, )\n",
    "plt.xlabel(\"Energy [GeV]\", fontsize=12)\n",
    "plt.ylabel(\"Counts\", fontsize=12)\n",
    "plt.xscale(\"log\")"
   ]
  },
  {
   "cell_type": "markdown",
   "metadata": {},
   "source": [
    "### Raw Data (Null model)"
   ]
  },
  {
   "cell_type": "code",
   "execution_count": 3,
   "metadata": {},
   "outputs": [
    {
     "data": {
      "text/plain": [
       "<matplotlib.legend.Legend at 0x7ff2c08e7c40>"
      ]
     },
     "execution_count": 3,
     "metadata": {},
     "output_type": "execute_result"
    },
    {
     "data": {
      "image/png": "[encoded data removed]",
      "text/plain": [
       "<Figure size 432x288 with 1 Axes>"
      ]
     },
     "metadata": {
      "needs_background": "light"
     },
     "output_type": "display_data"
    }
   ],
   "source": [
    "def cstat(x, m, s=True):\n",
    "    if s:\n",
    "        return 2*sum(m- x+x*(np.nan_to_num(np.log(x))-np.nan_to_num(np.log(m))))\n",
    "    else:\n",
    "        return 2*(m- x+x*(np.nan_to_num(np.log(x))-np.nan_to_num(np.log(m))))\n",
    "    \n",
    "def get_center(x):\n",
    "    return (x[1:]+x[:-1])/2.\n",
    "\n",
    "def rawdata_plot(events, binEdges, ylim=[0.1, None], ax=None, label=\"Raw data\"):\n",
    "    if ax == None:\n",
    "        ax = plt.gca()\n",
    "    y, x, etc = ax.hist(events, bins=binEdges,  histtype=\"stepfilled\", label=label, color=\"gray\", alpha=0.5)\n",
    "#    ax.plot(events[:,None], np.full_like(events[:,None], ylim[0]*1.2), '|k', markeredgewidth=1)\n",
    "    ax.set_xscale(\"log\")\n",
    "    ax.set_yscale(\"log\")\n",
    "    ax.set_ylim(ylim[0], ylim[1])\n",
    "    ax.set_xlabel(\"Energy [GeV]\", fontsize=15)\n",
    "    ax.set_ylabel(\"Counts\", fontsize=15)\n",
    "    ax.legend(frameon=False, fontsize=15)\n",
    "    return x, y\n",
    "\n",
    "x, y = rawdata_plot(bkg[:,0], binEdges, label=\"OFF region\")\n",
    "plt.hist(sig[:,0], binEdges, histtype=\"step\", label=\"ON region\")\n",
    "x_ctr = get_center(x)\n",
    "plt.ylim(0.8,)\n",
    "plt.xlim(100, 100000)\n",
    "plt.legend()"
   ]
  },
  {
   "cell_type": "markdown",
   "metadata": {},
   "source": [
    "### Method 1. Smoothing"
   ]
  },
  {
   "cell_type": "code",
   "execution_count": 36,
   "metadata": {},
   "outputs": [
    {
     "name": "stderr",
     "output_type": "stream",
     "text": [
      "<ipython-input-3-cc0b194fde1a>:3: RuntimeWarning: divide by zero encountered in log\n",
      "  return 2*sum(m- x+x*(np.nan_to_num(np.log(x))-np.nan_to_num(np.log(m))))\n"
     ]
    },
    {
     "name": "stdout",
     "output_type": "stream",
     "text": [
      "Model counts: 1564\n",
      "Raw counts: 1564\n",
      "Cash stat: 4.39\n"
     ]
    },
    {
     "data": {
      "image/png": "[encoded data removed]",
      "text/plain": [
       "<Figure size 432x288 with 1 Axes>"
      ]
     },
     "metadata": {
      "needs_background": "light"
     },
     "output_type": "display_data"
    }
   ],
   "source": [
    "y_sm = Likelihood.EventDisplay.bkg_sm_1D(events, binEdges)\n",
    "plt.step(x_ctr, y_sm, where=\"mid\", label=\"Flattening\")\n",
    "x, y = rawdata_plot(bkg[:,0], binEdges, ylim=[0.03, None])\n",
    "#plt.axvline(max(events[:,0]), color=\"r\", ls=\":\")\n",
    "plt.ylim(0.08,)\n",
    "plt.xlim(100, 20000)\n",
    "cstat_sm = cstat(y, y_sm)\n",
    "\n",
    "print(\"Model counts: {:.0f}\".format(sum(y_sm)))\n",
    "print(\"Raw counts: {:.0f}\".format(sum(y)))\n",
    "print(\"Cash stat: {:.2f}\".format(cstat_sm))"
   ]
  },
  {
   "cell_type": "markdown",
   "metadata": {},
   "source": [
    "### Method 2. Extrapolation"
   ]
  },
  {
   "cell_type": "code",
   "execution_count": 5,
   "metadata": {},
   "outputs": [
    {
     "name": "stdout",
     "output_type": "stream",
     "text": [
      "Model counts: 1564\n",
      "Raw counts: 1564\n",
      "Cash stat: 8.60 (dof = 59)\n"
     ]
    },
    {
     "name": "stderr",
     "output_type": "stream",
     "text": [
      "<ipython-input-3-cc0b194fde1a>:3: RuntimeWarning: divide by zero encountered in log\n",
      "  return 2*sum(m- x+x*(np.nan_to_num(np.log(x))-np.nan_to_num(np.log(m))))\n"
     ]
    },
    {
     "data": {
      "image/png": "[encoded data removed]",
      "text/plain": [
       "<Figure size 432x288 with 1 Axes>"
      ]
     },
     "metadata": {
      "needs_background": "light"
     },
     "output_type": "display_data"
    }
   ],
   "source": [
    "y_ex =  Likelihood.EventDisplay.bkg_ex_1D(events, binEdges, eMin=600, eMax=10000, order=2)\n",
    "plt.step(center_pt(binEdges), y_ex, where=\"mid\", label=\"Extrapolation\")\n",
    "x, y = rawdata_plot(bkg[:,0], binEdges, ylim = [1e-2, None])\n",
    "#plt.axvline(max(events[:,0]), color=\"r\", ls=\":\")\n",
    "\n",
    "cstat_ex = cstat(y, y_ex)\n",
    "plt.ylim(0.08,)\n",
    "plt.xlim(100, 100000)\n",
    "\n",
    "print(\"Model counts: {:.0f}\".format(sum(y_ex)))\n",
    "print(\"Raw counts: {:.0f}\".format(sum(y)))\n",
    "print(\"Cash stat: {:.2f} (dof = {})\".format(cstat_ex, len(y)-1))"
   ]
  },
  {
   "cell_type": "markdown",
   "metadata": {},
   "source": [
    "### Compare the methods"
   ]
  },
  {
   "cell_type": "code",
   "execution_count": 9,
   "metadata": {},
   "outputs": [
    {
     "name": "stderr",
     "output_type": "stream",
     "text": [
      "<ipython-input-9-8496979cb482>:9: RuntimeWarning: invalid value encountered in true_divide\n",
      "  ax[1].step(x_ctr, (y-y_sm)/np.sqrt(y_sm), where=\"mid\", label=\"Smoothing\")\n",
      "<ipython-input-9-8496979cb482>:10: RuntimeWarning: invalid value encountered in true_divide\n",
      "  ax[1].step(x_ctr, (y-y_ex)/np.sqrt(y_ex), where=\"mid\", label=\"Extrapolation\")\n"
     ]
    },
    {
     "data": {
      "text/plain": [
       "(50, 700000.0)"
      ]
     },
     "execution_count": 9,
     "metadata": {},
     "output_type": "execute_result"
    },
    {
     "data": {
      "image/png": "[encoded data removed]",
      "text/plain": [
       "<Figure size 504x504 with 2 Axes>"
      ]
     },
     "metadata": {
      "needs_background": "light"
     },
     "output_type": "display_data"
    }
   ],
   "source": [
    "f, ax = plt.subplots(2,1, figsize=(7, 7), gridspec_kw={'height_ratios': [3, 1]})\n",
    "plt.subplots_adjust(hspace=0.1)\n",
    "ax[0].step(x_ctr, y_sm, where=\"mid\", label=\"Smoothing\")\n",
    "ax[0].step(x_ctr, y_ex, where=\"mid\", label=\"Extrapolation\")\n",
    "\n",
    "x, y = rawdata_plot(bkg[:,0], binEdges, ylim=[0.03, None], ax=ax[0])\n",
    "ax[0].set_xlim(50, 7e5)\n",
    "\n",
    "ax[1].step(x_ctr, (y-y_sm)/np.sqrt(y_sm), where=\"mid\", label=\"Smoothing\")\n",
    "ax[1].step(x_ctr, (y-y_ex)/np.sqrt(y_ex), where=\"mid\", label=\"Extrapolation\")\n",
    "ax[1].set_xscale(\"log\")\n",
    "\n",
    "ax[1].set_xlabel(\"Energy [GeV]\", fontsize=15)\n",
    "ax[1].set_ylabel(\"chisq\", fontsize=15)\n",
    "ax[1].set_xlim(50, 7e5)"
   ]
  },
  {
   "cell_type": "markdown",
   "metadata": {},
   "source": [
    "### Convert to the probability density function (PDF)"
   ]
  },
  {
   "cell_type": "code",
   "execution_count": 34,
   "metadata": {},
   "outputs": [
    {
     "data": {
      "text/plain": [
       "<matplotlib.legend.Legend at 0x7ff2a83d11f0>"
      ]
     },
     "execution_count": 34,
     "metadata": {},
     "output_type": "execute_result"
    },
    {
     "data": {
      "image/png": "[encoded data removed]",
      "text/plain": [
       "<Figure size 432x288 with 1 Axes>"
      ]
     },
     "metadata": {
      "needs_background": "light"
     },
     "output_type": "display_data"
    },
    {
     "name": "stderr",
     "output_type": "stream",
     "text": [
      "Warning in <TROOT::Append>: Replacing existing TH1: Null (Potential memory leak).\n",
      "Warning in <TROOT::Append>: Replacing existing TH1: Smoothing (Potential memory leak).\n",
      "Warning in <TROOT::Append>: Replacing existing TH1: Extrapolation (Potential memory leak).\n"
     ]
    }
   ],
   "source": [
    "y_raw_pdf = y/np.diff(x)\n",
    "y_raw_pdf = y_raw_pdf/sum(y_raw_pdf*np.diff(x))\n",
    "y_sm_pdf = y_sm/np.diff(x)\n",
    "y_sm_pdf = y_sm_pdf/sum(y_sm_pdf*np.diff(x))\n",
    "y_ex_pdf = y_ex/np.diff(x)\n",
    "y_ex_pdf = y_ex_pdf/sum(y_ex_pdf*np.diff(x))\n",
    "\n",
    "hBkg = TH1D(\"Null\", \"Probability Density Function\", len(x)-2, x)\n",
    "hBkg_sm = TH1D(\"Smoothing\", \"Probability Density Function\", len(x)-2, x)\n",
    "hBkg_ex = TH1D(\"Extrapolation\", \"Probability Density Function\", len(x)-2, x)\n",
    "\n",
    "for i in range(1, len(x)):\n",
    "    hBkg.SetBinContent(i, y_raw_pdf[i-1])\n",
    "    hBkg_sm.SetBinContent(i, y_sm_pdf[i-1])\n",
    "    hBkg_ex.SetBinContent(i, y_ex_pdf[i-1])\n",
    "\n",
    "#plt.step(x_ctr, y_raw_pdf, where=\"mid\", label=\"Flattening\", )\n",
    "#plt.step(x_ctr, y_sm_pdf, where=\"mid\", label=\"Flattening\")\n",
    "plt.step(x_ctr, y_ex_pdf, where=\"mid\", label=\"Extrapolation\")\n",
    "plt.fill_between(x[1:],y_raw_pdf, step=\"pre\", alpha=0.5, color=\"gray\", label=\"Raw data\") \n",
    "plt.xlabel(\"Energy [GeV]\", fontsize=15)\n",
    "plt.ylabel(\"Probability Densiy\", fontsize=15)\n",
    "plt.xlim(100, 20000)\n",
    "plt.ylim(5e-9,2e-2)\n",
    "plt.xscale(\"log\")\n",
    "plt.yscale(\"log\")\n",
    "plt.legend(frameon=False, fontsize=15)"
   ]
  },
  {
   "cell_type": "markdown",
   "metadata": {},
   "source": [
    "### Assign likelihood for on-region events"
   ]
  },
  {
   "cell_type": "code",
   "execution_count": 11,
   "metadata": {},
   "outputs": [
    {
     "name": "stdout",
     "output_type": "stream",
     "text": [
      "e.g.,   Energy         Null         SM                EX        \n",
      "-------------------------------------------------------------------------------------\n",
      "       161 [GeV]      -5.54      -5.54( 0.00)      -5.54( 0.00))\n",
      "       217 [GeV]      -5.20      -5.20( 0.00)      -5.20( 0.00))\n",
      "       283 [GeV]      -5.91      -5.91( 0.00)      -5.91( 0.00))\n",
      "       186 [GeV]      -4.93      -4.93( 0.00)      -4.93( 0.00))\n",
      "       252 [GeV]      -5.53      -5.53( 0.00)      -5.53( 0.00))\n",
      "       160 [GeV]      -5.63      -5.63( 0.00)      -5.63( 0.00))\n",
      "-------------------------------------------------------------------------------------\n",
      "      8627 [GeV]       -inf     -17.13(  inf)     -16.95(  inf)\n",
      "      2036 [GeV]     -12.06     -12.06( 0.00)     -12.06( 0.00)\n",
      "      1479 [GeV]     -11.36     -11.36( 0.00)     -11.36( 0.00)\n",
      "      1218 [GeV]     -10.50     -10.50( 0.00)     -10.50( 0.00)\n",
      "       949 [GeV]      -9.79      -9.79( 0.00)      -9.79( 0.00)\n",
      "       929 [GeV]      -9.75      -9.75( 0.00)      -9.75( 0.00)\n",
      "       896 [GeV]      -9.67      -9.67( 0.00)      -9.67( 0.00)\n",
      "       823 [GeV]      -9.12      -9.12( 0.00)      -9.12( 0.00)\n"
     ]
    },
    {
     "name": "stderr",
     "output_type": "stream",
     "text": [
      "<ipython-input-11-cc68dd90c0ed>:19: RuntimeWarning: divide by zero encountered in log\n",
      "  .format(evt, np.log(hBkg.Interpolate(evt)), \\\n",
      "<ipython-input-11-cc68dd90c0ed>:20: RuntimeWarning: divide by zero encountered in log\n",
      "  np.log(hBkg_sm.Interpolate(evt)), -np.log(hBkg.Interpolate(evt))+np.log(hBkg_sm.Interpolate(evt)), \\\n",
      "<ipython-input-11-cc68dd90c0ed>:21: RuntimeWarning: divide by zero encountered in log\n",
      "  np.log(hBkg_ex.Interpolate(evt)), -np.log(hBkg.Interpolate(evt))+np.log(hBkg_ex.Interpolate(evt))))\n"
     ]
    }
   ],
   "source": [
    "\n",
    "events= Likelihood.eventdisplay.readData(dwarf, rawdata=True)\n",
    "\n",
    "signal = events[events[:,2] == 1.0][:,0]\n",
    "\n",
    "print(\"e.g.,   Energy         Null         SM                EX        \")\n",
    "print(\"-\"*85)\n",
    "for j, evt in enumerate(signal):\n",
    "    if evt < 500 and j<=5:\n",
    "        print(\"{:10.0f} [GeV] {:10.2f} {:10.2f}({:5.2f}) {:10.2f}({:5.2f}))\"\n",
    "            .format(evt, np.log(hBkg.Interpolate(evt)), \\\n",
    "                     np.log(hBkg_sm.Interpolate(evt)), -np.log(hBkg.Interpolate(evt))+np.log(hBkg_sm.Interpolate(evt)), \\\n",
    "                     np.log(hBkg_ex.Interpolate(evt)), -np.log(hBkg.Interpolate(evt))+np.log(hBkg_ex.Interpolate(evt))))\n",
    "        \n",
    "signal.sort()\n",
    "print(\"-\"*85)\n",
    "for k, evt in enumerate(signal[::-1]):\n",
    "    if k <=7:    \n",
    "        print(\"{:10.0f} [GeV] {:10.2f} {:10.2f}({:5.2f}) {:10.2f}({:5.2f})\"\n",
    "            .format(evt, np.log(hBkg.Interpolate(evt)), \\\n",
    "                     np.log(hBkg_sm.Interpolate(evt)), -np.log(hBkg.Interpolate(evt))+np.log(hBkg_sm.Interpolate(evt)), \\\n",
    "                     np.log(hBkg_ex.Interpolate(evt)), -np.log(hBkg.Interpolate(evt))+np.log(hBkg_ex.Interpolate(evt))))"
   ]
  },
  {
   "cell_type": "code",
   "execution_count": 12,
   "metadata": {},
   "outputs": [
    {
     "name": "stdout",
     "output_type": "stream",
     "text": [
      "The number of events which has p_off of 0:\n",
      "Null model: \t 1\n",
      "SM model: \t 0\n",
      "Ex model: \t 0\n"
     ]
    }
   ],
   "source": [
    "events= Likelihood.eventdisplay.readData(dwarf, rawdata=True)\n",
    "\n",
    "signal = events[events[:,2] == 1.0][:,0]\n",
    "likelihoodSet = []\n",
    "for j, evt in enumerate(signal):\n",
    "    likelihoodSet.append([hBkg.Interpolate(evt), hBkg_sm.Interpolate(evt), hBkg_ex.Interpolate(evt)])\n",
    "\n",
    "likelihoodSet = np.asarray(likelihoodSet)\n",
    "num_poff_zero = [sum(likelihoodSet[:,0]==0), sum(likelihoodSet[:,1]==0), sum(likelihoodSet[:,2]==0)]\n",
    "\n",
    "print(\"The number of events which has p_off of 0:\")\n",
    "print(\"Null model: \\t\", num_poff_zero[0])\n",
    "print(\"SM model: \\t\", num_poff_zero[1])\n",
    "print(\"Ex model: \\t\", num_poff_zero[2])"
   ]
  },
  {
   "cell_type": "markdown",
   "metadata": {},
   "source": [
    "where Raw: no background model | \n",
    "SM: Smoothing | \n",
    "EX: Extrapolation | \n",
    "KDE: Kernel density estimation.\n",
    "\n",
    "Note that\n",
    "\n",
    "- For low energies, four models assign similar likelihood.\n",
    "- For high energies, the EX and KDE models provide similar likelihood.\n",
    "- For high energies, sometimes, the Raw model does not assign likelihood (-inf) for on-region events (e.g., 9712 GeV).\n",
    "- The KDE model tends to provide the lowest likelihood between three models.\n",
    "- As the energy decreases, the Raw and SM models provide similar likelihood."
   ]
  },
  {
   "cell_type": "markdown",
   "metadata": {},
   "source": [
    "### Likelihood analysis and upper limits"
   ]
  },
  {
   "cell_type": "code",
   "execution_count": 15,
   "metadata": {},
   "outputs": [
    {
     "name": "stdout",
     "output_type": "stream",
     "text": [
      "==================================================\n",
      "[Log] Package      : EventDisplay\n",
      "[Log] Dwarf        : bootes\n",
      "[Log] Channel      : tt\n",
      "[Log] Dataset      : Point-like\n",
      "[Log] Dimention    : 1\n",
      "[Log] Background   : None\n",
      "[Log] Dispersion   : Etr vs ratio\n",
      "[Log] Minimum mass : 100 GeV\n",
      "[Log] Maximum mass : 32 TeV\n",
      "==================================================\n"
     ]
    },
    {
     "data": {
      "application/vnd.jupyter.widget-view+json": {
       "model_id": "e9d42b55ba1847058e9e59280cedb533",
       "version_major": 2,
       "version_minor": 0
      },
      "text/plain": [
       "  0%|          | 0/15 [00:00<?, ?it/s]"
      ]
     },
     "metadata": {},
     "output_type": "display_data"
    },
    {
     "name": "stdout",
     "output_type": "stream",
     "text": [
      "[Warning] 1 events have p_bkg of 0. They are ignored when calculating the likelihood.\n",
      "[Warning] 1 events have p_bkg of 0. They are ignored when calculating the likelihood.\n",
      "[Warning] 1 events have p_bkg of 0. They are ignored when calculating the likelihood.\n",
      "[Warning] 1 events have p_bkg of 0. They are ignored when calculating the likelihood.\n",
      "[Warning] 1 events have p_bkg of 0. They are ignored when calculating the likelihood.\n",
      "[Warning] 1 events have p_bkg of 0. They are ignored when calculating the likelihood.\n",
      "[Warning] 1 events have p_bkg of 0. They are ignored when calculating the likelihood.\n",
      "[Warning] 1 events have p_bkg of 0. They are ignored when calculating the likelihood.\n",
      "[Warning] 1 events have p_bkg of 0. They are ignored when calculating the likelihood.\n",
      "[Warning] 1 events have p_bkg of 0. They are ignored when calculating the likelihood.\n",
      "[Warning] 1 events have p_bkg of 0. They are ignored when calculating the likelihood.\n",
      "[Warning] 1 events have p_bkg of 0. They are ignored when calculating the likelihood.\n",
      "[Log, Error] For M=9211 GeV, TS value is negative (TS = -25.48)\n",
      "[Warning] 1 events have p_bkg of 0. They are ignored when calculating the likelihood.\n",
      "[Log, Error] For M=13895 GeV, TS value is negative (TS = -23.75)\n",
      "[Warning] 1 events have p_bkg of 0. They are ignored when calculating the likelihood.\n",
      "[Log, Error] For M=20962 GeV, TS value is negative (TS = -22.57)\n",
      "[Warning] 1 events have p_bkg of 0. They are ignored when calculating the likelihood.\n",
      "[Log, Error] For M=31623 GeV, TS value is negative (TS = -22.01)\n",
      "[Log] Upper limits are saved in '/Users/dtak/Research/DarkMatter/Output/no.npy'\n",
      "==================================================\n",
      "[Log] Package      : EventDisplay\n",
      "[Log] Dwarf        : bootes\n",
      "[Log] Channel      : tt\n",
      "[Log] Dataset      : Point-like\n",
      "[Log] Dimention    : 1\n",
      "[Log] Background   : Smoothing (sm)\n",
      "[Log] Dispersion   : Etr vs ratio\n",
      "[Log] Minimum mass : 100 GeV\n",
      "[Log] Maximum mass : 32 TeV\n",
      "==================================================\n"
     ]
    },
    {
     "data": {
      "application/vnd.jupyter.widget-view+json": {
       "model_id": "8822161777d44ddeb6fc80b32b952773",
       "version_major": 2,
       "version_minor": 0
      },
      "text/plain": [
       "  0%|          | 0/15 [00:00<?, ?it/s]"
      ]
     },
     "metadata": {},
     "output_type": "display_data"
    },
    {
     "name": "stdout",
     "output_type": "stream",
     "text": [
      "[Log] Upper limits are saved in '/Users/dtak/Research/DarkMatter/Output/sm.npy'\n",
      "==================================================\n",
      "[Log] Package      : EventDisplay\n",
      "[Log] Dwarf        : bootes\n",
      "[Log] Channel      : tt\n",
      "[Log] Dataset      : Point-like\n",
      "[Log] Dimention    : 1\n",
      "[Log] Background   : Extrapolation (ex)\n",
      "[Log] Dispersion   : Etr vs ratio\n",
      "[Log] Minimum mass : 100 GeV\n",
      "[Log] Maximum mass : 32 TeV\n",
      "==================================================\n"
     ]
    },
    {
     "data": {
      "application/vnd.jupyter.widget-view+json": {
       "model_id": "aaf3dd7bb1cb4210a9c104e72a954762",
       "version_major": 2,
       "version_minor": 0
      },
      "text/plain": [
       "  0%|          | 0/15 [00:00<?, ?it/s]"
      ]
     },
     "metadata": {},
     "output_type": "display_data"
    },
    {
     "name": "stdout",
     "output_type": "stream",
     "text": [
      "[Log] Upper limits are saved in '/Users/dtak/Research/DarkMatter/Output/ex.npy'\n"
     ]
    }
   ],
   "source": [
    "dwarf = \"bootes\"\n",
    "decay = \"tt\"\n",
    "package=\"EventDisplay\"\n",
    "jProfile=None\n",
    "irf=None\n",
    "mass = np.logspace(2, 4.5, 15)\n",
    "jSeed=defaultNum[dwarf]\n",
    "\n",
    "output=\"no\"\n",
    "Likelihood.calcUpperLimits(dwarf, decay, package=package, irf=irf, ext=False,\n",
    "                           mass=mass, method=2, addTheta=False, useBias=True, jArray=True, jSeed=jSeed,\n",
    "                           filename=output, averagedIRF=True)\n",
    "\n",
    "output=\"sm\"\n",
    "Likelihood.calcUpperLimits(dwarf, decay, package=package, irf=irf, ext=False,\n",
    "                           mass=mass, method=2, addTheta=False, useBias=True,  jArray=True, jSeed=jSeed,\n",
    "                           filename=output, bkgModel=\"sm\", averagedIRF=True)\n",
    "\n",
    "output=\"ex\"\n",
    "Likelihood.calcUpperLimits(dwarf, decay, package=package, irf=irf, ext=False,\n",
    "                           mass=mass, method=2, addTheta=False, useBias=True,  jArray=True, jSeed=jSeed, \n",
    "                           filename=output, bkgModel=\"ex\", averagedIRF=True)\n",
    "\n"
   ]
  },
  {
   "cell_type": "code",
   "execution_count": 16,
   "metadata": {},
   "outputs": [
    {
     "data": {
      "image/png": "[encoded data removed]",
      "text/plain": [
       "<Figure size 432x288 with 1 Axes>"
      ]
     },
     "metadata": {
      "needs_background": "light"
     },
     "output_type": "display_data"
    }
   ],
   "source": [
    "Likelihood.plotULcurve(\"no.npy\", label=\"Null\")\n",
    "Likelihood.plotULcurve(\"sm.npy\", label=\"Flattening\")\n",
    "Likelihood.plotULcurve(\"ex.npy\", label=\"Extrapolation\")"
   ]
  },
  {
   "cell_type": "code",
   "execution_count": null,
   "metadata": {},
   "outputs": [],
   "source": []
  }
 ],
 "metadata": {
  "kernelspec": {
   "display_name": "Python 3",
   "language": "python",
   "name": "python3"
  },
  "language_info": {
   "codemirror_mode": {
    "name": "ipython",
    "version": 3
   },
   "file_extension": ".py",
   "mimetype": "text/x-python",
   "name": "python",
   "nbconvert_exporter": "python",
   "pygments_lexer": "ipython3",
   "version": "3.8.5"
  }
 },
 "nbformat": 4,
 "nbformat_minor": 4
}
