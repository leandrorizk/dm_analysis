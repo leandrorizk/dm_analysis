{
 "cells": [
  {
   "cell_type": "markdown",
   "metadata": {},
   "source": [
    "## Purpose: Check whether the averaged IRF is valid or not.\n",
    "#### Note that this project is based on the EventDisplay dataset."
   ]
  },
  {
   "cell_type": "code",
   "execution_count": 2,
   "metadata": {},
   "outputs": [
    {
     "name": "stdout",
     "output_type": "stream",
     "text": [
      "The autoreload extension is already loaded. To reload it, use:\n",
      "  %reload_ext autoreload\n"
     ]
    }
   ],
   "source": [
    "%load_ext autoreload\n",
    "%autoreload 2\n",
    "\n",
    "from DarkMatter import *"
   ]
  },
  {
   "cell_type": "markdown",
   "metadata": {},
   "source": [
    "## 1. Generate a pseudo signal.\n",
    "#### Assuming that $<\\sigma\\nu> = 10^{-22.5}$."
   ]
  },
  {
   "cell_type": "markdown",
   "metadata": {},
   "source": [
    "### 1-1. With averaged IRFs"
   ]
  },
  {
   "cell_type": "code",
   "execution_count": 92,
   "metadata": {},
   "outputs": [
    {
     "name": "stderr",
     "output_type": "stream",
     "text": [
      "Warning in <TROOT::Append>: Replacing existing TH1: DMspec (Potential memory leak).\n"
     ]
    }
   ],
   "source": [
    "M = 10000\n",
    "dwarf=\"segue_1\"\n",
    "sigma = -23\n",
    "package=\"EventDisplay\"\n",
    "jSeed = defaultNum[dwarf]\n",
    "hg_1d = Likelihood.combinedCalcSignal(dwarf, M, \"EventDisplay\",\n",
    "                                      decay=\"tt\", jSeed=jSeed, \n",
    "                                      sigma=sigma, addTheta=False,\n",
    "                                      averagedIRF=True, ext=True)"
   ]
  },
  {
   "cell_type": "markdown",
   "metadata": {},
   "source": [
    "### 1-2. With individual IRFs"
   ]
  },
  {
   "cell_type": "code",
   "execution_count": 93,
   "metadata": {},
   "outputs": [
    {
     "data": {
      "application/vnd.jupyter.widget-view+json": {
       "model_id": "1463006e8d66485db561f4d7bbcdf0c2",
       "version_major": 2,
       "version_minor": 0
      },
      "text/plain": [
       "  0%|          | 0/303 [00:00<?, ?it/s]"
      ]
     },
     "metadata": {},
     "output_type": "display_data"
    }
   ],
   "source": [
    "runlist = printRunList(dwarf, ext=True)\n",
    "\n",
    "hg_array = np.zeros(len(getArray(hg_1d)[1]))\n",
    "\n",
    "for run in tqdm(runlist):\n",
    "    irf = ResponseFunction.EventDisplay.readIRFs(dwarf, run, ext=True)\n",
    "    hg = Likelihood.calcSignal(dwarf, M, irf, package, jProfile = None, \n",
    "                               channel=\"tt\", sigma=sigma, addTheta=False, \n",
    "                               jSeed = jSeed, ext=True)\n",
    "    hg_array += getArray(hg)[1]\n",
    "    \n",
    "np.save(\"Test\",hg_array )"
   ]
  },
  {
   "cell_type": "markdown",
   "metadata": {},
   "source": [
    "## 2. Compare the signal distribution"
   ]
  },
  {
   "cell_type": "code",
   "execution_count": 95,
   "metadata": {},
   "outputs": [
    {
     "name": "stderr",
     "output_type": "stream",
     "text": [
      "<ipython-input-95-ac421992e7f3>:12: RuntimeWarning: invalid value encountered in true_divide\n",
      "  chi = np.sign(getArray(hg_1d)[1]-hg_array)*(getArray(hg_1d)[1]-hg_array)**2./hg_array\n"
     ]
    },
    {
     "data": {
      "image/png": "[encoded data removed]",
      "text/plain": [
       "<Figure size 504x504 with 2 Axes>"
      ]
     },
     "metadata": {
      "needs_background": "light"
     },
     "output_type": "display_data"
    }
   ],
   "source": [
    "\n",
    "f, ax = plt.subplots(2,1, figsize=(7, 7), gridspec_kw={'height_ratios':[5,1]})\n",
    "ax[0].step(*getArray(hg_1d), where=\"mid\", label=\"Averaged (N = {:.1f})\".format(sum(getArray(hg_1d)[1])))\n",
    "ax[0].step(getArray(hg)[0], hg_array, where=\"mid\", label=\"Individual (N = {:.1f})\".format(sum(hg_array)))\n",
    "ax[0].set_xscale(\"log\")\n",
    "ax[0].set_yscale(\"log\")\n",
    "ax[0].set_xlim(80, 2e5)\n",
    "ax[0].set_ylim(8e-3)\n",
    "ax[0].set_ylabel(\"Counts\", fontsize=15)\n",
    "ax[0].legend(fontsize=12, loc=1, frameon=False)\n",
    "ax[0].grid()\n",
    "\n",
    "chi = np.sign(getArray(hg_1d)[1]-hg_array)*(getArray(hg_1d)[1]-hg_array)**2./hg_array\n",
    "ax[1].errorbar(getArray(hg)[0], chi, yerr= 1, marker=\"+\", ls=\"\", c=\"k\", label=\"chisq\")\n",
    "#ax[0].text(0.95, 0.6, r\"$\\chi^2$ / dof = {:.1f} / {} = {:.2f}\".format(chisq, dof, chisq/dof), ha=\"right\", fontsize=12, transform=ax[0].transAxes)\n",
    "ax[1].set_ylabel(r\"$\\chi^2$\", fontsize=15)\n",
    "#ax[1].set_ylim(-max(abs(chi)+1.2), max(abs(chi)+1.2))\n",
    "\n",
    "ax[1].set_xscale(\"log\")\n",
    "ax[1].set_xlabel(\"Energy [GeV]\", fontsize=15)\n",
    "ax[1].set_xlim(80, 2e5)\n",
    "ax[1].set_ylim(-6, 6)\n",
    "ax[1].axhline(0, color=\"k\", ls=\"--\")\n",
    "ax[1].grid()"
   ]
  },
  {
   "cell_type": "markdown",
   "metadata": {},
   "source": [
    "## 3. Perform the MLE analysis"
   ]
  },
  {
   "cell_type": "markdown",
   "metadata": {},
   "source": [
    "### 3.1 With averaged IRFs"
   ]
  },
  {
   "cell_type": "code",
   "execution_count": 96,
   "metadata": {},
   "outputs": [
    {
     "name": "stdout",
     "output_type": "stream",
     "text": [
      "[Log] Initializing... (EventDisplay)\n",
      "[Log] Step 1: Instrument response functions are imported.\n",
      "[Log] Step 2: Events are loaded.\n",
      "[Log] Step 3: A source model is loaded.\n",
      "[Log] Step 4: A temporary file for minimization is generated.\n",
      "[Log] Initialization is done. Run minuite.\n",
      "[Log, Result] TS = -0.00 (M=10000 GeV)\n",
      "[Log, Result] <σν> (95& upper limit) = 10^(-23.135) (equivalent to 7.34e-24)\n",
      "[Log, Result] b = 13285 +/- 151 (null value: 13285)\n",
      "[Log, Result] N_on = 2227, N_off = 2215, N_dm = 0\n"
     ]
    },
    {
     "name": "stderr",
     "output_type": "stream",
     "text": [
      "Warning in <TROOT::Append>: Replacing existing TH1: hg_1D (Potential memory leak).\n"
     ]
    }
   ],
   "source": [
    "hg_1d = TH1D(\"hg_1D\", \"hg_1D\", len(const.energyEdges)-1,const.energyEdges)\n",
    "hg_1d.SetTitle(\"1D count spectrum\")\n",
    "hg_1d.GetXaxis().SetTitle(\"Energy [GeV]\")\n",
    "hg_1d.GetYaxis().SetTitle(\"Counts\")\n",
    "\n",
    "for i, cnt in enumerate(hg_array):\n",
    "    hg_1d.SetBinContent(i, cnt)\n",
    "\n",
    "plotRoot(hg_1d, logx=True)\n",
    "\n",
    "mle = Likelihood.MLE(dwarf, M, package=\"EventDisplay\", jArray=True, jSeed=jSeed,\n",
    "                     addTheta=False, decay=\"tt\", averagedIRF=True, bkgModel=\"ex\", useBias=True,\n",
    "                     verbose=True) \n",
    "\n",
    "\n",
    "mle.minuit()\n"
   ]
  },
  {
   "cell_type": "markdown",
   "metadata": {},
   "source": [
    "### 3.2 With individual IRFs"
   ]
  },
  {
   "cell_type": "code",
   "execution_count": 97,
   "metadata": {},
   "outputs": [
    {
     "name": "stdout",
     "output_type": "stream",
     "text": [
      "[Log] Initializing... (EventDisplay)\n",
      "[Log] Step 1: Instrument response functions are imported.\n",
      "[Log] Step 2: Events are loaded.\n",
      "[Log] Step 3: A source model is loaded.\n",
      "[Log] Step 4: A temporary file for minimization is generated.\n",
      "[Log] Initialization is done. Run minuite.\n",
      "[Log, Result] TS = -0.00 (M=10000 GeV)\n",
      "[Log, Result] <σν> (95& upper limit) = 10^(-23.324) (equivalent to 4.74e-24)\n",
      "[Log, Result] b = 13285 +/- 151 (null value: 13285)\n",
      "[Log, Result] N_on = 2227, N_off = 2215, N_dm = 0\n",
      " MNCONT UNABLE TO FIND FOUR POINTS.\n"
     ]
    },
    {
     "name": "stderr",
     "output_type": "stream",
     "text": [
      "Warning in <TMinuit::Contour>: Cannot find more than 4 points, no TGraph returned\n"
     ]
    }
   ],
   "source": [
    "mle = Likelihood.MLE(dwarf, M, package=\"EventDisplay\", jArray=True, jSeed=jSeed,\n",
    "                     addTheta=False, decay=\"tt\", averagedIRF=True, bkgModel=\"ex\", useBias=True,\n",
    "                     verbose=True) \n",
    "mle.hSignal = hg_1d\n",
    "mle.updateArgs()\n",
    "mle.minuit()"
   ]
  },
  {
   "cell_type": "code",
   "execution_count": 87,
   "metadata": {},
   "outputs": [
    {
     "name": "stdout",
     "output_type": "stream",
     "text": [
      "[Log, Result] TS = -0.00 (M=1000 GeV)\n",
      "[Log, Result] <σν> (95& upper limit) = 10^(-23.945) (equivalent to 1.14e-24)\n",
      "[Log, Result] b = 13287 +/- 153 (null value: 13285)\n",
      "[Log, Result] N_on = 2227, N_off = 2215, N_dm = 0\n",
      " MNCONT UNABLE TO FIND FOUR POINTS.\n"
     ]
    },
    {
     "name": "stderr",
     "output_type": "stream",
     "text": [
      "Warning in <TMinuit::Contour>: Cannot find more than 4 points, no TGraph returned\n"
     ]
    }
   ],
   "source": [
    "mle.updateArgs()\n",
    "mle.minuit()"
   ]
  }
 ],
 "metadata": {
  "kernelspec": {
   "display_name": "Python 3",
   "language": "python",
   "name": "python3"
  },
  "language_info": {
   "codemirror_mode": {
    "name": "ipython",
    "version": 3
   },
   "file_extension": ".py",
   "mimetype": "text/x-python",
   "name": "python",
   "nbconvert_exporter": "python",
   "pygments_lexer": "ipython3",
   "version": "3.8.5"
  }
 },
 "nbformat": 4,
 "nbformat_minor": 4
}
