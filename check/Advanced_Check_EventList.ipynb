{
 "cells": [
  {
   "cell_type": "code",
   "execution_count": 1,
   "metadata": {},
   "outputs": [
    {
     "name": "stdout",
     "output_type": "stream",
     "text": [
      "Welcome to JupyROOT 6.23/01\n"
     ]
    }
   ],
   "source": [
    "from DarkMatter import *\n",
    "\n",
    "from sklearn.neighbors import KernelDensity\n",
    "\n",
    "from scipy.stats import ks_2samp\n",
    "\n",
    "dwarf = \"segue_1\"\n",
    "events= Likelihood.eventdisplay.readData(dwarf, smoothed=False, rawdata=True)\n",
    "signal = events[events[:,2] == 1.0]\n",
    "bkg = events[events[:,2] == 0.0]\n",
    "binEdges = np.linspace(1.8, 5.6, 100)"
   ]
  },
  {
   "cell_type": "code",
   "execution_count": 3,
   "metadata": {},
   "outputs": [
    {
     "data": {
      "application/vnd.jupyter.widget-view+json": {
       "model_id": "4d16918c477f4cb290f0e988d4676996",
       "version_major": 2,
       "version_minor": 0
      },
      "text/plain": [
       "  0%|          | 0/10000 [00:00<?, ?it/s]"
      ]
     },
     "metadata": {},
     "output_type": "display_data"
    }
   ],
   "source": [
    "bandwidth = np.std(np.log10(bkg[:,0]))*1.06*len(bkg[:,0])**(-1/5.)\n",
    "kde = KernelDensity(bandwidth=bandwidth, kernel='tophat')\n",
    "kde.fit(np.log10(bkg[:,0])[:,None])\n",
    "N_on = len(signal)\n",
    "p_bkg = []\n",
    "for i in trange(10000):\n",
    "    N_off = np.random.poisson(N_on)\n",
    "    syn_events = 10**kde.sample(N_off)[:,0]\n",
    "    st, p = ks_2samp(syn_events, bkg[:,0], alternative='two-sided', mode='auto')\n",
    "    p_bkg.append(p)\n",
    "    \n",
    "st, p_sig = ks_2samp(signal[:,0], bkg[:,0], alternative='two-sided', mode='auto')"
   ]
  },
  {
   "cell_type": "code",
   "execution_count": 4,
   "metadata": {},
   "outputs": [
    {
     "data": {
      "text/plain": [
       "Text(0.5, 0, 'p-value')"
      ]
     },
     "execution_count": 4,
     "metadata": {},
     "output_type": "execute_result"
    },
    {
     "data": {
      "image/png": "[encoded data removed]",
      "text/plain": [
       "<Figure size 432x288 with 1 Axes>"
      ]
     },
     "metadata": {
      "needs_background": "light"
     },
     "output_type": "display_data"
    }
   ],
   "source": [
    "f, ax = plt.subplots(1, 1)\n",
    "\n",
    "ax.hist(p_bkg, np.logspace(-3, 0, 20), histtype=\"step\", label=\"Synthesized events\")\n",
    "ax.axvline(p_sig, color=\"r\", label=\"On-region events\")\n",
    "ax.set_xscale(\"log\")\n",
    "ax.set_yscale(\"log\")\n",
    "ax.legend(loc=2)\n",
    "ax.set_ylabel(\"Counts\")\n",
    "ax.set_xlabel(\"p-value\")"
   ]
  },
  {
   "cell_type": "code",
   "execution_count": null,
   "metadata": {},
   "outputs": [],
   "source": []
  }
 ],
 "metadata": {
  "kernelspec": {
   "display_name": "Python 3",
   "language": "python",
   "name": "python3"
  },
  "language_info": {
   "codemirror_mode": {
    "name": "ipython",
    "version": 3
   },
   "file_extension": ".py",
   "mimetype": "text/x-python",
   "name": "python",
   "nbconvert_exporter": "python",
   "pygments_lexer": "ipython3",
   "version": "3.8.5"
  }
 },
 "nbformat": 4,
 "nbformat_minor": 4
}
