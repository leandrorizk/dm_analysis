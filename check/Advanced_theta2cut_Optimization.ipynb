{
 "cells": [
  {
   "cell_type": "code",
   "execution_count": 3,
   "metadata": {},
   "outputs": [
    {
     "name": "stdout",
     "output_type": "stream",
     "text": [
      "Welcome to JupyROOT 6.26/08\n"
     ]
    }
   ],
   "source": [
    "%load_ext autoreload\n",
    "%autoreload 2\n",
    "\n",
    "from DarkMatter import *"
   ]
  },
  {
   "cell_type": "markdown",
   "metadata": {},
   "source": [
    "## 1. Read On and Off region data"
   ]
  },
  {
   "cell_type": "code",
   "execution_count": null,
   "metadata": {},
   "outputs": [],
   "source": [
    "dwarf = \"bootes\"\n",
    "M = 1000\n",
    "decay = \"tt\"\n",
    "package=\"EventDisplay\"\n",
    "jProfile =None\n",
    "th2Cut = 1\n",
    "jProfile = const.OUTPUT_DIR+\"/JProfile_EventDisplay_{}.root\".format(dwarf)\n",
    "hOn, hOff = Likelihood.eventdisplay.readData(dwarf, addTheta=True, ext=True)"
   ]
  },
  {
   "cell_type": "code",
   "execution_count": null,
   "metadata": {},
   "outputs": [],
   "source": [
    "JProfile.generateConvolvedJ(dwarf, package, version=\"all\", filename=jProfile, th2Cut=th2Cut,\n",
    "                            seed=const.defaultNum[dwarf])"
   ]
  },
  {
   "cell_type": "markdown",
   "metadata": {},
   "source": [
    "## 2. Calculate Signal"
   ]
  },
  {
   "cell_type": "code",
   "execution_count": null,
   "metadata": {},
   "outputs": [],
   "source": [
    "hg_2d = Likelihood.combinedCalcSignal(dwarf, M, package, jProfile = jProfile, decay=decay, jArray=False,\n",
    "                                      addTheta=True, th2Cut=th2Cut, verbose=True)"
   ]
  },
  {
   "cell_type": "code",
   "execution_count": null,
   "metadata": {},
   "outputs": [],
   "source": [
    "plotRoot(hOff, hg_2d, logx=True, logx2=True)"
   ]
  },
  {
   "cell_type": "markdown",
   "metadata": {},
   "source": [
    "## 3. Calculate Li&Ma significance"
   ]
  },
  {
   "cell_type": "code",
   "execution_count": null,
   "metadata": {},
   "outputs": [],
   "source": [
    "linear = lambda x, a, b: a*x+b\n",
    "from scipy.optimize import curve_fit\n",
    "from scipy.interpolate import interp1d \n",
    "\n",
    "output, x, y = getArray(hOff)\n",
    "output_s, x, y = getArray(hg_2d)\n",
    "\n",
    "signal = []\n",
    "bkg = []\n",
    "for i, (out_s) in enumerate(output_s):\n",
    "    signal.append([y[i], sum(out_s)])\n",
    "for i, (out) in enumerate(output):\n",
    "    bkg.append([y[i], sum(out)])\n",
    "signal = np.asarray(signal)\n",
    "bkg = np.asarray(bkg)\n",
    "bkg_ave = np.average(bkg[:,1])\n",
    "\n",
    "N_off = []\n",
    "N_on = []\n",
    "temp_on = 0\n",
    "temp_off = 0\n",
    "for i, s in enumerate(signal[:,1]):\n",
    "    b = bkg_ave\n",
    "    temp_on += (s + b)\n",
    "    temp_off += b/0.167\n",
    "    N_off.append(temp_off)\n",
    "    N_on.append(temp_on)\n",
    "\n",
    "alpha = 0.167\n",
    "N_on = np.asarray(N_on)\n",
    "N_off = np.asarray(N_off)\n",
    "\n",
    "sig = LiMaSiginficance(N_on, N_off, alpha)"
   ]
  },
  {
   "cell_type": "markdown",
   "metadata": {},
   "source": [
    "## 4. Calculate expected Li&Ma significance."
   ]
  },
  {
   "cell_type": "code",
   "execution_count": null,
   "metadata": {},
   "outputs": [],
   "source": [
    "interp_f = interp1d(sig, signal[:,0])\n",
    "thp = interp_f(max(sig))"
   ]
  },
  {
   "cell_type": "markdown",
   "metadata": {},
   "source": [
    "## 5. Plot the result"
   ]
  },
  {
   "cell_type": "code",
   "execution_count": null,
   "metadata": {},
   "outputs": [],
   "source": [
    "f, ax = plt.subplots(1,1, figsize=(5, 4))\n",
    "ax.errorbar(bkg[:,0], bkg[:,1], yerr=np.sqrt(bkg[:,1]), ls=\"\", marker=\"x\", c = \"k\", label=r\"Background x $\\alpha$\")\n",
    "ax.errorbar(signal[:,0], signal[:,1]*20, yerr=np.sqrt(signal[:,1]*20), ls=\"\", c=\"b\", marker=\"x\", label=r\"Signal ($\\sigma_\\nu$ = 10$^{-23}$) x 20\")\n",
    "ax.axhline(bkg_ave, ls=\":\", c=\"k\", alpha=0.5)\n",
    "\n",
    "ax.plot(-1, 300, label=\"Li&Ma Significance\", color=\"r\")\n",
    "ax.plot(-1, 300, label=r\"$\\theta^2_p$ = {:.3f} deg$^2$\".format(thp), color=\"r\", ls=\"--\", alpha=0.5)\n",
    "ax.set_xlabel(r\"$\\theta^2$ [deg$^2$]\", fontsize=15)\n",
    "ax.set_ylabel(\"Counts\", fontsize=15)\n",
    "ax.set_xlim(0, 0.2)\n",
    "ax.set_ylim(0, 300)\n",
    "#ax.set_xticks([0.01, 0.02, 0.03, 0.04])\n",
    "ax.legend(loc=5)\n",
    "ax.grid(which=\"major\", lw=0.5)\n",
    "ax2=ax.twinx()\n",
    "ax2.plot(signal[:,0], sig/max(sig), color=\"r\", zorder=-1, label=\"Significance\")\n",
    "ax2.axhline(1, color=\"r\", ls=\"--\", alpha=0.5)\n",
    "ax2.axvline(thp, color=\"r\", ls=\"--\", alpha=0.5)\n",
    "ax2.set_ylabel(\"Relative significance\", fontsize=15)\n",
    "ax2.set_ylim(0, 1.1)"
   ]
  },
  {
   "cell_type": "code",
   "execution_count": null,
   "metadata": {},
   "outputs": [],
   "source": [
    "f, ax = plt.subplots(1,2, figsize=(10, 4))\n",
    "ax[0].errorbar(bkg[:,0], bkg[:,1], yerr=np.sqrt(bkg[:,1]), ls=\"\", marker=\"x\", c = \"k\", label=r\"$\\alpha$ x $N_{OFF}$\")\n",
    "ax[0].errorbar(signal[:,0], signal[:,1]*20, yerr=np.sqrt(signal[:,1]*20), ls=\"\", c=\"b\", marker=\"x\", label=r\"$N_{S}$ ($\\sigma_\\nu$ = 10$^{-23}$) x 20\")\n",
    "ax[0].axhline(np.average(bkg[:,1]), ls=\":\", c=\"k\", alpha=0.5)\n",
    "\n",
    "ax[0].set_xlabel(r\"$\\theta^2$ [deg$^2$]\", fontsize=12)\n",
    "ax[0].set_ylabel(\"Counts\", fontsize=12)\n",
    "ax[0].set_xlim(0, 0.3)\n",
    "ax[0].set_ylim(0, 300)\n",
    "#ax[0].set_xticks([0.01, 0.02, 0.03, 0.04])\n",
    "ax[0].legend(loc=1)\n",
    "ax[0].grid(which=\"major\", lw=0.5)\n",
    "ax[1].plot(-1, 300, label=\"Li&Ma significance\", color=\"r\")\n",
    "ax[1].errorbar(signal[:,0], N_on, yerr=np.sqrt(N_on), ls=\"\", marker=\"x\", c = \"k\", label=r\"$N_{fON}$\")\n",
    "ax[1].errorbar(signal[:,0], N_off, yerr=np.sqrt(N_off), ls=\"\", c=\"b\", marker=\"x\", label=r\"$N_{OFF}$\")\n",
    "ax[1].set_yscale(\"log\")\n",
    "ax[1].grid(which=\"major\", lw=0.5)\n",
    "ax[1].legend(loc=4)\n",
    "ax[1].set_xlim(0, )\n",
    "ax[1].set_xlabel(r\"$\\theta^2$ [deg$^2$]\", fontsize=12)\n",
    "ax[1].set_ylabel(\"Cumulative counts\", fontsize=12)\n",
    "ax[1].set_xlim(0, 0.3)\n",
    "ax2=ax[1].twinx()\n",
    "\n",
    "\n",
    "ax2.plot(signal[:,0], sig/max(sig), color=\"r\", zorder=-1, label=\"Significance\")\n",
    "ax2.axhline(1, color=\"r\", ls=\"--\", alpha=0.5)\n",
    "ax2.axvline(thp, color=\"r\", ls=\"--\", alpha=0.5)\n",
    "ax2.set_ylabel(\"Relative significance\", fontsize=12)\n",
    "ax2.set_ylim(0, 1.1)\n",
    "\n",
    "plt.tight_layout()"
   ]
  },
  {
   "cell_type": "markdown",
   "metadata": {},
   "source": [
    "## Conclusion\n",
    "\n",
    "For segue 1, the best $\\theta^2$ cut will be 0.009 deg$^2$ (for M = 1 TeV). However, $\\theta^2$ of 0.008 deg$^2$ is good enough. Note that for M=0.5 TeV, $\\theta^2$ = 0.011."
   ]
  },
  {
   "cell_type": "code",
   "execution_count": 2,
   "metadata": {},
   "outputs": [],
   "source": [
    "linear = lambda x, a, b: a*x+b\n",
    "from scipy.optimize import curve_fit\n",
    "from scipy.interpolate import interp1d \n",
    "from tqdm.notebook import tqdm\n",
    "m_thp = {}"
   ]
  },
  {
   "cell_type": "code",
   "execution_count": 78,
   "metadata": {},
   "outputs": [],
   "source": [
    "dwarf=\"ursa_minor\"\n",
    "hOn, hOff = Likelihood.eventdisplay.readData(dwarf, addTheta=True, ext=False)\n",
    "irf = ResponseFunction.EventDisplay.readIRFs(dwarf)\n",
    "\n",
    "jProfile = const.OUTPUT_DIR+\"/JProfile_EventDisplay_{}.root\".format(dwarf)"
   ]
  },
  {
   "cell_type": "code",
   "execution_count": 76,
   "metadata": {},
   "outputs": [
    {
     "name": "stdout",
     "output_type": "stream",
     "text": [
      "[Log] Importing the IRFs (ursa_minor, EventDisplay, all).\n",
      "[Log] Importing the DM spectrum (channel: tt).\n",
      "[Log] Importing the J profile (file: /Users/dtak/Research/DarkMatter/Output//JProfile_EventDisplay_ursa_minor.root).\n",
      "[Log] Convolved J profile (seed: 113) is imported.\n",
      "[Log] Convolved 2D J profile (seed: 113) is imported.\n",
      "[Log] Generating the signal spectrum.\n",
      "6\n",
      "7\n",
      "[Log] Done.\n"
     ]
    }
   ],
   "source": [
    "hg_2d = Likelihood.calcSignal(dwarf, M, irf, jProfile=jProfile, #jSeed=defaultNum[dwarf],\n",
    "                                              jArray=False, decay=\"tt\", addTheta=True, \n",
    "                                              sigma=-23, th2Cut=1, ext=False, verbose=True)\n"
   ]
  },
  {
   "cell_type": "code",
   "execution_count": 81,
   "metadata": {
    "scrolled": false
   },
   "outputs": [
    {
     "data": {
      "application/vnd.jupyter.widget-view+json": {
       "model_id": "fce5ea209c864fa4962c7138e963480b",
       "version_major": 2,
       "version_minor": 0
      },
      "text/plain": [
       "  0%|          | 0/20 [00:00<?, ?it/s]"
      ]
     },
     "metadata": {},
     "output_type": "display_data"
    },
    {
     "data": {
      "application/vnd.jupyter.widget-view+json": {
       "model_id": "0751780848fb4e658383113b28ddfe07",
       "version_major": 2,
       "version_minor": 0
      },
      "text/plain": [
       "  0%|          | 0/20 [00:00<?, ?it/s]"
      ]
     },
     "metadata": {},
     "output_type": "display_data"
    },
    {
     "data": {
      "application/vnd.jupyter.widget-view+json": {
       "model_id": "c0e9a62767554f5a88614a9cb67914c1",
       "version_major": 2,
       "version_minor": 0
      },
      "text/plain": [
       "  0%|          | 0/20 [00:00<?, ?it/s]"
      ]
     },
     "metadata": {},
     "output_type": "display_data"
    },
    {
     "data": {
      "application/vnd.jupyter.widget-view+json": {
       "model_id": "35bb6d3ae913467dbe2ab3483daac215",
       "version_major": 2,
       "version_minor": 0
      },
      "text/plain": [
       "  0%|          | 0/20 [00:00<?, ?it/s]"
      ]
     },
     "metadata": {},
     "output_type": "display_data"
    }
   ],
   "source": [
    "for dwarf in [\"segue_1\", \"ursa_minor\", \"draco\", \"bootes\"]:\n",
    "    m_thp[dwarf] = []\n",
    "    decay = \"tt\"\n",
    "    package=\"EventDisplay\"\n",
    "    jProfile = const.OUTPUT_DIR+\"/JProfile_EventDisplay_{}.root\".format(dwarf)\n",
    "    mass = np.logspace(2.5, 4.5, 20)\n",
    "    hOn, hOff = Likelihood.eventdisplay.readData(dwarf, addTheta=True, ext=False)\n",
    "    irf = ResponseFunction.EventDisplay.readIRFs(dwarf)\n",
    "    \n",
    "    for mi, M in enumerate(tqdm(mass)):\n",
    "\n",
    "        hg_2d = Likelihood.calcSignal(dwarf, M, irf, jProfile = jProfile, #jSeed=defaultNum[dwarf], \n",
    "                                              jArray=False, decay=decay, addTheta=True, \n",
    "                                              sigma=-23,th2Cut=1, ext=False)\n",
    "\n",
    "        output, x, y = getArray(hOff)\n",
    "        output_s, x, y = getArray(hg_2d)\n",
    "\n",
    "        signal = []\n",
    "        bkg = []\n",
    "        for i, (out_s) in enumerate(output_s):\n",
    "            signal.append([y[i], sum(out_s)])\n",
    "        for i, (out) in enumerate(output):\n",
    "            bkg.append([y[i], sum(out)])\n",
    "        signal = np.asarray(signal)\n",
    "        bkg = np.asarray(bkg)\n",
    "        bkg_ave = np.average(bkg[:,1])\n",
    "\n",
    "        N_off = []\n",
    "        N_on = []\n",
    "        temp_on = 0\n",
    "        temp_off = 0\n",
    "        alpha = 0.167\n",
    "        for i, s in enumerate(signal[:,1]):\n",
    "            b = bkg_ave\n",
    "            temp_on += (s + b)\n",
    "            temp_off += b/alpha\n",
    "            N_off.append(temp_off)\n",
    "            N_on.append(temp_on)\n",
    "\n",
    "\n",
    "        N_on = np.asarray(N_on)\n",
    "        N_off = np.asarray(N_off)\n",
    "\n",
    "        sig = LiMaSiginficance(N_on, N_off, alpha)\n",
    "        \n",
    "\n",
    "        interp_f = interp1d(sig, signal[:,0], kind = \"quadratic\")\n",
    "        thp = interp_f(max(sig))\n",
    "\n",
    "        \n",
    "        m_thp[dwarf].append([M, thp])\n",
    "\n",
    "#         bkg_avg = np.average(bkg[:,1])\n",
    "#         f, ax = plt.subplots(1,2, figsize=(10, 4))\n",
    "#         ax[0].errorbar(bkg[:,0], bkg[:,1], yerr=np.sqrt(bkg[:,1]), ls=\"\", marker=\"x\", c = \"k\", label=r\"$\\alpha$ x $N_{OFF}$\")\n",
    "#         scale = max(bkg[:,1])/max(signal[:,1])*2\n",
    "#         ax[0].errorbar(signal[:,0], signal[:,1]*scale, yerr=np.sqrt(signal[:,1]*scale), ls=\"\", c=\"b\", marker=\"x\", label=r\"$N_{S}$ ($\\sigma_\\nu$ = 10$^{-23}$) x 20\")\n",
    "#         ax[0].axhline(bkg_avg, ls=\":\", c=\"k\", alpha=0.5)\n",
    "\n",
    "#         ax[0].plot(-1, 300, label=\"Significance\", color=\"r\")\n",
    "#         ax[0].plot(-1, 300, label=r\"$\\theta^2_p$ = {:.3f} deg$^2$\".format(thp), color=\"r\", ls=\"--\", alpha=0.5)\n",
    "#         ax[0].set_xlabel(r\"$\\theta^2$ [deg$^2$]\", fontsize=12)\n",
    "#         ax[0].set_ylabel(\"Counts\", fontsize=12)\n",
    "#         ax[0].set_xlim(0,0.5)\n",
    "#         ax[0].set_ylim(0)\n",
    "# #        ax[0].set_xticks([0.01, 0.02, 0.03, 0.04])\n",
    "#         ax[0].legend(loc=5)\n",
    "#         ax[0].grid(which=\"major\", lw=0.5)\n",
    "#         ax2=ax[0].twinx()\n",
    "#         ax2.plot(signal[:,0], sig/max(sig), color=\"r\", zorder=-1, label=\"Significance\")\n",
    "#         ax2.axhline(1, color=\"r\", ls=\"--\", alpha=0.5)\n",
    "#         ax2.axvline(thp, color=\"r\", ls=\"--\", alpha=0.5)\n",
    "#         ax2.set_ylabel(\"Relative significance\", fontsize=12)\n",
    "#         ax2.set_ylim(0, 1.1)\n",
    "\n",
    "#         m_thp[dwarf] = np.asarray(m_thp[dwarf])\n",
    "#         try:\n",
    "#             ax[1].scatter(m_thp[dwarf][:,0], m_thp[dwarf][:,1])\n",
    "#         except:\n",
    "#             ax[1].scatter(m_thp[dwarf][0], m_thp[dwarf][1])\n",
    "#         ax[1].axhline(0.008, color=\"r\", ls=\":\", label=r\"$\\theta^2$ = 0.008\")\n",
    "#         ax[1].set_xlabel(\"Mass [GeV]\", fontsize=12)\n",
    "#         ax[1].set_ylabel(r\"$\\theta^2_p$ [deg$^2$]\", fontsize=12)\n",
    "#         ax[1].set_xscale(\"log\")\n",
    "#         ax[1].set_xlim(80, 5e4)\n",
    "#         ax[1].grid(which=\"major\")\n",
    "#         ax[1].grid(which=\"minor\", ls=\":\")\n",
    "#         ax[1].legend()\n",
    "#         m_thp[dwarf] =  m_thp[dwarf].tolist()\n",
    "#         plt.tight_layout()\n",
    "#         plt.savefig(\"{}.png\".format(mi))\n",
    "#         plt.show(block=False)\n",
    "\n",
    "    m_thp[dwarf] = np.asarray(m_thp[dwarf])"
   ]
  },
  {
   "cell_type": "code",
   "execution_count": 84,
   "metadata": {},
   "outputs": [
    {
     "data": {
      "text/plain": [
       "<matplotlib.legend.Legend at 0x7fe6fc587a00>"
      ]
     },
     "execution_count": 84,
     "metadata": {},
     "output_type": "execute_result"
    },
    {
     "data": {
      "image/png": "[encoded data removed]",
      "text/plain": [
       "<Figure size 432x288 with 1 Axes>"
      ]
     },
     "metadata": {
      "needs_background": "light"
     },
     "output_type": "display_data"
    }
   ],
   "source": [
    "dwarfName = [\"Segue 1\", \"Ursa Minor\", \"Draco\", \"Bootes\"]\n",
    "for i, dwarf in enumerate([\"segue_1\", \"ursa_minor\", \"draco\", \"bootes\"]):\n",
    "    m_thp[dwarf] = np.asarray(m_thp[dwarf])\n",
    "    plt.plot(m_thp[dwarf][:,0], m_thp[dwarf][:,1], label=dwarfName[i])\n",
    "\n",
    "    #plt.title(r\"Li&Ma significance\")\n",
    "    \n",
    "#plt.axhline(0.02, color=\"r\", ls=\":\", label=r\"$\\theta^2$ = 0.02\")\n",
    "plt.xlabel(\"Mass [GeV]\", fontsize=13)\n",
    "plt.ylabel(r\"$\\theta^2_p$ [deg$^2$]\", fontsize=13)\n",
    "plt.xscale(\"log\")\n",
    "#plt.yscale(\"log\")\n",
    "plt.grid(which=\"major\")\n",
    "plt.grid(which=\"minor\", ls=\":\")\n",
    "plt.legend()"
   ]
  },
  {
   "cell_type": "code",
   "execution_count": 2,
   "metadata": {},
   "outputs": [
    {
     "name": "stdout",
     "output_type": "stream",
     "text": [
      "Help on function combinedCalcSignal in module DarkMatter.Likelihood.signal:\n",
      "\n",
      "combinedCalcSignal(dwarf, M, package='EventDisplay', DM_spectra='PPPC', irf=None, jProfile=None, jArray=True, jSeed=-1, th2Cut=0, sigma=-23, channel='tt', runbyrun=False, addTheta=False, verbose=False, ideal=False, eLowerCut=None, version='all', normDisp=False, useBias=False, ext=False, **kwargs)\n",
      "\n"
     ]
    }
   ],
   "source": [
    "help(Likelihood.combinedCalcSignal)"
   ]
  },
  {
   "cell_type": "code",
   "execution_count": 10,
   "metadata": {},
   "outputs": [
    {
     "data": {
      "text/plain": [
       "0.02670000000000001"
      ]
     },
     "execution_count": 10,
     "metadata": {},
     "output_type": "execute_result"
    }
   ],
   "source": [
    "0.089**2*6/((0.5+0.089)**2-(0.5-0.089)**2)*0.1"
   ]
  },
  {
   "cell_type": "code",
   "execution_count": 5,
   "metadata": {},
   "outputs": [
    {
     "data": {
      "application/vnd.jupyter.widget-view+json": {
       "model_id": "b4f647b829cf4a5ab23ae938cea85434",
       "version_major": 2,
       "version_minor": 0
      },
      "text/plain": [
       "  0%|          | 0/3 [00:00<?, ?it/s]"
      ]
     },
     "metadata": {},
     "output_type": "display_data"
    },
    {
     "name": "stdout",
     "output_type": "stream",
     "text": [
      "200.0\n",
      "2000.0\n",
      "20000.0\n"
     ]
    },
    {
     "data": {
      "image/png": "[encoded data removed]",
      "text/plain": [
       "<Figure size 640x480 with 1 Axes>"
      ]
     },
     "metadata": {},
     "output_type": "display_data"
    }
   ],
   "source": [
    "channel = \"tt\"\n",
    "package=\"EventDisplay\"\n",
    "\n",
    "for lbi, dwarf in enumerate([\"UMa_II\"]):\n",
    "    seed = defaultNum[dwarf]\n",
    "    f, ax = plt.subplots(1, 1)\n",
    "    \n",
    "    for mi, M in enumerate(tqdm([2e2, 2e3, 2e4])):\n",
    "        print(M)\n",
    "        hg_2d = Likelihood.combinedCalcSignal(dwarf, M, package=package, jSeed=seed,\n",
    "                                              jArray=True, channel=channel, addTheta=True, \n",
    "                                              th2Cut=1, ext=True, verbose=False, useBias=True)\n",
    "        \n",
    "        output_s, x, y = getArray(hg_2d)\n",
    "\n",
    "        signal = []\n",
    "        for i, (out_s) in enumerate(output_s):\n",
    "            signal.append([y[i], sum(out_s)])\n",
    "        signal = np.asarray(signal)\n",
    "\n",
    "        cum = np.cumsum(signal[:,1])\n",
    "        #ax.plot(signal[:,0], signal[:,1]/max(signal[:,1]), label=\"M={:.1f} TeV\".format(M/1000))\n",
    "        ax.plot(signal[:,0], cum/max(cum), label=\"M={:.1f} TeV\".format(M/1000))\n",
    "\n",
    "\n",
    "#    ax.axvline(0.02, c=\"k\", ls=\":\")\n",
    "    ax.set_xlabel(r\"$\\theta^2 [deg^2]$\", fontsize=15)\n",
    "#    ax.set_ylabel(r\"Relative rate\", fontsize=15)\n",
    "    ax.set_ylabel(r\"Cumulative fraction\", fontsize=15)\n",
    "    ax.legend(fontsize=13, loc=5)\n",
    "    ax.set_title(dwarf, fontsize=15)\n",
    "    plt.axvline((0.5+0.089)**2)\n",
    "    plt.axvline((0.5-0.089)**2)\n",
    "    ax.grid()\n",
    "    plt.show(block=False)\n"
   ]
  },
  {
   "cell_type": "code",
   "execution_count": null,
   "metadata": {},
   "outputs": [],
   "source": []
  }
 ],
 "metadata": {
  "kernelspec": {
   "display_name": "Python 3 (ipykernel)",
   "language": "python",
   "name": "python3"
  },
  "language_info": {
   "codemirror_mode": {
    "name": "ipython",
    "version": 3
   },
   "file_extension": ".py",
   "mimetype": "text/x-python",
   "name": "python",
   "nbconvert_exporter": "python",
   "pygments_lexer": "ipython3",
   "version": "3.10.6"
  }
 },
 "nbformat": 4,
 "nbformat_minor": 4
}
